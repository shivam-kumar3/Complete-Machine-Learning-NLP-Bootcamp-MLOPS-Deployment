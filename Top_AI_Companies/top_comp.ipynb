{
 "cells": [
  {
   "cell_type": "markdown",
   "metadata": {},
   "source": [
    "'''About Dataset\n",
    "🏆 100 AI Companies in 2024\n",
    "This dataset was scraped from Datamation(🔗Link), containing insights into top AI firms.\n",
    "\n",
    "Columns\n",
    "\n",
    "🏢 Company Name – Name of the company\n",
    "📍 Headquarters – Location of HQ\n",
    "📅 Founded – Year of establishment\n",
    "💰 Annual Revenue – Reported revenue\n",
    "⭐ Glassdoor Score – Employee rating\n",
    "\n",
    "Possible Uses\n",
    "🔹 Data Cleaning (removing symbols, normalizing data)\n",
    "🔹 Predictive Analysis (estimating revenue trends)\n",
    "🔹 AI Industry Insights\n",
    "'''"
   ]
  },
  {
   "cell_type": "code",
   "execution_count": 1,
   "metadata": {},
   "outputs": [],
   "source": [
    "import pandas as pd \n",
    "import numpy as np\n",
    "import matplotlib.pyplot as plt "
   ]
  },
  {
   "cell_type": "code",
   "execution_count": 2,
   "metadata": {},
   "outputs": [],
   "source": [
    "df = pd.read_csv('Ai_companies.csv')"
   ]
  },
  {
   "cell_type": "code",
   "execution_count": 3,
   "metadata": {},
   "outputs": [
    {
     "data": {
      "text/html": [
       "<div>\n",
       "<style scoped>\n",
       "    .dataframe tbody tr th:only-of-type {\n",
       "        vertical-align: middle;\n",
       "    }\n",
       "\n",
       "    .dataframe tbody tr th {\n",
       "        vertical-align: top;\n",
       "    }\n",
       "\n",
       "    .dataframe thead th {\n",
       "        text-align: right;\n",
       "    }\n",
       "</style>\n",
       "<table border=\"1\" class=\"dataframe\">\n",
       "  <thead>\n",
       "    <tr style=\"text-align: right;\">\n",
       "      <th></th>\n",
       "      <th>Company Name</th>\n",
       "      <th>Description</th>\n",
       "      <th>Headquarters</th>\n",
       "      <th>Founded</th>\n",
       "      <th>Annual Revenue</th>\n",
       "      <th>Glassdoor Score</th>\n",
       "    </tr>\n",
       "  </thead>\n",
       "  <tbody>\n",
       "    <tr>\n",
       "      <th>0</th>\n",
       "      <td>Alibaba Cloud</td>\n",
       "      <td>Best for Big Data Analytics</td>\n",
       "      <td>Hangzhou, China</td>\n",
       "      <td>2009</td>\n",
       "      <td>$479.5 million</td>\n",
       "      <td>3.7/5</td>\n",
       "    </tr>\n",
       "    <tr>\n",
       "      <th>1</th>\n",
       "      <td>DataRobot</td>\n",
       "      <td>Best for Automated Machine Learning</td>\n",
       "      <td>Boston, Massachusetts</td>\n",
       "      <td>2012</td>\n",
       "      <td>$338.2 million</td>\n",
       "      <td>3.7/5</td>\n",
       "    </tr>\n",
       "    <tr>\n",
       "      <th>2</th>\n",
       "      <td>Google</td>\n",
       "      <td>Best for AI Development</td>\n",
       "      <td>Mountain View, California</td>\n",
       "      <td>1998</td>\n",
       "      <td>$305.6 billion</td>\n",
       "      <td>4.4/5</td>\n",
       "    </tr>\n",
       "    <tr>\n",
       "      <th>3</th>\n",
       "      <td>Hugging Face</td>\n",
       "      <td>Best for Deploying AI Models in the Cloud</td>\n",
       "      <td>Brooklyn, New York</td>\n",
       "      <td>2016</td>\n",
       "      <td>$40 million</td>\n",
       "      <td>4.3/5</td>\n",
       "    </tr>\n",
       "    <tr>\n",
       "      <th>4</th>\n",
       "      <td>H2O.ai</td>\n",
       "      <td>Best for Time Series Forecasting</td>\n",
       "      <td>Mountain View, California</td>\n",
       "      <td>2011</td>\n",
       "      <td>$69.2 million</td>\n",
       "      <td>3.1/5</td>\n",
       "    </tr>\n",
       "  </tbody>\n",
       "</table>\n",
       "</div>"
      ],
      "text/plain": [
       "    Company Name                                Description  \\\n",
       "0  Alibaba Cloud                Best for Big Data Analytics   \n",
       "1      DataRobot        Best for Automated Machine Learning   \n",
       "2         Google                    Best for AI Development   \n",
       "3   Hugging Face  Best for Deploying AI Models in the Cloud   \n",
       "4         H2O.ai           Best for Time Series Forecasting   \n",
       "\n",
       "                Headquarters  Founded  Annual Revenue Glassdoor Score  \n",
       "0            Hangzhou, China     2009  $479.5 million           3.7/5  \n",
       "1      Boston, Massachusetts     2012  $338.2 million           3.7/5  \n",
       "2  Mountain View, California     1998  $305.6 billion           4.4/5  \n",
       "3         Brooklyn, New York     2016     $40 million           4.3/5  \n",
       "4  Mountain View, California     2011   $69.2 million           3.1/5  "
      ]
     },
     "execution_count": 3,
     "metadata": {},
     "output_type": "execute_result"
    }
   ],
   "source": [
    "df.head()"
   ]
  },
  {
   "cell_type": "code",
   "execution_count": 4,
   "metadata": {},
   "outputs": [
    {
     "data": {
      "text/plain": [
       "(100, 6)"
      ]
     },
     "execution_count": 4,
     "metadata": {},
     "output_type": "execute_result"
    }
   ],
   "source": [
    "df.shape"
   ]
  },
  {
   "cell_type": "code",
   "execution_count": 8,
   "metadata": {},
   "outputs": [
    {
     "name": "stdout",
     "output_type": "stream",
     "text": [
      "<class 'pandas.core.frame.DataFrame'>\n",
      "RangeIndex: 100 entries, 0 to 99\n",
      "Data columns (total 6 columns):\n",
      " #   Column           Non-Null Count  Dtype \n",
      "---  ------           --------------  ----- \n",
      " 0   Company Name     100 non-null    object\n",
      " 1   Description      100 non-null    object\n",
      " 2   Headquarters     100 non-null    object\n",
      " 3   Founded          100 non-null    int64 \n",
      " 4   Annual Revenue   100 non-null    object\n",
      " 5   Glassdoor Score  98 non-null     object\n",
      "dtypes: int64(1), object(5)\n",
      "memory usage: 4.8+ KB\n"
     ]
    }
   ],
   "source": [
    "df.info()"
   ]
  },
  {
   "cell_type": "code",
   "execution_count": 11,
   "metadata": {},
   "outputs": [],
   "source": [
    "df['Company Age'] = 2025 - df['Founded']"
   ]
  },
  {
   "cell_type": "code",
   "execution_count": 12,
   "metadata": {},
   "outputs": [
    {
     "data": {
      "text/html": [
       "<div>\n",
       "<style scoped>\n",
       "    .dataframe tbody tr th:only-of-type {\n",
       "        vertical-align: middle;\n",
       "    }\n",
       "\n",
       "    .dataframe tbody tr th {\n",
       "        vertical-align: top;\n",
       "    }\n",
       "\n",
       "    .dataframe thead th {\n",
       "        text-align: right;\n",
       "    }\n",
       "</style>\n",
       "<table border=\"1\" class=\"dataframe\">\n",
       "  <thead>\n",
       "    <tr style=\"text-align: right;\">\n",
       "      <th></th>\n",
       "      <th>Company Name</th>\n",
       "      <th>Description</th>\n",
       "      <th>Headquarters</th>\n",
       "      <th>Founded</th>\n",
       "      <th>Annual Revenue</th>\n",
       "      <th>Glassdoor Score</th>\n",
       "      <th>Company Age</th>\n",
       "    </tr>\n",
       "  </thead>\n",
       "  <tbody>\n",
       "    <tr>\n",
       "      <th>0</th>\n",
       "      <td>Alibaba Cloud</td>\n",
       "      <td>Best for Big Data Analytics</td>\n",
       "      <td>Hangzhou, China</td>\n",
       "      <td>2009</td>\n",
       "      <td>$479.5 million</td>\n",
       "      <td>3.7/5</td>\n",
       "      <td>16</td>\n",
       "    </tr>\n",
       "    <tr>\n",
       "      <th>1</th>\n",
       "      <td>DataRobot</td>\n",
       "      <td>Best for Automated Machine Learning</td>\n",
       "      <td>Boston, Massachusetts</td>\n",
       "      <td>2012</td>\n",
       "      <td>$338.2 million</td>\n",
       "      <td>3.7/5</td>\n",
       "      <td>13</td>\n",
       "    </tr>\n",
       "    <tr>\n",
       "      <th>2</th>\n",
       "      <td>Google</td>\n",
       "      <td>Best for AI Development</td>\n",
       "      <td>Mountain View, California</td>\n",
       "      <td>1998</td>\n",
       "      <td>$305.6 billion</td>\n",
       "      <td>4.4/5</td>\n",
       "      <td>27</td>\n",
       "    </tr>\n",
       "    <tr>\n",
       "      <th>3</th>\n",
       "      <td>Hugging Face</td>\n",
       "      <td>Best for Deploying AI Models in the Cloud</td>\n",
       "      <td>Brooklyn, New York</td>\n",
       "      <td>2016</td>\n",
       "      <td>$40 million</td>\n",
       "      <td>4.3/5</td>\n",
       "      <td>9</td>\n",
       "    </tr>\n",
       "    <tr>\n",
       "      <th>4</th>\n",
       "      <td>H2O.ai</td>\n",
       "      <td>Best for Time Series Forecasting</td>\n",
       "      <td>Mountain View, California</td>\n",
       "      <td>2011</td>\n",
       "      <td>$69.2 million</td>\n",
       "      <td>3.1/5</td>\n",
       "      <td>14</td>\n",
       "    </tr>\n",
       "  </tbody>\n",
       "</table>\n",
       "</div>"
      ],
      "text/plain": [
       "    Company Name                                Description  \\\n",
       "0  Alibaba Cloud                Best for Big Data Analytics   \n",
       "1      DataRobot        Best for Automated Machine Learning   \n",
       "2         Google                    Best for AI Development   \n",
       "3   Hugging Face  Best for Deploying AI Models in the Cloud   \n",
       "4         H2O.ai           Best for Time Series Forecasting   \n",
       "\n",
       "                Headquarters  Founded  Annual Revenue Glassdoor Score  \\\n",
       "0            Hangzhou, China     2009  $479.5 million           3.7/5   \n",
       "1      Boston, Massachusetts     2012  $338.2 million           3.7/5   \n",
       "2  Mountain View, California     1998  $305.6 billion           4.4/5   \n",
       "3         Brooklyn, New York     2016     $40 million           4.3/5   \n",
       "4  Mountain View, California     2011   $69.2 million           3.1/5   \n",
       "\n",
       "   Company Age  \n",
       "0           16  \n",
       "1           13  \n",
       "2           27  \n",
       "3            9  \n",
       "4           14  "
      ]
     },
     "execution_count": 12,
     "metadata": {},
     "output_type": "execute_result"
    }
   ],
   "source": [
    "df.head()"
   ]
  },
  {
   "cell_type": "code",
   "execution_count": 15,
   "metadata": {},
   "outputs": [],
   "source": [
    "df['Glassdoor Score'] = df['Glassdoor Score'].str.replace('/5',\"\")"
   ]
  },
  {
   "cell_type": "code",
   "execution_count": 16,
   "metadata": {},
   "outputs": [
    {
     "data": {
      "text/html": [
       "<div>\n",
       "<style scoped>\n",
       "    .dataframe tbody tr th:only-of-type {\n",
       "        vertical-align: middle;\n",
       "    }\n",
       "\n",
       "    .dataframe tbody tr th {\n",
       "        vertical-align: top;\n",
       "    }\n",
       "\n",
       "    .dataframe thead th {\n",
       "        text-align: right;\n",
       "    }\n",
       "</style>\n",
       "<table border=\"1\" class=\"dataframe\">\n",
       "  <thead>\n",
       "    <tr style=\"text-align: right;\">\n",
       "      <th></th>\n",
       "      <th>Company Name</th>\n",
       "      <th>Description</th>\n",
       "      <th>Headquarters</th>\n",
       "      <th>Founded</th>\n",
       "      <th>Annual Revenue</th>\n",
       "      <th>Glassdoor Score</th>\n",
       "      <th>Company Age</th>\n",
       "    </tr>\n",
       "  </thead>\n",
       "  <tbody>\n",
       "    <tr>\n",
       "      <th>0</th>\n",
       "      <td>Alibaba Cloud</td>\n",
       "      <td>Best for Big Data Analytics</td>\n",
       "      <td>Hangzhou, China</td>\n",
       "      <td>2009</td>\n",
       "      <td>$479.5 million</td>\n",
       "      <td>3.7</td>\n",
       "      <td>16</td>\n",
       "    </tr>\n",
       "    <tr>\n",
       "      <th>1</th>\n",
       "      <td>DataRobot</td>\n",
       "      <td>Best for Automated Machine Learning</td>\n",
       "      <td>Boston, Massachusetts</td>\n",
       "      <td>2012</td>\n",
       "      <td>$338.2 million</td>\n",
       "      <td>3.7</td>\n",
       "      <td>13</td>\n",
       "    </tr>\n",
       "    <tr>\n",
       "      <th>2</th>\n",
       "      <td>Google</td>\n",
       "      <td>Best for AI Development</td>\n",
       "      <td>Mountain View, California</td>\n",
       "      <td>1998</td>\n",
       "      <td>$305.6 billion</td>\n",
       "      <td>4.4</td>\n",
       "      <td>27</td>\n",
       "    </tr>\n",
       "    <tr>\n",
       "      <th>3</th>\n",
       "      <td>Hugging Face</td>\n",
       "      <td>Best for Deploying AI Models in the Cloud</td>\n",
       "      <td>Brooklyn, New York</td>\n",
       "      <td>2016</td>\n",
       "      <td>$40 million</td>\n",
       "      <td>4.3</td>\n",
       "      <td>9</td>\n",
       "    </tr>\n",
       "    <tr>\n",
       "      <th>4</th>\n",
       "      <td>H2O.ai</td>\n",
       "      <td>Best for Time Series Forecasting</td>\n",
       "      <td>Mountain View, California</td>\n",
       "      <td>2011</td>\n",
       "      <td>$69.2 million</td>\n",
       "      <td>3.1</td>\n",
       "      <td>14</td>\n",
       "    </tr>\n",
       "  </tbody>\n",
       "</table>\n",
       "</div>"
      ],
      "text/plain": [
       "    Company Name                                Description  \\\n",
       "0  Alibaba Cloud                Best for Big Data Analytics   \n",
       "1      DataRobot        Best for Automated Machine Learning   \n",
       "2         Google                    Best for AI Development   \n",
       "3   Hugging Face  Best for Deploying AI Models in the Cloud   \n",
       "4         H2O.ai           Best for Time Series Forecasting   \n",
       "\n",
       "                Headquarters  Founded  Annual Revenue Glassdoor Score  \\\n",
       "0            Hangzhou, China     2009  $479.5 million             3.7   \n",
       "1      Boston, Massachusetts     2012  $338.2 million             3.7   \n",
       "2  Mountain View, California     1998  $305.6 billion             4.4   \n",
       "3         Brooklyn, New York     2016     $40 million             4.3   \n",
       "4  Mountain View, California     2011   $69.2 million             3.1   \n",
       "\n",
       "   Company Age  \n",
       "0           16  \n",
       "1           13  \n",
       "2           27  \n",
       "3            9  \n",
       "4           14  "
      ]
     },
     "execution_count": 16,
     "metadata": {},
     "output_type": "execute_result"
    }
   ],
   "source": [
    "df.head()"
   ]
  },
  {
   "cell_type": "code",
   "execution_count": 17,
   "metadata": {},
   "outputs": [
    {
     "data": {
      "text/plain": [
       "array(['3.7', '4.4', '4.3', '3.1', '3.9', nan, '3.4', '3.8', '4.1', '3.6',\n",
       "       '4.5', '3.3', '4.8', '3.2', '5-Apr', '4.6', '4.7', '3.5', '4.2',\n",
       "       '4.9', '2.9'], dtype=object)"
      ]
     },
     "execution_count": 17,
     "metadata": {},
     "output_type": "execute_result"
    }
   ],
   "source": [
    "df['Glassdoor Score'].unique()"
   ]
  },
  {
   "cell_type": "code",
   "execution_count": 18,
   "metadata": {},
   "outputs": [],
   "source": [
    "df['Glassdoor Score'] = df['Glassdoor Score'].replace('5-Apr',5)"
   ]
  },
  {
   "cell_type": "code",
   "execution_count": 19,
   "metadata": {},
   "outputs": [
    {
     "data": {
      "text/plain": [
       "array(['3.7', '4.4', '4.3', '3.1', '3.9', nan, '3.4', '3.8', '4.1', '3.6',\n",
       "       '4.5', '3.3', '4.8', '3.2', 5, '4.6', '4.7', '3.5', '4.2', '4.9',\n",
       "       '2.9'], dtype=object)"
      ]
     },
     "execution_count": 19,
     "metadata": {},
     "output_type": "execute_result"
    }
   ],
   "source": [
    "df['Glassdoor Score'].unique()"
   ]
  },
  {
   "cell_type": "code",
   "execution_count": 22,
   "metadata": {},
   "outputs": [],
   "source": [
    "df = df.dropna().reset_index(drop=True)"
   ]
  },
  {
   "cell_type": "code",
   "execution_count": 23,
   "metadata": {},
   "outputs": [
    {
     "data": {
      "text/plain": [
       "array(['3.7', '4.4', '4.3', '3.1', '3.9', '3.4', '3.8', '4.1', '3.6',\n",
       "       '4.5', '3.3', '4.8', '3.2', 5, '4.6', '4.7', '3.5', '4.2', '4.9',\n",
       "       '2.9'], dtype=object)"
      ]
     },
     "execution_count": 23,
     "metadata": {},
     "output_type": "execute_result"
    }
   ],
   "source": [
    "df['Glassdoor Score'].unique()"
   ]
  },
  {
   "cell_type": "code",
   "execution_count": 24,
   "metadata": {},
   "outputs": [
    {
     "data": {
      "text/plain": [
       "(98, 7)"
      ]
     },
     "execution_count": 24,
     "metadata": {},
     "output_type": "execute_result"
    }
   ],
   "source": [
    "df.shape"
   ]
  },
  {
   "cell_type": "code",
   "execution_count": 25,
   "metadata": {},
   "outputs": [],
   "source": [
    "# dealing with the Annual Revenue column"
   ]
  },
  {
   "cell_type": "code",
   "execution_count": 26,
   "metadata": {},
   "outputs": [
    {
     "data": {
      "text/html": [
       "<div>\n",
       "<style scoped>\n",
       "    .dataframe tbody tr th:only-of-type {\n",
       "        vertical-align: middle;\n",
       "    }\n",
       "\n",
       "    .dataframe tbody tr th {\n",
       "        vertical-align: top;\n",
       "    }\n",
       "\n",
       "    .dataframe thead th {\n",
       "        text-align: right;\n",
       "    }\n",
       "</style>\n",
       "<table border=\"1\" class=\"dataframe\">\n",
       "  <thead>\n",
       "    <tr style=\"text-align: right;\">\n",
       "      <th></th>\n",
       "      <th>Company Name</th>\n",
       "      <th>Description</th>\n",
       "      <th>Headquarters</th>\n",
       "      <th>Founded</th>\n",
       "      <th>Annual Revenue</th>\n",
       "      <th>Glassdoor Score</th>\n",
       "      <th>Company Age</th>\n",
       "    </tr>\n",
       "  </thead>\n",
       "  <tbody>\n",
       "    <tr>\n",
       "      <th>0</th>\n",
       "      <td>Alibaba Cloud</td>\n",
       "      <td>Best for Big Data Analytics</td>\n",
       "      <td>Hangzhou, China</td>\n",
       "      <td>2009</td>\n",
       "      <td>$479.5 million</td>\n",
       "      <td>3.7</td>\n",
       "      <td>16</td>\n",
       "    </tr>\n",
       "    <tr>\n",
       "      <th>1</th>\n",
       "      <td>DataRobot</td>\n",
       "      <td>Best for Automated Machine Learning</td>\n",
       "      <td>Boston, Massachusetts</td>\n",
       "      <td>2012</td>\n",
       "      <td>$338.2 million</td>\n",
       "      <td>3.7</td>\n",
       "      <td>13</td>\n",
       "    </tr>\n",
       "    <tr>\n",
       "      <th>2</th>\n",
       "      <td>Google</td>\n",
       "      <td>Best for AI Development</td>\n",
       "      <td>Mountain View, California</td>\n",
       "      <td>1998</td>\n",
       "      <td>$305.6 billion</td>\n",
       "      <td>4.4</td>\n",
       "      <td>27</td>\n",
       "    </tr>\n",
       "    <tr>\n",
       "      <th>3</th>\n",
       "      <td>Hugging Face</td>\n",
       "      <td>Best for Deploying AI Models in the Cloud</td>\n",
       "      <td>Brooklyn, New York</td>\n",
       "      <td>2016</td>\n",
       "      <td>$40 million</td>\n",
       "      <td>4.3</td>\n",
       "      <td>9</td>\n",
       "    </tr>\n",
       "    <tr>\n",
       "      <th>4</th>\n",
       "      <td>H2O.ai</td>\n",
       "      <td>Best for Time Series Forecasting</td>\n",
       "      <td>Mountain View, California</td>\n",
       "      <td>2011</td>\n",
       "      <td>$69.2 million</td>\n",
       "      <td>3.1</td>\n",
       "      <td>14</td>\n",
       "    </tr>\n",
       "  </tbody>\n",
       "</table>\n",
       "</div>"
      ],
      "text/plain": [
       "    Company Name                                Description  \\\n",
       "0  Alibaba Cloud                Best for Big Data Analytics   \n",
       "1      DataRobot        Best for Automated Machine Learning   \n",
       "2         Google                    Best for AI Development   \n",
       "3   Hugging Face  Best for Deploying AI Models in the Cloud   \n",
       "4         H2O.ai           Best for Time Series Forecasting   \n",
       "\n",
       "                Headquarters  Founded  Annual Revenue Glassdoor Score  \\\n",
       "0            Hangzhou, China     2009  $479.5 million             3.7   \n",
       "1      Boston, Massachusetts     2012  $338.2 million             3.7   \n",
       "2  Mountain View, California     1998  $305.6 billion             4.4   \n",
       "3         Brooklyn, New York     2016     $40 million             4.3   \n",
       "4  Mountain View, California     2011   $69.2 million             3.1   \n",
       "\n",
       "   Company Age  \n",
       "0           16  \n",
       "1           13  \n",
       "2           27  \n",
       "3            9  \n",
       "4           14  "
      ]
     },
     "execution_count": 26,
     "metadata": {},
     "output_type": "execute_result"
    }
   ],
   "source": [
    "df.head()"
   ]
  },
  {
   "cell_type": "code",
   "execution_count": 27,
   "metadata": {},
   "outputs": [],
   "source": [
    "df['Annual Revenue'] = df['Annual Revenue'].replace('$','')"
   ]
  },
  {
   "cell_type": "code",
   "execution_count": 34,
   "metadata": {},
   "outputs": [],
   "source": [
    "\n",
    "pd.reset_option(\"display.max_rows\")  # Reset to default\n",
    "\n"
   ]
  },
  {
   "cell_type": "code",
   "execution_count": 35,
   "metadata": {},
   "outputs": [
    {
     "data": {
      "text/html": [
       "<div>\n",
       "<style scoped>\n",
       "    .dataframe tbody tr th:only-of-type {\n",
       "        vertical-align: middle;\n",
       "    }\n",
       "\n",
       "    .dataframe tbody tr th {\n",
       "        vertical-align: top;\n",
       "    }\n",
       "\n",
       "    .dataframe thead th {\n",
       "        text-align: right;\n",
       "    }\n",
       "</style>\n",
       "<table border=\"1\" class=\"dataframe\">\n",
       "  <thead>\n",
       "    <tr style=\"text-align: right;\">\n",
       "      <th></th>\n",
       "      <th>Company Name</th>\n",
       "      <th>Description</th>\n",
       "      <th>Headquarters</th>\n",
       "      <th>Founded</th>\n",
       "      <th>Annual Revenue</th>\n",
       "      <th>Glassdoor Score</th>\n",
       "      <th>Company Age</th>\n",
       "    </tr>\n",
       "  </thead>\n",
       "  <tbody>\n",
       "    <tr>\n",
       "      <th>0</th>\n",
       "      <td>Alibaba Cloud</td>\n",
       "      <td>Best for Big Data Analytics</td>\n",
       "      <td>Hangzhou, China</td>\n",
       "      <td>2009</td>\n",
       "      <td>$479.5 million</td>\n",
       "      <td>3.7</td>\n",
       "      <td>16</td>\n",
       "    </tr>\n",
       "    <tr>\n",
       "      <th>1</th>\n",
       "      <td>DataRobot</td>\n",
       "      <td>Best for Automated Machine Learning</td>\n",
       "      <td>Boston, Massachusetts</td>\n",
       "      <td>2012</td>\n",
       "      <td>$338.2 million</td>\n",
       "      <td>3.7</td>\n",
       "      <td>13</td>\n",
       "    </tr>\n",
       "    <tr>\n",
       "      <th>2</th>\n",
       "      <td>Google</td>\n",
       "      <td>Best for AI Development</td>\n",
       "      <td>Mountain View, California</td>\n",
       "      <td>1998</td>\n",
       "      <td>$305.6 billion</td>\n",
       "      <td>4.4</td>\n",
       "      <td>27</td>\n",
       "    </tr>\n",
       "    <tr>\n",
       "      <th>3</th>\n",
       "      <td>Hugging Face</td>\n",
       "      <td>Best for Deploying AI Models in the Cloud</td>\n",
       "      <td>Brooklyn, New York</td>\n",
       "      <td>2016</td>\n",
       "      <td>$40 million</td>\n",
       "      <td>4.3</td>\n",
       "      <td>9</td>\n",
       "    </tr>\n",
       "    <tr>\n",
       "      <th>4</th>\n",
       "      <td>H2O.ai</td>\n",
       "      <td>Best for Time Series Forecasting</td>\n",
       "      <td>Mountain View, California</td>\n",
       "      <td>2011</td>\n",
       "      <td>$69.2 million</td>\n",
       "      <td>3.1</td>\n",
       "      <td>14</td>\n",
       "    </tr>\n",
       "    <tr>\n",
       "      <th>...</th>\n",
       "      <td>...</td>\n",
       "      <td>...</td>\n",
       "      <td>...</td>\n",
       "      <td>...</td>\n",
       "      <td>...</td>\n",
       "      <td>...</td>\n",
       "      <td>...</td>\n",
       "    </tr>\n",
       "    <tr>\n",
       "      <th>93</th>\n",
       "      <td>Nuro</td>\n",
       "      <td>Best for Driverless Operation</td>\n",
       "      <td>Mountain View, California</td>\n",
       "      <td>2016</td>\n",
       "      <td>$438.8 million</td>\n",
       "      <td>3.8</td>\n",
       "      <td>9</td>\n",
       "    </tr>\n",
       "    <tr>\n",
       "      <th>94</th>\n",
       "      <td>Pony.ai</td>\n",
       "      <td>Best for Robotruck Development</td>\n",
       "      <td>Fremont, California</td>\n",
       "      <td>2016</td>\n",
       "      <td>$100 million</td>\n",
       "      <td>3.4</td>\n",
       "      <td>9</td>\n",
       "    </tr>\n",
       "    <tr>\n",
       "      <th>95</th>\n",
       "      <td>Tesla</td>\n",
       "      <td>Best for Electric Vehicles</td>\n",
       "      <td>Austin, Texas</td>\n",
       "      <td>2003</td>\n",
       "      <td>$96.77 billion</td>\n",
       "      <td>3.6</td>\n",
       "      <td>22</td>\n",
       "    </tr>\n",
       "    <tr>\n",
       "      <th>96</th>\n",
       "      <td>Waymo</td>\n",
       "      <td>Best for Experience and Testing</td>\n",
       "      <td>Mountain View, California</td>\n",
       "      <td>2016</td>\n",
       "      <td>$1.4 billion</td>\n",
       "      <td>3.7</td>\n",
       "      <td>9</td>\n",
       "    </tr>\n",
       "    <tr>\n",
       "      <th>97</th>\n",
       "      <td>Zoox</td>\n",
       "      <td>Best for Robotaxi Services</td>\n",
       "      <td>Foster City, California</td>\n",
       "      <td>2014</td>\n",
       "      <td>$897.1 million</td>\n",
       "      <td>3.9</td>\n",
       "      <td>11</td>\n",
       "    </tr>\n",
       "  </tbody>\n",
       "</table>\n",
       "<p>98 rows × 7 columns</p>\n",
       "</div>"
      ],
      "text/plain": [
       "     Company Name                                Description  \\\n",
       "0   Alibaba Cloud                Best for Big Data Analytics   \n",
       "1       DataRobot        Best for Automated Machine Learning   \n",
       "2          Google                    Best for AI Development   \n",
       "3    Hugging Face  Best for Deploying AI Models in the Cloud   \n",
       "4          H2O.ai           Best for Time Series Forecasting   \n",
       "..            ...                                        ...   \n",
       "93           Nuro              Best for Driverless Operation   \n",
       "94        Pony.ai             Best for Robotruck Development   \n",
       "95          Tesla                 Best for Electric Vehicles   \n",
       "96          Waymo            Best for Experience and Testing   \n",
       "97           Zoox                 Best for Robotaxi Services   \n",
       "\n",
       "                 Headquarters  Founded  Annual Revenue Glassdoor Score  \\\n",
       "0             Hangzhou, China     2009  $479.5 million             3.7   \n",
       "1       Boston, Massachusetts     2012  $338.2 million             3.7   \n",
       "2   Mountain View, California     1998  $305.6 billion             4.4   \n",
       "3          Brooklyn, New York     2016     $40 million             4.3   \n",
       "4   Mountain View, California     2011   $69.2 million             3.1   \n",
       "..                        ...      ...             ...             ...   \n",
       "93  Mountain View, California     2016  $438.8 million             3.8   \n",
       "94        Fremont, California     2016    $100 million             3.4   \n",
       "95              Austin, Texas     2003  $96.77 billion             3.6   \n",
       "96  Mountain View, California     2016    $1.4 billion             3.7   \n",
       "97    Foster City, California     2014  $897.1 million             3.9   \n",
       "\n",
       "    Company Age  \n",
       "0            16  \n",
       "1            13  \n",
       "2            27  \n",
       "3             9  \n",
       "4            14  \n",
       "..          ...  \n",
       "93            9  \n",
       "94            9  \n",
       "95           22  \n",
       "96            9  \n",
       "97           11  \n",
       "\n",
       "[98 rows x 7 columns]"
      ]
     },
     "execution_count": 35,
     "metadata": {},
     "output_type": "execute_result"
    }
   ],
   "source": [
    "df"
   ]
  },
  {
   "cell_type": "code",
   "execution_count": null,
   "metadata": {},
   "outputs": [],
   "source": []
  }
 ],
 "metadata": {
  "kernelspec": {
   "display_name": "Python 3",
   "language": "python",
   "name": "python3"
  },
  "language_info": {
   "codemirror_mode": {
    "name": "ipython",
    "version": 3
   },
   "file_extension": ".py",
   "mimetype": "text/x-python",
   "name": "python",
   "nbconvert_exporter": "python",
   "pygments_lexer": "ipython3",
   "version": "3.12.5"
  }
 },
 "nbformat": 4,
 "nbformat_minor": 2
}
