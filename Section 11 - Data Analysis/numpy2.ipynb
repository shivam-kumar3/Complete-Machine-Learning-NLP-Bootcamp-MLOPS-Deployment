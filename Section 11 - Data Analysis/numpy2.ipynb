{
 "cells": [
  {
   "cell_type": "code",
   "execution_count": 468,
   "id": "97dbac09",
   "metadata": {},
   "outputs": [],
   "source": [
    "import numpy as np"
   ]
  },
  {
   "cell_type": "code",
   "execution_count": 469,
   "id": "1d2ed867",
   "metadata": {},
   "outputs": [],
   "source": [
    "lst = np.array([1,2,3,4])"
   ]
  },
  {
   "cell_type": "code",
   "execution_count": 470,
   "id": "73c1e35c",
   "metadata": {},
   "outputs": [
    {
     "data": {
      "text/plain": [
       "array([2, 4, 6, 8])"
      ]
     },
     "execution_count": 470,
     "metadata": {},
     "output_type": "execute_result"
    }
   ],
   "source": [
    "lst * 2"
   ]
  },
  {
   "cell_type": "code",
   "execution_count": 471,
   "id": "f4cee1f3",
   "metadata": {},
   "outputs": [
    {
     "data": {
      "text/plain": [
       "array(['1', '2', '4', 'shivam'], dtype='<U21')"
      ]
     },
     "execution_count": 471,
     "metadata": {},
     "output_type": "execute_result"
    }
   ],
   "source": [
    "a = [1,2,4,'shivam']\n",
    "np.array(a)"
   ]
  },
  {
   "cell_type": "code",
   "execution_count": 472,
   "id": "cbe4ea24",
   "metadata": {},
   "outputs": [],
   "source": [
    "b = [[1,2,3,4],[5,6,7,8],[9,10,11,13]]"
   ]
  },
  {
   "cell_type": "code",
   "execution_count": 473,
   "id": "64957177",
   "metadata": {},
   "outputs": [
    {
     "data": {
      "text/plain": [
       "[[1, 2, 3, 4], [5, 6, 7, 8], [9, 10, 11, 13]]"
      ]
     },
     "execution_count": 473,
     "metadata": {},
     "output_type": "execute_result"
    }
   ],
   "source": [
    "b"
   ]
  },
  {
   "cell_type": "code",
   "execution_count": 474,
   "id": "cd15449d",
   "metadata": {},
   "outputs": [],
   "source": [
    "new = np.array([b])"
   ]
  },
  {
   "cell_type": "code",
   "execution_count": 475,
   "id": "7f116167",
   "metadata": {},
   "outputs": [
    {
     "data": {
      "text/plain": [
       "array([[[ 1,  2,  3,  4],\n",
       "        [ 5,  6,  7,  8],\n",
       "        [ 9, 10, 11, 13]]])"
      ]
     },
     "execution_count": 475,
     "metadata": {},
     "output_type": "execute_result"
    }
   ],
   "source": [
    "new"
   ]
  },
  {
   "cell_type": "code",
   "execution_count": 476,
   "id": "dd7e9ca9",
   "metadata": {},
   "outputs": [
    {
     "data": {
      "text/plain": [
       "np.int64(7)"
      ]
     },
     "execution_count": 476,
     "metadata": {},
     "output_type": "execute_result"
    }
   ],
   "source": [
    "new[0,1,2]"
   ]
  },
  {
   "cell_type": "code",
   "execution_count": 477,
   "id": "9f3a62d9",
   "metadata": {},
   "outputs": [
    {
     "data": {
      "text/plain": [
       "array([1.98842404e-01, 7.11341953e-01, 7.90175541e-01, 6.05959975e-01,\n",
       "       9.26300879e-01, 6.51077026e-01, 9.14959676e-01, 8.50038578e-01,\n",
       "       4.49450674e-01, 9.54101165e-02, 3.70818252e-01, 6.68841253e-01,\n",
       "       6.65922357e-01, 5.91297788e-01, 2.74721793e-01, 5.61243426e-01,\n",
       "       3.82926875e-01, 9.71712095e-01, 8.48913824e-01, 7.21729521e-01,\n",
       "       2.35984920e-01, 2.56068323e-01, 4.04335895e-02, 7.10662890e-01,\n",
       "       1.10890821e-01, 4.39336502e-01, 2.01719202e-01, 8.95763596e-01,\n",
       "       4.75370223e-01, 5.63275572e-01, 6.95516086e-01, 1.39331454e-01,\n",
       "       6.04417379e-01, 5.39841091e-01, 2.03061225e-01, 9.42853571e-01,\n",
       "       5.98865466e-01, 6.94784933e-01, 8.80467839e-01, 6.24354048e-01,\n",
       "       2.95633686e-01, 1.05494260e-01, 4.56534570e-01, 2.18440437e-01,\n",
       "       4.16509948e-01, 8.83280259e-01, 3.24345021e-01, 1.22087955e-01,\n",
       "       3.56297838e-01, 9.06828442e-01, 2.72132249e-01, 6.47690121e-01,\n",
       "       5.20376995e-04, 3.52568856e-01, 3.04781258e-01, 1.64655853e-01,\n",
       "       5.34089419e-01, 4.84829971e-01, 6.92436033e-01, 2.69412334e-01,\n",
       "       2.44125522e-01, 1.68291042e-01, 2.18764220e-01, 5.58102002e-01,\n",
       "       4.03836171e-01, 6.48922471e-02, 2.53915414e-01, 2.46876063e-01,\n",
       "       6.96304273e-01, 7.12270590e-01, 1.48086930e-01, 9.97740485e-01,\n",
       "       2.66781014e-01, 9.76614956e-01, 4.11037013e-01, 3.30507329e-02,\n",
       "       3.45071248e-01, 6.34351345e-01, 6.80705452e-01, 5.30934583e-01,\n",
       "       4.47783165e-01, 5.52893089e-01, 5.92696724e-01, 8.08533263e-02,\n",
       "       3.69654456e-01, 2.42159938e-01, 8.03139756e-01, 4.70300634e-01,\n",
       "       9.83423141e-01, 3.98824442e-01, 8.16431873e-01, 7.98345125e-01,\n",
       "       1.50717544e-01, 5.08198777e-01, 6.95812807e-01, 8.58358805e-01,\n",
       "       3.25958905e-01, 2.20241048e-01, 7.11149532e-01, 8.09501046e-01])"
      ]
     },
     "execution_count": 477,
     "metadata": {},
     "output_type": "execute_result"
    }
   ],
   "source": [
    "np.random.rand(100)"
   ]
  },
  {
   "cell_type": "code",
   "execution_count": 478,
   "id": "a0bb98ff",
   "metadata": {},
   "outputs": [],
   "source": [
    "num = np.arange(1,11)"
   ]
  },
  {
   "cell_type": "code",
   "execution_count": 479,
   "id": "f3bfcc3e",
   "metadata": {},
   "outputs": [
    {
     "data": {
      "text/plain": [
       "numpy.ndarray"
      ]
     },
     "execution_count": 479,
     "metadata": {},
     "output_type": "execute_result"
    }
   ],
   "source": [
    "type(num)"
   ]
  },
  {
   "cell_type": "code",
   "execution_count": 480,
   "id": "b6bc892f",
   "metadata": {},
   "outputs": [
    {
     "data": {
      "text/plain": [
       "array([[0., 0., 0., 0., 0., 0., 0., 0., 0.],\n",
       "       [0., 0., 0., 0., 0., 0., 0., 0., 0.]])"
      ]
     },
     "execution_count": 480,
     "metadata": {},
     "output_type": "execute_result"
    }
   ],
   "source": [
    "arr = np.zeros((2,9))\n",
    "arr"
   ]
  },
  {
   "cell_type": "code",
   "execution_count": 481,
   "id": "cc8c1d15",
   "metadata": {},
   "outputs": [
    {
     "data": {
      "text/plain": [
       "array([[1., 1., 1.],\n",
       "       [1., 1., 1.]])"
      ]
     },
     "execution_count": 481,
     "metadata": {},
     "output_type": "execute_result"
    }
   ],
   "source": [
    "np.ones((2,3))"
   ]
  },
  {
   "cell_type": "code",
   "execution_count": 482,
   "id": "912bd09e",
   "metadata": {},
   "outputs": [
    {
     "data": {
      "text/plain": [
       "array([ 1.        ,  1.09090909,  1.18181818,  1.27272727,  1.36363636,\n",
       "        1.45454545,  1.54545455,  1.63636364,  1.72727273,  1.81818182,\n",
       "        1.90909091,  2.        ,  2.09090909,  2.18181818,  2.27272727,\n",
       "        2.36363636,  2.45454545,  2.54545455,  2.63636364,  2.72727273,\n",
       "        2.81818182,  2.90909091,  3.        ,  3.09090909,  3.18181818,\n",
       "        3.27272727,  3.36363636,  3.45454545,  3.54545455,  3.63636364,\n",
       "        3.72727273,  3.81818182,  3.90909091,  4.        ,  4.09090909,\n",
       "        4.18181818,  4.27272727,  4.36363636,  4.45454545,  4.54545455,\n",
       "        4.63636364,  4.72727273,  4.81818182,  4.90909091,  5.        ,\n",
       "        5.09090909,  5.18181818,  5.27272727,  5.36363636,  5.45454545,\n",
       "        5.54545455,  5.63636364,  5.72727273,  5.81818182,  5.90909091,\n",
       "        6.        ,  6.09090909,  6.18181818,  6.27272727,  6.36363636,\n",
       "        6.45454545,  6.54545455,  6.63636364,  6.72727273,  6.81818182,\n",
       "        6.90909091,  7.        ,  7.09090909,  7.18181818,  7.27272727,\n",
       "        7.36363636,  7.45454545,  7.54545455,  7.63636364,  7.72727273,\n",
       "        7.81818182,  7.90909091,  8.        ,  8.09090909,  8.18181818,\n",
       "        8.27272727,  8.36363636,  8.45454545,  8.54545455,  8.63636364,\n",
       "        8.72727273,  8.81818182,  8.90909091,  9.        ,  9.09090909,\n",
       "        9.18181818,  9.27272727,  9.36363636,  9.45454545,  9.54545455,\n",
       "        9.63636364,  9.72727273,  9.81818182,  9.90909091, 10.        ])"
      ]
     },
     "execution_count": 482,
     "metadata": {},
     "output_type": "execute_result"
    }
   ],
   "source": [
    "np.linspace(1,10,100)"
   ]
  },
  {
   "cell_type": "code",
   "execution_count": 483,
   "id": "8fb4621b",
   "metadata": {},
   "outputs": [
    {
     "data": {
      "text/plain": [
       "array([1, 1, 0, 1, 0, 0, 1, 1, 0, 1, 1, 0, 0, 1, 0, 0, 1, 0, 0, 1, 1, 0,\n",
       "       0, 1, 1, 1, 1, 0, 1, 1, 0, 1, 0, 1, 1, 1, 0, 0, 1, 0, 0, 0, 0, 0,\n",
       "       0, 1, 1, 0, 1, 1, 1, 1, 0, 1, 1, 0, 0, 1, 1, 1, 1, 1, 1, 0, 1, 1,\n",
       "       0, 0, 0, 0, 1, 1, 1, 1, 1, 1, 0, 1, 0, 0, 1, 0, 1, 0, 1, 0, 1, 1,\n",
       "       1, 1, 1, 0, 0, 0, 1, 0, 1, 1, 0, 0], dtype=int32)"
      ]
     },
     "execution_count": 483,
     "metadata": {},
     "output_type": "execute_result"
    }
   ],
   "source": [
    "x = np.random.randint(0,2,100)\n",
    "x"
   ]
  },
  {
   "cell_type": "code",
   "execution_count": 484,
   "id": "092ea06e",
   "metadata": {},
   "outputs": [],
   "source": [
    "f1 = np.random.rand(100)\n",
    "f2 = np.random.rand(100) * 10\n",
    "f3 = np.random.randint(0,100,100)\n",
    "np.random.seed(42)\n"
   ]
  },
  {
   "cell_type": "code",
   "execution_count": 485,
   "id": "bd080bd7",
   "metadata": {},
   "outputs": [],
   "source": [
    "import pandas as pd "
   ]
  },
  {
   "cell_type": "code",
   "execution_count": 486,
   "id": "40e368af",
   "metadata": {},
   "outputs": [],
   "source": [
    "df = pd.DataFrame({\"F1\":f1,\"F2\":f2,\"F3\":f3,\"Output\":x})"
   ]
  },
  {
   "cell_type": "code",
   "execution_count": 487,
   "id": "ac5430a9",
   "metadata": {},
   "outputs": [
    {
     "data": {
      "text/html": [
       "<div>\n",
       "<style scoped>\n",
       "    .dataframe tbody tr th:only-of-type {\n",
       "        vertical-align: middle;\n",
       "    }\n",
       "\n",
       "    .dataframe tbody tr th {\n",
       "        vertical-align: top;\n",
       "    }\n",
       "\n",
       "    .dataframe thead th {\n",
       "        text-align: right;\n",
       "    }\n",
       "</style>\n",
       "<table border=\"1\" class=\"dataframe\">\n",
       "  <thead>\n",
       "    <tr style=\"text-align: right;\">\n",
       "      <th></th>\n",
       "      <th>F1</th>\n",
       "      <th>F2</th>\n",
       "      <th>F3</th>\n",
       "      <th>Output</th>\n",
       "    </tr>\n",
       "  </thead>\n",
       "  <tbody>\n",
       "    <tr>\n",
       "      <th>0</th>\n",
       "      <td>0.636333</td>\n",
       "      <td>6.382706</td>\n",
       "      <td>57</td>\n",
       "      <td>1</td>\n",
       "    </tr>\n",
       "    <tr>\n",
       "      <th>1</th>\n",
       "      <td>0.250462</td>\n",
       "      <td>5.166963</td>\n",
       "      <td>38</td>\n",
       "      <td>1</td>\n",
       "    </tr>\n",
       "    <tr>\n",
       "      <th>2</th>\n",
       "      <td>0.589871</td>\n",
       "      <td>6.571113</td>\n",
       "      <td>13</td>\n",
       "      <td>0</td>\n",
       "    </tr>\n",
       "    <tr>\n",
       "      <th>3</th>\n",
       "      <td>0.978893</td>\n",
       "      <td>4.356729</td>\n",
       "      <td>94</td>\n",
       "      <td>1</td>\n",
       "    </tr>\n",
       "    <tr>\n",
       "      <th>4</th>\n",
       "      <td>0.486742</td>\n",
       "      <td>7.300393</td>\n",
       "      <td>4</td>\n",
       "      <td>0</td>\n",
       "    </tr>\n",
       "    <tr>\n",
       "      <th>...</th>\n",
       "      <td>...</td>\n",
       "      <td>...</td>\n",
       "      <td>...</td>\n",
       "      <td>...</td>\n",
       "    </tr>\n",
       "    <tr>\n",
       "      <th>95</th>\n",
       "      <td>0.442352</td>\n",
       "      <td>2.127279</td>\n",
       "      <td>15</td>\n",
       "      <td>0</td>\n",
       "    </tr>\n",
       "    <tr>\n",
       "      <th>96</th>\n",
       "      <td>0.239787</td>\n",
       "      <td>9.461945</td>\n",
       "      <td>86</td>\n",
       "      <td>1</td>\n",
       "    </tr>\n",
       "    <tr>\n",
       "      <th>97</th>\n",
       "      <td>0.093873</td>\n",
       "      <td>7.812961</td>\n",
       "      <td>56</td>\n",
       "      <td>1</td>\n",
       "    </tr>\n",
       "    <tr>\n",
       "      <th>98</th>\n",
       "      <td>0.182866</td>\n",
       "      <td>1.134646</td>\n",
       "      <td>74</td>\n",
       "      <td>0</td>\n",
       "    </tr>\n",
       "    <tr>\n",
       "      <th>99</th>\n",
       "      <td>0.934614</td>\n",
       "      <td>9.309291</td>\n",
       "      <td>11</td>\n",
       "      <td>0</td>\n",
       "    </tr>\n",
       "  </tbody>\n",
       "</table>\n",
       "<p>100 rows × 4 columns</p>\n",
       "</div>"
      ],
      "text/plain": [
       "          F1        F2  F3  Output\n",
       "0   0.636333  6.382706  57       1\n",
       "1   0.250462  5.166963  38       1\n",
       "2   0.589871  6.571113  13       0\n",
       "3   0.978893  4.356729  94       1\n",
       "4   0.486742  7.300393   4       0\n",
       "..       ...       ...  ..     ...\n",
       "95  0.442352  2.127279  15       0\n",
       "96  0.239787  9.461945  86       1\n",
       "97  0.093873  7.812961  56       1\n",
       "98  0.182866  1.134646  74       0\n",
       "99  0.934614  9.309291  11       0\n",
       "\n",
       "[100 rows x 4 columns]"
      ]
     },
     "execution_count": 487,
     "metadata": {},
     "output_type": "execute_result"
    }
   ],
   "source": [
    "df"
   ]
  },
  {
   "cell_type": "code",
   "execution_count": 488,
   "id": "bd2b2742",
   "metadata": {},
   "outputs": [
    {
     "data": {
      "text/plain": [
       "array([0.37454012, 0.95071431, 0.73199394, 0.59865848, 0.15601864,\n",
       "       0.15599452, 0.05808361, 0.86617615, 0.60111501, 0.70807258,\n",
       "       0.02058449, 0.96990985, 0.83244264, 0.21233911, 0.18182497,\n",
       "       0.18340451, 0.30424224, 0.52475643, 0.43194502, 0.29122914])"
      ]
     },
     "execution_count": 488,
     "metadata": {},
     "output_type": "execute_result"
    }
   ],
   "source": [
    "np.random.rand(20) #generate the number between 0 to 1"
   ]
  },
  {
   "cell_type": "code",
   "execution_count": 489,
   "id": "c46a373f",
   "metadata": {},
   "outputs": [
    {
     "data": {
      "text/plain": [
       "array([-1.01283112,  0.31424733, -0.90802408, -1.4123037 ,  1.46564877,\n",
       "       -0.2257763 ,  0.0675282 , -1.42474819, -0.54438272,  0.11092259,\n",
       "       -1.15099358,  0.37569802, -0.60063869, -0.29169375, -0.60170661,\n",
       "        1.85227818, -0.01349722, -1.05771093,  0.82254491])"
      ]
     },
     "execution_count": 489,
     "metadata": {},
     "output_type": "execute_result"
    }
   ],
   "source": [
    "np.random.randn(19) # generate the number bw -3 to 3"
   ]
  },
  {
   "cell_type": "code",
   "execution_count": 490,
   "id": "df496efd",
   "metadata": {},
   "outputs": [
    {
     "data": {
      "text/plain": [
       "array([11, 15, 19, 13, 27, 21, 11, 19, 13, 23, 25, 24, 17, 23, 17, 25, 22,\n",
       "       27, 24, 22, 18, 24, 22, 10, 16, 18, 10, 21, 17, 20], dtype=int32)"
      ]
     },
     "execution_count": 490,
     "metadata": {},
     "output_type": "execute_result"
    }
   ],
   "source": [
    "np.random.randint(10,29,30) #generate 30 numbers bw 10 to 29 "
   ]
  },
  {
   "cell_type": "code",
   "execution_count": 491,
   "id": "ca3488e0",
   "metadata": {},
   "outputs": [],
   "source": [
    "# array attributes \n",
    "\n",
    "# Attributes are the variables inside a class \n",
    "# Methods are the functions inside the class"
   ]
  },
  {
   "cell_type": "code",
   "execution_count": 492,
   "id": "13b51bce",
   "metadata": {},
   "outputs": [],
   "source": [
    "arr = np.array([[1,2,3],[4,5,6],[7,8,9]])"
   ]
  },
  {
   "cell_type": "code",
   "execution_count": 493,
   "id": "224d1b23",
   "metadata": {},
   "outputs": [
    {
     "data": {
      "text/plain": [
       "array([[1, 2, 3],\n",
       "       [4, 5, 6],\n",
       "       [7, 8, 9]])"
      ]
     },
     "execution_count": 493,
     "metadata": {},
     "output_type": "execute_result"
    }
   ],
   "source": [
    "arr"
   ]
  },
  {
   "cell_type": "code",
   "execution_count": 494,
   "id": "c053b113",
   "metadata": {},
   "outputs": [
    {
     "data": {
      "text/plain": [
       "(3, 3)"
      ]
     },
     "execution_count": 494,
     "metadata": {},
     "output_type": "execute_result"
    }
   ],
   "source": [
    "arr.shape"
   ]
  },
  {
   "cell_type": "code",
   "execution_count": 495,
   "id": "bb48a857",
   "metadata": {},
   "outputs": [
    {
     "data": {
      "text/plain": [
       "np.int64(1)"
      ]
     },
     "execution_count": 495,
     "metadata": {},
     "output_type": "execute_result"
    }
   ],
   "source": [
    "arr.min()"
   ]
  },
  {
   "cell_type": "code",
   "execution_count": 496,
   "id": "b6753c8f",
   "metadata": {},
   "outputs": [
    {
     "data": {
      "text/plain": [
       "np.int64(9)"
      ]
     },
     "execution_count": 496,
     "metadata": {},
     "output_type": "execute_result"
    }
   ],
   "source": [
    "arr.max()"
   ]
  },
  {
   "cell_type": "code",
   "execution_count": 497,
   "id": "0d6294e0",
   "metadata": {},
   "outputs": [
    {
     "data": {
      "text/plain": [
       "np.int64(45)"
      ]
     },
     "execution_count": 497,
     "metadata": {},
     "output_type": "execute_result"
    }
   ],
   "source": [
    "arr.sum()"
   ]
  },
  {
   "cell_type": "code",
   "execution_count": 498,
   "id": "dec2df70",
   "metadata": {},
   "outputs": [
    {
     "name": "stdout",
     "output_type": "stream",
     "text": [
      "[12 15 18]\n",
      "[ 6 15 24]\n"
     ]
    }
   ],
   "source": [
    "print(arr.sum(0)) # this will sum column wise\n",
    "print(arr.sum(1)) #this will sum row wise"
   ]
  },
  {
   "cell_type": "code",
   "execution_count": 499,
   "id": "db0c42b9",
   "metadata": {},
   "outputs": [
    {
     "data": {
      "text/plain": [
       "array([ 6, 15, 24])"
      ]
     },
     "execution_count": 499,
     "metadata": {},
     "output_type": "execute_result"
    }
   ],
   "source": [
    "np.sum(arr,axis=1)"
   ]
  },
  {
   "cell_type": "code",
   "execution_count": 500,
   "id": "95284a21",
   "metadata": {},
   "outputs": [
    {
     "data": {
      "text/plain": [
       "5"
      ]
     },
     "execution_count": 500,
     "metadata": {},
     "output_type": "execute_result"
    }
   ],
   "source": [
    "int(arr.mean())"
   ]
  },
  {
   "cell_type": "code",
   "execution_count": 501,
   "id": "197ad6f7",
   "metadata": {},
   "outputs": [
    {
     "data": {
      "text/plain": [
       "np.float64(2.581988897471611)"
      ]
     },
     "execution_count": 501,
     "metadata": {},
     "output_type": "execute_result"
    }
   ],
   "source": [
    "arr.std()"
   ]
  },
  {
   "cell_type": "code",
   "execution_count": 502,
   "id": "919d033d",
   "metadata": {},
   "outputs": [
    {
     "data": {
      "text/plain": [
       "np.int64(8)"
      ]
     },
     "execution_count": 502,
     "metadata": {},
     "output_type": "execute_result"
    }
   ],
   "source": [
    "arr.argmax() # this will tell you the index value of the max element"
   ]
  },
  {
   "cell_type": "code",
   "execution_count": 503,
   "id": "626dfaf9",
   "metadata": {},
   "outputs": [
    {
     "data": {
      "text/plain": [
       "np.int64(0)"
      ]
     },
     "execution_count": 503,
     "metadata": {},
     "output_type": "execute_result"
    }
   ],
   "source": [
    "arr.argmin() #this will tell you the index value of the min element"
   ]
  },
  {
   "cell_type": "markdown",
   "id": "53c2045a",
   "metadata": {},
   "source": [
    "### Reshaping and resizing"
   ]
  },
  {
   "cell_type": "code",
   "execution_count": 504,
   "id": "5ff3c9ca",
   "metadata": {},
   "outputs": [],
   "source": [
    "new = np.arange(1,31)"
   ]
  },
  {
   "cell_type": "code",
   "execution_count": 505,
   "id": "21ddb428",
   "metadata": {},
   "outputs": [
    {
     "data": {
      "text/plain": [
       "array([ 1,  2,  3,  4,  5,  6,  7,  8,  9, 10, 11, 12, 13, 14, 15, 16, 17,\n",
       "       18, 19, 20, 21, 22, 23, 24, 25, 26, 27, 28, 29, 30])"
      ]
     },
     "execution_count": 505,
     "metadata": {},
     "output_type": "execute_result"
    }
   ],
   "source": [
    "new"
   ]
  },
  {
   "cell_type": "code",
   "execution_count": 506,
   "id": "3f56dfb9",
   "metadata": {},
   "outputs": [
    {
     "data": {
      "text/plain": [
       "array([[ 1,  2,  3,  4,  5],\n",
       "       [ 6,  7,  8,  9, 10],\n",
       "       [11, 12, 13, 14, 15],\n",
       "       [16, 17, 18, 19, 20],\n",
       "       [21, 22, 23, 24, 25],\n",
       "       [26, 27, 28, 29, 30]])"
      ]
     },
     "execution_count": 506,
     "metadata": {},
     "output_type": "execute_result"
    }
   ],
   "source": [
    "new.reshape(6,5)"
   ]
  },
  {
   "cell_type": "code",
   "execution_count": 507,
   "id": "e391a75e",
   "metadata": {},
   "outputs": [],
   "source": [
    "new = new.reshape(5,6)"
   ]
  },
  {
   "cell_type": "code",
   "execution_count": 508,
   "id": "75ba1d77",
   "metadata": {},
   "outputs": [
    {
     "data": {
      "text/plain": [
       "array([[ 1,  2,  3,  4,  5,  6],\n",
       "       [ 7,  8,  9, 10, 11, 12],\n",
       "       [13, 14, 15, 16, 17, 18],\n",
       "       [19, 20, 21, 22, 23, 24],\n",
       "       [25, 26, 27, 28, 29, 30]])"
      ]
     },
     "execution_count": 508,
     "metadata": {},
     "output_type": "execute_result"
    }
   ],
   "source": [
    "new"
   ]
  },
  {
   "cell_type": "markdown",
   "id": "a496dab8",
   "metadata": {},
   "source": [
    "### Indexing and slicing "
   ]
  },
  {
   "cell_type": "code",
   "execution_count": 509,
   "id": "1002b009",
   "metadata": {},
   "outputs": [],
   "source": [
    "# Indexing and slicing of vectors "
   ]
  },
  {
   "cell_type": "code",
   "execution_count": 510,
   "id": "2009357a",
   "metadata": {},
   "outputs": [],
   "source": [
    "v = np.array([[1,2,4],[4,5,6],[7,8,9]])"
   ]
  },
  {
   "cell_type": "code",
   "execution_count": 511,
   "id": "159b31ed",
   "metadata": {},
   "outputs": [
    {
     "data": {
      "text/plain": [
       "array([[1, 2, 4],\n",
       "       [4, 5, 6],\n",
       "       [7, 8, 9]])"
      ]
     },
     "execution_count": 511,
     "metadata": {},
     "output_type": "execute_result"
    }
   ],
   "source": [
    "v"
   ]
  },
  {
   "cell_type": "code",
   "execution_count": 512,
   "id": "111b86c1",
   "metadata": {},
   "outputs": [
    {
     "data": {
      "text/plain": [
       "array([4, 5])"
      ]
     },
     "execution_count": 512,
     "metadata": {},
     "output_type": "execute_result"
    }
   ],
   "source": [
    "v[1,0:2]"
   ]
  },
  {
   "cell_type": "code",
   "execution_count": null,
   "id": "7e977499",
   "metadata": {},
   "outputs": [],
   "source": []
  },
  {
   "cell_type": "code",
   "execution_count": 513,
   "id": "8cf811e9",
   "metadata": {},
   "outputs": [],
   "source": [
    "z = np.array([\n",
    "    [[1,2,4],[4,5,6],[7,8,9]], \n",
    "    [[81,52,14],[14,55,46],[77,98,19]]])\n",
    "\n"
   ]
  },
  {
   "cell_type": "code",
   "execution_count": 514,
   "id": "d2f42b04",
   "metadata": {},
   "outputs": [
    {
     "data": {
      "text/plain": [
       "array([[[ 1,  2,  4],\n",
       "        [ 4,  5,  6],\n",
       "        [ 7,  8,  9]],\n",
       "\n",
       "       [[81, 52, 14],\n",
       "        [14, 55, 46],\n",
       "        [77, 98, 19]]])"
      ]
     },
     "execution_count": 514,
     "metadata": {},
     "output_type": "execute_result"
    }
   ],
   "source": [
    "z"
   ]
  },
  {
   "cell_type": "code",
   "execution_count": 515,
   "id": "1c5f7693",
   "metadata": {},
   "outputs": [
    {
     "data": {
      "text/plain": [
       "array([98, 19])"
      ]
     },
     "execution_count": 515,
     "metadata": {},
     "output_type": "execute_result"
    }
   ],
   "source": [
    "z[1,2,1:]"
   ]
  },
  {
   "cell_type": "code",
   "execution_count": 516,
   "id": "dfeb3bfb",
   "metadata": {},
   "outputs": [
    {
     "data": {
      "text/plain": [
       "(2, 3, 3)"
      ]
     },
     "execution_count": 516,
     "metadata": {},
     "output_type": "execute_result"
    }
   ],
   "source": [
    "z.shape"
   ]
  },
  {
   "cell_type": "code",
   "execution_count": 517,
   "id": "57cb5a1e",
   "metadata": {},
   "outputs": [
    {
     "data": {
      "text/plain": [
       "array([[1, 2, 4],\n",
       "       [4, 5, 6],\n",
       "       [7, 8, 9]])"
      ]
     },
     "execution_count": 517,
     "metadata": {},
     "output_type": "execute_result"
    }
   ],
   "source": [
    "z[0]"
   ]
  },
  {
   "cell_type": "code",
   "execution_count": 518,
   "id": "151fa594",
   "metadata": {},
   "outputs": [
    {
     "data": {
      "text/plain": [
       "array([ 4, 14])"
      ]
     },
     "execution_count": 518,
     "metadata": {},
     "output_type": "execute_result"
    }
   ],
   "source": [
    "z[:, 0, 2]"
   ]
  },
  {
   "cell_type": "code",
   "execution_count": 519,
   "id": "7ad82116",
   "metadata": {},
   "outputs": [
    {
     "data": {
      "text/plain": [
       "array([[81, 52, 14],\n",
       "       [14, 55, 46],\n",
       "       [77, 98, 19]])"
      ]
     },
     "execution_count": 519,
     "metadata": {},
     "output_type": "execute_result"
    }
   ],
   "source": [
    "z[1]"
   ]
  },
  {
   "cell_type": "code",
   "execution_count": 520,
   "id": "e05fab52",
   "metadata": {},
   "outputs": [
    {
     "data": {
      "text/plain": [
       "np.int64(55)"
      ]
     },
     "execution_count": 520,
     "metadata": {},
     "output_type": "execute_result"
    }
   ],
   "source": [
    "z[1,1,1]"
   ]
  },
  {
   "cell_type": "code",
   "execution_count": 521,
   "id": "c40f3372",
   "metadata": {},
   "outputs": [
    {
     "data": {
      "text/plain": [
       "2"
      ]
     },
     "execution_count": 521,
     "metadata": {},
     "output_type": "execute_result"
    }
   ],
   "source": [
    "z[1, :, :].ndim"
   ]
  },
  {
   "cell_type": "code",
   "execution_count": 522,
   "id": "13af2181",
   "metadata": {},
   "outputs": [
    {
     "data": {
      "text/plain": [
       "array([2, 5, 8])"
      ]
     },
     "execution_count": 522,
     "metadata": {},
     "output_type": "execute_result"
    }
   ],
   "source": [
    "z[0, :, 1]"
   ]
  },
  {
   "cell_type": "code",
   "execution_count": 523,
   "id": "ccc93154",
   "metadata": {},
   "outputs": [
    {
     "data": {
      "text/plain": [
       "array([[ 7,  8,  9],\n",
       "       [77, 98, 19]])"
      ]
     },
     "execution_count": 523,
     "metadata": {},
     "output_type": "execute_result"
    }
   ],
   "source": [
    "# How to extract the last column from both matrices?\n",
    "\n",
    "z[:,2,:]"
   ]
  },
  {
   "cell_type": "code",
   "execution_count": 524,
   "id": "15813a72",
   "metadata": {},
   "outputs": [
    {
     "data": {
      "text/plain": [
       "array([[ 4,  6,  9],\n",
       "       [14, 46, 19]])"
      ]
     },
     "execution_count": 524,
     "metadata": {},
     "output_type": "execute_result"
    }
   ],
   "source": [
    "# How to get all elements from the first row of each matrix?\n",
    "\n",
    "z[:,:,2]"
   ]
  },
  {
   "cell_type": "code",
   "execution_count": 525,
   "id": "540c8178",
   "metadata": {},
   "outputs": [
    {
     "data": {
      "text/plain": [
       "array([[[ 1,  2,  4],\n",
       "        [ 4,  5,  6],\n",
       "        [ 7,  8,  9]],\n",
       "\n",
       "       [[81, 52, 14],\n",
       "        [14, 55, 46],\n",
       "        [77, 98, 19]]])"
      ]
     },
     "execution_count": 525,
     "metadata": {},
     "output_type": "execute_result"
    }
   ],
   "source": [
    "z"
   ]
  },
  {
   "cell_type": "code",
   "execution_count": 526,
   "id": "4cda8bda",
   "metadata": {},
   "outputs": [
    {
     "data": {
      "text/plain": [
       "np.int64(98)"
      ]
     },
     "execution_count": 526,
     "metadata": {},
     "output_type": "execute_result"
    }
   ],
   "source": [
    "z[1, 2, 1]"
   ]
  },
  {
   "cell_type": "code",
   "execution_count": 527,
   "id": "f7186977",
   "metadata": {},
   "outputs": [
    {
     "data": {
      "text/plain": [
       "array([[14, 52, 81],\n",
       "       [46, 55, 14],\n",
       "       [19, 98, 77]])"
      ]
     },
     "execution_count": 527,
     "metadata": {},
     "output_type": "execute_result"
    }
   ],
   "source": [
    "z[1, :, ::-1]"
   ]
  },
  {
   "cell_type": "code",
   "execution_count": 528,
   "id": "e2572e46",
   "metadata": {},
   "outputs": [],
   "source": [
    "# How to get all diagonal elements (i.e., 1, 5, 9) from the first matrix?\n",
    "\n"
   ]
  },
  {
   "cell_type": "code",
   "execution_count": 529,
   "id": "a1bb94c2",
   "metadata": {},
   "outputs": [
    {
     "data": {
      "text/plain": [
       "array([[[ 2,  4],\n",
       "        [ 5,  6],\n",
       "        [ 8,  9]],\n",
       "\n",
       "       [[52, 14],\n",
       "        [55, 46],\n",
       "        [98, 19]]])"
      ]
     },
     "execution_count": 529,
     "metadata": {},
     "output_type": "execute_result"
    }
   ],
   "source": [
    "z[:, :, 1:3]"
   ]
  },
  {
   "cell_type": "code",
   "execution_count": 530,
   "id": "136af5cb",
   "metadata": {},
   "outputs": [
    {
     "data": {
      "text/plain": [
       "array([[[ 1,  2,  4],\n",
       "        [ 4,  5,  6],\n",
       "        [ 7,  8,  9]],\n",
       "\n",
       "       [[81, 52, 14],\n",
       "        [14, 55, 46],\n",
       "        [77, 98, 19]]])"
      ]
     },
     "execution_count": 530,
     "metadata": {},
     "output_type": "execute_result"
    }
   ],
   "source": [
    "z"
   ]
  },
  {
   "cell_type": "code",
   "execution_count": 531,
   "id": "39638acb",
   "metadata": {},
   "outputs": [],
   "source": [
    "# How do you replace the middle element of both matrices with 999?\n",
    "\n",
    "z[:,1,1] = 999"
   ]
  },
  {
   "cell_type": "code",
   "execution_count": 532,
   "id": "c2084193",
   "metadata": {},
   "outputs": [
    {
     "data": {
      "text/plain": [
       "array([[[  1,   2,   4],\n",
       "        [  4, 999,   6],\n",
       "        [  7,   8,   9]],\n",
       "\n",
       "       [[ 81,  52,  14],\n",
       "        [ 14, 999,  46],\n",
       "        [ 77,  98,  19]]])"
      ]
     },
     "execution_count": 532,
     "metadata": {},
     "output_type": "execute_result"
    }
   ],
   "source": [
    "z"
   ]
  },
  {
   "cell_type": "code",
   "execution_count": 533,
   "id": "36bd8744",
   "metadata": {},
   "outputs": [
    {
     "data": {
      "text/plain": [
       "array([[  4, 999,   6],\n",
       "       [ 14, 999,  46]])"
      ]
     },
     "execution_count": 533,
     "metadata": {},
     "output_type": "execute_result"
    }
   ],
   "source": [
    "z[:, 1, :]"
   ]
  },
  {
   "cell_type": "code",
   "execution_count": 534,
   "id": "d86ff358",
   "metadata": {},
   "outputs": [
    {
     "data": {
      "text/plain": [
       "array([[  2, 999,   8],\n",
       "       [ 52, 999,  98]])"
      ]
     },
     "execution_count": 534,
     "metadata": {},
     "output_type": "execute_result"
    }
   ],
   "source": [
    "# Extract all elements in the second column from both matrices.\n",
    "\n",
    "z[:,:,1]\n",
    "\n"
   ]
  },
  {
   "cell_type": "code",
   "execution_count": 535,
   "id": "118b6ead",
   "metadata": {},
   "outputs": [
    {
     "data": {
      "text/plain": [
       "array([  1,   2,   4,   4, 999,   6,   7,   8,   9,  81,  52,  14,  14,\n",
       "       999,  46,  77,  98,  19])"
      ]
     },
     "execution_count": 535,
     "metadata": {},
     "output_type": "execute_result"
    }
   ],
   "source": [
    "# How do you flatten the entire array z into a 1D array?\n",
    "\n",
    "z.ravel()"
   ]
  },
  {
   "cell_type": "code",
   "execution_count": 536,
   "id": "1de66f92",
   "metadata": {},
   "outputs": [],
   "source": [
    "# How to get a transposed version of the second matrix"
   ]
  },
  {
   "cell_type": "code",
   "execution_count": 537,
   "id": "d5ddf0b8",
   "metadata": {},
   "outputs": [
    {
     "data": {
      "text/plain": [
       "np.int64(1400)"
      ]
     },
     "execution_count": 537,
     "metadata": {},
     "output_type": "execute_result"
    }
   ],
   "source": [
    "# Get the sum of all elements in the first matrix.\n",
    "\n",
    "z[1,:,:].sum()"
   ]
  },
  {
   "cell_type": "code",
   "execution_count": 538,
   "id": "a2bd050f",
   "metadata": {},
   "outputs": [
    {
     "data": {
      "text/plain": [
       "array([[[ 81,  52,  14],\n",
       "        [ 14, 999,  46],\n",
       "        [ 77,  98,  19]],\n",
       "\n",
       "       [[  1,   2,   4],\n",
       "        [  4, 999,   6],\n",
       "        [  7,   8,   9]]])"
      ]
     },
     "execution_count": 538,
     "metadata": {},
     "output_type": "execute_result"
    }
   ],
   "source": [
    "z[::-1]"
   ]
  },
  {
   "cell_type": "code",
   "execution_count": 539,
   "id": "339a4ab6",
   "metadata": {},
   "outputs": [
    {
     "data": {
      "text/plain": [
       "array([ 81, 999,  19])"
      ]
     },
     "execution_count": 539,
     "metadata": {},
     "output_type": "execute_result"
    }
   ],
   "source": [
    "np.diag(z[1])"
   ]
  },
  {
   "cell_type": "code",
   "execution_count": 540,
   "id": "3eef5d61",
   "metadata": {},
   "outputs": [
    {
     "data": {
      "text/plain": [
       "array([[ 81,  14,  77],\n",
       "       [ 52, 999,  98],\n",
       "       [ 14,  46,  19]])"
      ]
     },
     "execution_count": 540,
     "metadata": {},
     "output_type": "execute_result"
    }
   ],
   "source": [
    "z[1].T"
   ]
  },
  {
   "cell_type": "code",
   "execution_count": 541,
   "id": "43f6b972",
   "metadata": {},
   "outputs": [
    {
     "data": {
      "text/plain": [
       "array([11, 12, 13, 14, 15, 16, 17, 18, 19, 20])"
      ]
     },
     "execution_count": 541,
     "metadata": {},
     "output_type": "execute_result"
    }
   ],
   "source": [
    "# boolean indexing \n",
    "arr = np.arange(11,21)\n",
    "arr"
   ]
  },
  {
   "cell_type": "code",
   "execution_count": 542,
   "id": "ba0bddfe",
   "metadata": {},
   "outputs": [],
   "source": [
    "bool_index = arr % 2 == 0"
   ]
  },
  {
   "cell_type": "code",
   "execution_count": 543,
   "id": "14ad8976",
   "metadata": {},
   "outputs": [
    {
     "data": {
      "text/plain": [
       "array([False,  True, False,  True, False,  True, False,  True, False,\n",
       "        True])"
      ]
     },
     "execution_count": 543,
     "metadata": {},
     "output_type": "execute_result"
    }
   ],
   "source": [
    "bool_index"
   ]
  },
  {
   "cell_type": "code",
   "execution_count": 544,
   "id": "32f43247",
   "metadata": {},
   "outputs": [],
   "source": [
    "arr = arr[bool_index]"
   ]
  },
  {
   "cell_type": "code",
   "execution_count": 545,
   "id": "f54ef01a",
   "metadata": {},
   "outputs": [
    {
     "data": {
      "text/plain": [
       "array([12, 14, 16, 18, 20])"
      ]
     },
     "execution_count": 545,
     "metadata": {},
     "output_type": "execute_result"
    }
   ],
   "source": [
    "arr"
   ]
  },
  {
   "cell_type": "markdown",
   "id": "d6b5a69e",
   "metadata": {},
   "source": [
    "## Array Operations\n",
    "- Arthmetic operations\n",
    "- Broadcasting\n",
    "- Deep & Shallow copy \n",
    "- Matrix operations\n",
    "- Advance array manipulation\n",
    "- Stacking array\n",
    "- Splitting array"
   ]
  },
  {
   "cell_type": "code",
   "execution_count": 546,
   "id": "87c2ca8b",
   "metadata": {},
   "outputs": [],
   "source": [
    "#  Arthmetic operations\n",
    "a1 = np.array([1,2,3,4,5])\n",
    "a2 = np.array([6,7,8,9,10])"
   ]
  },
  {
   "cell_type": "code",
   "execution_count": 547,
   "id": "4678c90d",
   "metadata": {},
   "outputs": [
    {
     "data": {
      "text/plain": [
       "array([ 7,  9, 11, 13, 15])"
      ]
     },
     "execution_count": 547,
     "metadata": {},
     "output_type": "execute_result"
    }
   ],
   "source": [
    "added = a1+a2\n",
    "added"
   ]
  },
  {
   "cell_type": "code",
   "execution_count": 548,
   "id": "7bd76489",
   "metadata": {},
   "outputs": [
    {
     "data": {
      "text/plain": [
       "array([1, 2, 3, 4, 5])"
      ]
     },
     "execution_count": 548,
     "metadata": {},
     "output_type": "execute_result"
    }
   ],
   "source": [
    "a1"
   ]
  },
  {
   "cell_type": "code",
   "execution_count": 549,
   "id": "ba1228c9",
   "metadata": {},
   "outputs": [
    {
     "data": {
      "text/plain": [
       "array([ 6, 14, 24, 36, 50])"
      ]
     },
     "execution_count": 549,
     "metadata": {},
     "output_type": "execute_result"
    }
   ],
   "source": [
    "a1 * a2"
   ]
  },
  {
   "cell_type": "code",
   "execution_count": 550,
   "id": "744b68ec",
   "metadata": {},
   "outputs": [
    {
     "data": {
      "text/plain": [
       "array([0.16666667, 0.28571429, 0.375     , 0.44444444, 0.5       ])"
      ]
     },
     "execution_count": 550,
     "metadata": {},
     "output_type": "execute_result"
    }
   ],
   "source": [
    "a1 / a2"
   ]
  },
  {
   "cell_type": "code",
   "execution_count": 551,
   "id": "cbb74bbf",
   "metadata": {},
   "outputs": [
    {
     "data": {
      "text/plain": [
       "array([      1,     128,    6561,  262144, 9765625])"
      ]
     },
     "execution_count": 551,
     "metadata": {},
     "output_type": "execute_result"
    }
   ],
   "source": [
    "a1 ** a2"
   ]
  },
  {
   "cell_type": "code",
   "execution_count": 552,
   "id": "0c10faa9",
   "metadata": {},
   "outputs": [],
   "source": [
    "# Broadcasting"
   ]
  },
  {
   "cell_type": "code",
   "execution_count": 553,
   "id": "6b249c54",
   "metadata": {},
   "outputs": [],
   "source": [
    "l = [10,20,30,40]\n",
    "arr = np.array(l)"
   ]
  },
  {
   "cell_type": "code",
   "execution_count": 554,
   "id": "88d9cf99",
   "metadata": {},
   "outputs": [
    {
     "data": {
      "text/plain": [
       "array([10, 20, 30, 40])"
      ]
     },
     "execution_count": 554,
     "metadata": {},
     "output_type": "execute_result"
    }
   ],
   "source": [
    "arr"
   ]
  },
  {
   "cell_type": "code",
   "execution_count": 555,
   "id": "a0b6a2a5",
   "metadata": {},
   "outputs": [
    {
     "data": {
      "text/plain": [
       "array([20, 30, 40, 50])"
      ]
     },
     "execution_count": 555,
     "metadata": {},
     "output_type": "execute_result"
    }
   ],
   "source": [
    "arr + 10"
   ]
  },
  {
   "cell_type": "code",
   "execution_count": 556,
   "id": "bc77d803",
   "metadata": {},
   "outputs": [],
   "source": [
    "arr = np.append(arr,[6,7,8])"
   ]
  },
  {
   "cell_type": "code",
   "execution_count": 557,
   "id": "df4a7cc5",
   "metadata": {},
   "outputs": [
    {
     "data": {
      "text/plain": [
       "array([10, 20, 30, 40,  6,  7,  8])"
      ]
     },
     "execution_count": 557,
     "metadata": {},
     "output_type": "execute_result"
    }
   ],
   "source": [
    "arr"
   ]
  },
  {
   "cell_type": "markdown",
   "id": "269518ce",
   "metadata": {},
   "source": [
    "# Broadcasting"
   ]
  },
  {
   "cell_type": "code",
   "execution_count": 558,
   "id": "559a1323",
   "metadata": {},
   "outputs": [],
   "source": [
    "l = [1,2,3,4,5,7]\n",
    "arr = np.array(l)"
   ]
  },
  {
   "cell_type": "code",
   "execution_count": 559,
   "id": "944f8c4a",
   "metadata": {},
   "outputs": [
    {
     "data": {
      "text/plain": [
       "array([11, 12, 13, 14, 15, 17])"
      ]
     },
     "execution_count": 559,
     "metadata": {},
     "output_type": "execute_result"
    }
   ],
   "source": [
    "arr + 10\n"
   ]
  },
  {
   "cell_type": "code",
   "execution_count": 560,
   "id": "79137865",
   "metadata": {},
   "outputs": [
    {
     "data": {
      "text/plain": [
       "array([[1, 2, 3],\n",
       "       [4, 5, 7]])"
      ]
     },
     "execution_count": 560,
     "metadata": {},
     "output_type": "execute_result"
    }
   ],
   "source": [
    "arr.reshape(2,3)"
   ]
  },
  {
   "cell_type": "code",
   "execution_count": 561,
   "id": "b225d034",
   "metadata": {},
   "outputs": [],
   "source": [
    "arr = np.arange(1,26).reshape(5,5)"
   ]
  },
  {
   "cell_type": "code",
   "execution_count": 562,
   "id": "e75764da",
   "metadata": {},
   "outputs": [
    {
     "data": {
      "text/plain": [
       "array([[ 1,  2,  3,  4,  5],\n",
       "       [ 6,  7,  8,  9, 10],\n",
       "       [11, 12, 13, 14, 15],\n",
       "       [16, 17, 18, 19, 20],\n",
       "       [21, 22, 23, 24, 25]])"
      ]
     },
     "execution_count": 562,
     "metadata": {},
     "output_type": "execute_result"
    }
   ],
   "source": [
    "arr"
   ]
  },
  {
   "cell_type": "code",
   "execution_count": 563,
   "id": "0e8796a5",
   "metadata": {},
   "outputs": [
    {
     "data": {
      "text/plain": [
       "array([[111, 112, 113, 114, 115],\n",
       "       [116, 117, 118, 119, 120],\n",
       "       [121, 122, 123, 124, 125],\n",
       "       [126, 127, 128, 129, 130],\n",
       "       [131, 132, 133, 134, 135]])"
      ]
     },
     "execution_count": 563,
     "metadata": {},
     "output_type": "execute_result"
    }
   ],
   "source": [
    "arr + 110"
   ]
  },
  {
   "cell_type": "code",
   "execution_count": 564,
   "id": "717bfc20",
   "metadata": {},
   "outputs": [
    {
     "data": {
      "text/plain": [
       "array([[ 0.5,  1. ,  1.5,  2. ,  2.5],\n",
       "       [ 3. ,  3.5,  4. ,  4.5,  5. ],\n",
       "       [ 5.5,  6. ,  6.5,  7. ,  7.5],\n",
       "       [ 8. ,  8.5,  9. ,  9.5, 10. ],\n",
       "       [10.5, 11. , 11.5, 12. , 12.5]])"
      ]
     },
     "execution_count": 564,
     "metadata": {},
     "output_type": "execute_result"
    }
   ],
   "source": [
    "arr / 2"
   ]
  },
  {
   "cell_type": "code",
   "execution_count": 565,
   "id": "ee0a4ab7",
   "metadata": {},
   "outputs": [
    {
     "data": {
      "text/plain": [
       "array([[ 2,  4,  6,  8, 10],\n",
       "       [12, 14, 16, 18, 20],\n",
       "       [22, 24, 26, 28, 30],\n",
       "       [32, 34, 36, 38, 40],\n",
       "       [42, 44, 46, 48, 50]])"
      ]
     },
     "execution_count": 565,
     "metadata": {},
     "output_type": "execute_result"
    }
   ],
   "source": [
    "arr * 2"
   ]
  },
  {
   "cell_type": "markdown",
   "id": "24ab4262",
   "metadata": {},
   "source": [
    "### Deep and shallow copy "
   ]
  },
  {
   "cell_type": "code",
   "execution_count": 566,
   "id": "5e877300",
   "metadata": {},
   "outputs": [
    {
     "data": {
      "text/plain": [
       "array([ 1,  2,  3,  4,  5,  6,  7,  8,  9, 10, 11, 12, 13, 14, 15, 16, 17,\n",
       "       18, 19, 20])"
      ]
     },
     "execution_count": 566,
     "metadata": {},
     "output_type": "execute_result"
    }
   ],
   "source": [
    "a = np.arange(1,21)\n",
    "a"
   ]
  },
  {
   "cell_type": "code",
   "execution_count": 567,
   "id": "af719d88",
   "metadata": {},
   "outputs": [
    {
     "data": {
      "text/plain": [
       "array([1, 2, 3, 4, 5])"
      ]
     },
     "execution_count": 567,
     "metadata": {},
     "output_type": "execute_result"
    }
   ],
   "source": [
    "slicee = a[0:5]\n",
    "slicee"
   ]
  },
  {
   "cell_type": "code",
   "execution_count": 568,
   "id": "97b5a5f7",
   "metadata": {},
   "outputs": [],
   "source": [
    "slicee =slicee *10"
   ]
  },
  {
   "cell_type": "code",
   "execution_count": 569,
   "id": "a11d7033",
   "metadata": {},
   "outputs": [
    {
     "data": {
      "text/plain": [
       "array([10, 20, 30, 40, 50])"
      ]
     },
     "execution_count": 569,
     "metadata": {},
     "output_type": "execute_result"
    }
   ],
   "source": [
    "slicee"
   ]
  },
  {
   "cell_type": "code",
   "execution_count": 570,
   "id": "c9515bf8",
   "metadata": {},
   "outputs": [
    {
     "data": {
      "text/plain": [
       "array([ 1,  2,  3,  4,  5,  6,  7,  8,  9, 10, 11, 12, 13, 14, 15, 16, 17,\n",
       "       18, 19, 20])"
      ]
     },
     "execution_count": 570,
     "metadata": {},
     "output_type": "execute_result"
    }
   ],
   "source": [
    "a"
   ]
  },
  {
   "cell_type": "code",
   "execution_count": 571,
   "id": "4280ac57",
   "metadata": {},
   "outputs": [],
   "source": [
    "l = [1,2,3,4,5,6,7,8,9]"
   ]
  },
  {
   "cell_type": "code",
   "execution_count": 572,
   "id": "c6c4e72e",
   "metadata": {},
   "outputs": [
    {
     "data": {
      "text/plain": [
       "array([50, 60])"
      ]
     },
     "execution_count": 572,
     "metadata": {},
     "output_type": "execute_result"
    }
   ],
   "source": [
    "a[4:6] * 10"
   ]
  },
  {
   "cell_type": "code",
   "execution_count": 573,
   "id": "12ef8770",
   "metadata": {},
   "outputs": [],
   "source": [
    "# Martix operations"
   ]
  },
  {
   "cell_type": "code",
   "execution_count": 574,
   "id": "6a15a960",
   "metadata": {},
   "outputs": [],
   "source": [
    "A  = np.array([[1,2],[3,4]])\n",
    "B = np.array([[5,6],[7,8]])"
   ]
  },
  {
   "cell_type": "code",
   "execution_count": 575,
   "id": "b72b3762",
   "metadata": {},
   "outputs": [],
   "source": [
    "c = np.append(a,b)"
   ]
  },
  {
   "cell_type": "code",
   "execution_count": 576,
   "id": "4b65c2dc",
   "metadata": {},
   "outputs": [
    {
     "data": {
      "text/plain": [
       "array([ 1,  2,  3,  4,  5,  6,  7,  8,  9, 10, 11, 12, 13, 14, 15, 16, 17,\n",
       "       18, 19, 20,  1,  2,  3,  4,  5,  6,  7,  8,  9, 10, 11, 13])"
      ]
     },
     "execution_count": 576,
     "metadata": {},
     "output_type": "execute_result"
    }
   ],
   "source": [
    "c"
   ]
  },
  {
   "cell_type": "code",
   "execution_count": 577,
   "id": "814e6332",
   "metadata": {},
   "outputs": [
    {
     "data": {
      "text/plain": [
       "array([[19, 22],\n",
       "       [43, 50]])"
      ]
     },
     "execution_count": 577,
     "metadata": {},
     "output_type": "execute_result"
    }
   ],
   "source": [
    "A @ B"
   ]
  },
  {
   "cell_type": "code",
   "execution_count": 578,
   "id": "aa7c39bd",
   "metadata": {},
   "outputs": [
    {
     "data": {
      "text/plain": [
       "array([[1, 2],\n",
       "       [3, 4],\n",
       "       [5, 6],\n",
       "       [7, 8]])"
      ]
     },
     "execution_count": 578,
     "metadata": {},
     "output_type": "execute_result"
    }
   ],
   "source": [
    "np.vstack((A,B))"
   ]
  },
  {
   "cell_type": "code",
   "execution_count": 579,
   "id": "6d2d0ca6",
   "metadata": {},
   "outputs": [
    {
     "data": {
      "text/plain": [
       "array([[1, 2, 5, 6],\n",
       "       [3, 4, 7, 8]])"
      ]
     },
     "execution_count": 579,
     "metadata": {},
     "output_type": "execute_result"
    }
   ],
   "source": [
    "np.hstack([A,B])"
   ]
  },
  {
   "cell_type": "markdown",
   "id": "faaa92ea",
   "metadata": {},
   "source": [
    "### EXCERCISE"
   ]
  },
  {
   "cell_type": "code",
   "execution_count": 580,
   "id": "e6903009",
   "metadata": {},
   "outputs": [],
   "source": [
    "s = np.array([\n",
    "    [5,3,4,6,7,8,9,1,2],\n",
    "    [6,7,2,1,9,5,3,4,8],\n",
    "    [1,9,8,3,4,2,5,6,7],\n",
    "\n",
    "    [8,5,9,7,6,1,4,2,3],\n",
    "    [4,2,6,8,5,3,7,9,1],\n",
    "    [7,1,3,9,2,4,8,5,6],\n",
    "\n",
    "    [9,6,1,5,3,7,2,8,4],\n",
    "    [2,8,7,4,1,9,6,3,5],\n",
    "    [3,4,5,2,8,6,1,7,9]\n",
    "    \n",
    "])"
   ]
  },
  {
   "cell_type": "code",
   "execution_count": 581,
   "id": "ee632183",
   "metadata": {},
   "outputs": [
    {
     "name": "stdout",
     "output_type": "stream",
     "text": [
      "Suduko is not valid\n"
     ]
    }
   ],
   "source": [
    "r = np.sum(s, axis=1)\n",
    "for i in b:\n",
    "    if i != 45:\n",
    "        print(\"Suduko is not valid\")\n",
    "        break\n",
    "else:\n",
    "    print('Suduko is valid row wise')"
   ]
  },
  {
   "cell_type": "code",
   "execution_count": 582,
   "id": "516cca7f",
   "metadata": {},
   "outputs": [
    {
     "name": "stdout",
     "output_type": "stream",
     "text": [
      "Sukudo is valid column wise\n"
     ]
    }
   ],
   "source": [
    "c = np.sum(s,axis=0)\n",
    "for i in c:\n",
    "    if i != 45:\n",
    "        print('The sukodu is not valid')\n",
    "        break\n",
    "else:\n",
    "    print(\"Sukudo is valid column wise\") "
   ]
  },
  {
   "cell_type": "code",
   "execution_count": 583,
   "id": "5f03ec6a",
   "metadata": {},
   "outputs": [
    {
     "data": {
      "text/plain": [
       "array([45, 45, 45, 45, 45, 45, 45, 45, 45])"
      ]
     },
     "execution_count": 583,
     "metadata": {},
     "output_type": "execute_result"
    }
   ],
   "source": [
    "c"
   ]
  },
  {
   "cell_type": "code",
   "execution_count": 584,
   "id": "7ab6cd83",
   "metadata": {},
   "outputs": [
    {
     "ename": "SyntaxError",
     "evalue": "invalid syntax. Perhaps you forgot a comma? (2849328889.py, line 1)",
     "output_type": "error",
     "traceback": [
      "\u001b[1;36m  Cell \u001b[1;32mIn[584], line 1\u001b[1;36m\u001b[0m\n\u001b[1;33m    mat = np.sum(a[])\u001b[0m\n\u001b[1;37m                 ^\u001b[0m\n\u001b[1;31mSyntaxError\u001b[0m\u001b[1;31m:\u001b[0m invalid syntax. Perhaps you forgot a comma?\n"
     ]
    }
   ],
   "source": [
    "mat = np.sum(a[])"
   ]
  },
  {
   "cell_type": "code",
   "execution_count": null,
   "id": "10c60f61",
   "metadata": {},
   "outputs": [
    {
     "data": {
      "text/plain": [
       "array([[5, 3, 4, 6, 7, 8, 9, 1, 2],\n",
       "       [6, 7, 2, 1, 9, 5, 3, 4, 8],\n",
       "       [1, 9, 8, 3, 4, 2, 5, 6, 7],\n",
       "       [8, 5, 9, 7, 6, 1, 4, 2, 3],\n",
       "       [4, 2, 6, 8, 5, 3, 7, 9, 1],\n",
       "       [7, 1, 3, 9, 2, 4, 8, 5, 6],\n",
       "       [9, 6, 1, 5, 3, 7, 2, 8, 4],\n",
       "       [2, 8, 7, 4, 1, 9, 6, 3, 5],\n",
       "       [3, 4, 5, 2, 8, 6, 1, 7, 9]])"
      ]
     },
     "execution_count": 148,
     "metadata": {},
     "output_type": "execute_result"
    }
   ],
   "source": [
    "s"
   ]
  },
  {
   "cell_type": "code",
   "execution_count": null,
   "id": "4a847fa1",
   "metadata": {},
   "outputs": [
    {
     "data": {
      "text/plain": [
       "np.int64(45)"
      ]
     },
     "execution_count": 156,
     "metadata": {},
     "output_type": "execute_result"
    }
   ],
   "source": [
    "s[:3,:3].sum()"
   ]
  },
  {
   "cell_type": "code",
   "execution_count": null,
   "id": "9b7c7056",
   "metadata": {},
   "outputs": [
    {
     "data": {
      "text/plain": [
       "np.int64(45)"
      ]
     },
     "execution_count": 157,
     "metadata": {},
     "output_type": "execute_result"
    }
   ],
   "source": [
    "s[:3,3:6].sum()"
   ]
  },
  {
   "cell_type": "code",
   "execution_count": null,
   "id": "96d2f1df",
   "metadata": {},
   "outputs": [
    {
     "data": {
      "text/plain": [
       "array([[9, 1, 2],\n",
       "       [3, 4, 8],\n",
       "       [5, 6, 7]])"
      ]
     },
     "execution_count": 159,
     "metadata": {},
     "output_type": "execute_result"
    }
   ],
   "source": [
    "s[:3,6:]"
   ]
  },
  {
   "cell_type": "code",
   "execution_count": null,
   "id": "7bb735da",
   "metadata": {},
   "outputs": [
    {
     "data": {
      "text/plain": [
       "array([[8, 5, 9],\n",
       "       [4, 2, 6],\n",
       "       [7, 1, 3]])"
      ]
     },
     "execution_count": 160,
     "metadata": {},
     "output_type": "execute_result"
    }
   ],
   "source": [
    "s[3:6,:3]"
   ]
  },
  {
   "cell_type": "code",
   "execution_count": null,
   "id": "ac24c96d",
   "metadata": {},
   "outputs": [
    {
     "name": "stdout",
     "output_type": "stream",
     "text": [
      "45\n",
      "45\n",
      "45\n",
      "45\n",
      "45\n",
      "45\n",
      "45\n",
      "45\n",
      "45\n"
     ]
    }
   ],
   "source": [
    "for i in range(0,9,3):\n",
    "    for j in range(0,9,3):\n",
    "        n= s[i:i+3,j:j+3]\n",
    "        print(n.sum())"
   ]
  },
  {
   "cell_type": "markdown",
   "id": "bc2cab32",
   "metadata": {},
   "source": [
    "General Question"
   ]
  },
  {
   "cell_type": "code",
   "execution_count": 585,
   "id": "1b978b93",
   "metadata": {},
   "outputs": [],
   "source": [
    "#  coloum [Age, Math Marks, Science Marks]\n",
    "data = np.array([\n",
    "    [18,85,78],\n",
    "    [19,92,88],\n",
    "    [17,76,95],\n",
    "    [18,65,70],\n",
    "    [20,90,85]\n",
    "])"
   ]
  },
  {
   "cell_type": "code",
   "execution_count": null,
   "id": "7bd7c987",
   "metadata": {},
   "outputs": [
    {
     "data": {
      "text/plain": [
       "array([[18, 85, 78],\n",
       "       [19, 92, 88],\n",
       "       [17, 76, 95],\n",
       "       [18, 65, 70],\n",
       "       [20, 90, 85]])"
      ]
     },
     "execution_count": 187,
     "metadata": {},
     "output_type": "execute_result"
    }
   ],
   "source": [
    "data"
   ]
  },
  {
   "cell_type": "code",
   "execution_count": null,
   "id": "103ea429",
   "metadata": {},
   "outputs": [
    {
     "data": {
      "text/plain": [
       "(5, 3)"
      ]
     },
     "execution_count": 188,
     "metadata": {},
     "output_type": "execute_result"
    }
   ],
   "source": [
    "# get the shape of the matrix\n",
    "data.shape"
   ]
  },
  {
   "cell_type": "code",
   "execution_count": null,
   "id": "8a8d3f23",
   "metadata": {},
   "outputs": [
    {
     "data": {
      "text/plain": [
       "np.float64(18.4)"
      ]
     },
     "execution_count": 189,
     "metadata": {},
     "output_type": "execute_result"
    }
   ],
   "source": [
    "# find the avg age of students\n",
    "data[:,0].mean()\n",
    "np.mean(data[:,0])"
   ]
  },
  {
   "cell_type": "code",
   "execution_count": null,
   "id": "e9eafb1f",
   "metadata": {},
   "outputs": [
    {
     "data": {
      "text/plain": [
       "array([85, 92, 76, 65, 90])"
      ]
     },
     "execution_count": 190,
     "metadata": {},
     "output_type": "execute_result"
    }
   ],
   "source": [
    "# extract math marks of all students\n",
    "maths_marks = data[:,1]\n",
    "maths_marks"
   ]
  },
  {
   "cell_type": "code",
   "execution_count": null,
   "id": "b5be8019",
   "metadata": {},
   "outputs": [
    {
     "data": {
      "text/plain": [
       "np.int64(95)"
      ]
     },
     "execution_count": 191,
     "metadata": {},
     "output_type": "execute_result"
    }
   ],
   "source": [
    "# find the highest science marks \n",
    "\n",
    "data[:,2].max()"
   ]
  },
  {
   "cell_type": "code",
   "execution_count": null,
   "id": "3e09276f",
   "metadata": {},
   "outputs": [
    {
     "data": {
      "text/plain": [
       "array([[19, 92, 88]])"
      ]
     },
     "execution_count": 192,
     "metadata": {},
     "output_type": "execute_result"
    }
   ],
   "source": [
    "# get details of the students who scores more than 90 in maths\n",
    "\n",
    "data[data[:,1]>90]"
   ]
  },
  {
   "cell_type": "code",
   "execution_count": null,
   "id": "db50991a",
   "metadata": {},
   "outputs": [
    {
     "data": {
      "text/plain": [
       "array([[18, 85, 78],\n",
       "       [19, 92, 88],\n",
       "       [17, 76, 95],\n",
       "       [18, 65, 70],\n",
       "       [20, 90, 85]])"
      ]
     },
     "execution_count": 193,
     "metadata": {},
     "output_type": "execute_result"
    }
   ],
   "source": [
    "# increase math marks of all students by 5 \n",
    "data"
   ]
  },
  {
   "cell_type": "code",
   "execution_count": null,
   "id": "445dea4f",
   "metadata": {},
   "outputs": [
    {
     "data": {
      "text/plain": [
       "3"
      ]
     },
     "execution_count": 195,
     "metadata": {},
     "output_type": "execute_result"
    }
   ],
   "source": [
    "# find how many students are younder than 19\n",
    "\n",
    "len(data[data[:,0]<  19])"
   ]
  },
  {
   "cell_type": "code",
   "execution_count": null,
   "id": "fd7fd3b8",
   "metadata": {},
   "outputs": [
    {
     "data": {
      "text/plain": [
       "array([81.6, 83.2])"
      ]
     },
     "execution_count": 209,
     "metadata": {},
     "output_type": "execute_result"
    }
   ],
   "source": [
    "# calculate the avg marks in each subject column wise mean\n",
    "\n",
    "np.mean(data[:,1:],axis=0)\n"
   ]
  },
  {
   "cell_type": "code",
   "execution_count": null,
   "id": "1119b738",
   "metadata": {},
   "outputs": [
    {
     "data": {
      "text/plain": [
       "array([[19, 92, 88],\n",
       "       [20, 90, 85]])"
      ]
     },
     "execution_count": 217,
     "metadata": {},
     "output_type": "execute_result"
    }
   ],
   "source": [
    "# get data of students who scored at least 80 in both subject\n",
    "\n",
    "data[(data[:,1]>=80) & (data[:,2]>= 80)]"
   ]
  },
  {
   "cell_type": "code",
   "execution_count": 591,
   "id": "74a1d6a4",
   "metadata": {},
   "outputs": [],
   "source": [
    "# replace all science marks <75 with 0 \n",
    "data[:,2][data[:,2]<75] =0"
   ]
  },
  {
   "cell_type": "code",
   "execution_count": 592,
   "id": "459d91a1",
   "metadata": {},
   "outputs": [
    {
     "data": {
      "text/plain": [
       "array([[18, 85, 78],\n",
       "       [19, 92, 88],\n",
       "       [17, 76, 95],\n",
       "       [18, 65,  0],\n",
       "       [20, 90, 85]])"
      ]
     },
     "execution_count": 592,
     "metadata": {},
     "output_type": "execute_result"
    }
   ],
   "source": [
    "data"
   ]
  },
  {
   "cell_type": "markdown",
   "id": "d02f1b24",
   "metadata": {},
   "source": [
    "#             Thats all in this notebook "
   ]
  },
  {
   "cell_type": "markdown",
   "id": "68128a01",
   "metadata": {},
   "source": []
  }
 ],
 "metadata": {
  "kernelspec": {
   "display_name": "Python 3",
   "language": "python",
   "name": "python3"
  },
  "language_info": {
   "codemirror_mode": {
    "name": "ipython",
    "version": 3
   },
   "file_extension": ".py",
   "mimetype": "text/x-python",
   "name": "python",
   "nbconvert_exporter": "python",
   "pygments_lexer": "ipython3",
   "version": "3.12.5"
  }
 },
 "nbformat": 4,
 "nbformat_minor": 5
}
