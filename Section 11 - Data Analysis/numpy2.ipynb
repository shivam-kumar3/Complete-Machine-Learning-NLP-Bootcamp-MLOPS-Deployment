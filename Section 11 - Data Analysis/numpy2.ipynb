{
 "cells": [
  {
   "cell_type": "code",
   "execution_count": 1,
   "id": "97dbac09",
   "metadata": {},
   "outputs": [],
   "source": [
    "import numpy as np"
   ]
  },
  {
   "cell_type": "code",
   "execution_count": 3,
   "id": "1d2ed867",
   "metadata": {},
   "outputs": [],
   "source": [
    "lst = np.array([1,2,3,4])"
   ]
  },
  {
   "cell_type": "code",
   "execution_count": 5,
   "id": "73c1e35c",
   "metadata": {},
   "outputs": [
    {
     "data": {
      "text/plain": [
       "array([2, 4, 6, 8])"
      ]
     },
     "execution_count": 5,
     "metadata": {},
     "output_type": "execute_result"
    }
   ],
   "source": [
    "lst * 2"
   ]
  },
  {
   "cell_type": "code",
   "execution_count": 7,
   "id": "f4cee1f3",
   "metadata": {},
   "outputs": [
    {
     "data": {
      "text/plain": [
       "array(['1', '2', '4', 'shivam'], dtype='<U21')"
      ]
     },
     "execution_count": 7,
     "metadata": {},
     "output_type": "execute_result"
    }
   ],
   "source": [
    "a = [1,2,4,'shivam']\n",
    "np.array(a)"
   ]
  },
  {
   "cell_type": "code",
   "execution_count": 8,
   "id": "cbe4ea24",
   "metadata": {},
   "outputs": [],
   "source": [
    "b = [[1,2,3,4],[5,6,7,8],[9,10,11,13]]"
   ]
  },
  {
   "cell_type": "code",
   "execution_count": 9,
   "id": "64957177",
   "metadata": {},
   "outputs": [
    {
     "data": {
      "text/plain": [
       "[[1, 2, 3, 4], [5, 6, 7, 8], [9, 10, 11, 13]]"
      ]
     },
     "execution_count": 9,
     "metadata": {},
     "output_type": "execute_result"
    }
   ],
   "source": [
    "b"
   ]
  },
  {
   "cell_type": "code",
   "execution_count": 16,
   "id": "cd15449d",
   "metadata": {},
   "outputs": [],
   "source": [
    "new = np.array([b])"
   ]
  },
  {
   "cell_type": "code",
   "execution_count": 20,
   "id": "7f116167",
   "metadata": {},
   "outputs": [
    {
     "data": {
      "text/plain": [
       "array([[[ 1,  2,  3,  4],\n",
       "        [ 5,  6,  7,  8],\n",
       "        [ 9, 10, 11, 13]]])"
      ]
     },
     "execution_count": 20,
     "metadata": {},
     "output_type": "execute_result"
    }
   ],
   "source": [
    "new"
   ]
  },
  {
   "cell_type": "code",
   "execution_count": 26,
   "id": "dd7e9ca9",
   "metadata": {},
   "outputs": [
    {
     "data": {
      "text/plain": [
       "np.int64(7)"
      ]
     },
     "execution_count": 26,
     "metadata": {},
     "output_type": "execute_result"
    }
   ],
   "source": [
    "new[0,1,2]"
   ]
  },
  {
   "cell_type": "code",
   "execution_count": 28,
   "id": "9f3a62d9",
   "metadata": {},
   "outputs": [
    {
     "data": {
      "text/plain": [
       "array([0.54987067, 0.48332729, 0.93289866, 0.15537039, 0.0038655 ,\n",
       "       0.569887  , 0.52767446, 0.02958185, 0.15867176, 0.14816434,\n",
       "       0.92956608, 0.8286281 , 0.42986863, 0.99451061, 0.66233317,\n",
       "       0.81189962, 0.8092849 , 0.79395065, 0.45866686, 0.2814388 ,\n",
       "       0.45900991, 0.37250666, 0.20515747, 0.67626667, 0.5109078 ,\n",
       "       0.2815697 , 0.95804651, 0.79319343, 0.51568539, 0.69504315,\n",
       "       0.25335838, 0.35904308, 0.82104266, 0.41815183, 0.48236207,\n",
       "       0.89817994, 0.23875613, 0.78785904, 0.99692577, 0.53896658,\n",
       "       0.91020252, 0.39422108, 0.13600907, 0.20189957, 0.86890209,\n",
       "       0.13942864, 0.48793148, 0.32854292, 0.41280779, 0.96604148,\n",
       "       0.91704302, 0.07005648, 0.19902145, 0.48367655, 0.54935162,\n",
       "       0.74239202, 0.22009578, 0.53799815, 0.06972297, 0.62334504,\n",
       "       0.04802306, 0.96699557, 0.77815865, 0.30805144, 0.02077001,\n",
       "       0.58853217, 0.64431809, 0.75191536, 0.99828696, 0.36851034,\n",
       "       0.12450623, 0.01556229, 0.87190072, 0.16949151, 0.86795873,\n",
       "       0.02920782, 0.91778023, 0.15347333, 0.36191987, 0.93485226,\n",
       "       0.22830128, 0.67511443, 0.90487357, 0.65117112, 0.56282724,\n",
       "       0.46569016, 0.24971364, 0.32441238, 0.7623946 , 0.34053775,\n",
       "       0.06665266, 0.58600464, 0.27601175, 0.45911353, 0.24752487,\n",
       "       0.90049424, 0.13419585, 0.44135416, 0.07872157, 0.78130762])"
      ]
     },
     "execution_count": 28,
     "metadata": {},
     "output_type": "execute_result"
    }
   ],
   "source": [
    "np.random.rand(100)"
   ]
  },
  {
   "cell_type": "code",
   "execution_count": null,
   "id": "a0bb98ff",
   "metadata": {},
   "outputs": [],
   "source": []
  },
  {
   "cell_type": "code",
   "execution_count": null,
   "id": "f3bfcc3e",
   "metadata": {},
   "outputs": [],
   "source": []
  },
  {
   "cell_type": "code",
   "execution_count": null,
   "id": "b6bc892f",
   "metadata": {},
   "outputs": [],
   "source": []
  },
  {
   "cell_type": "code",
   "execution_count": null,
   "id": "cc8c1d15",
   "metadata": {},
   "outputs": [],
   "source": []
  },
  {
   "cell_type": "code",
   "execution_count": null,
   "id": "912bd09e",
   "metadata": {},
   "outputs": [],
   "source": []
  },
  {
   "cell_type": "code",
   "execution_count": null,
   "id": "8fb4621b",
   "metadata": {},
   "outputs": [],
   "source": []
  },
  {
   "cell_type": "code",
   "execution_count": null,
   "id": "092ea06e",
   "metadata": {},
   "outputs": [],
   "source": []
  },
  {
   "cell_type": "code",
   "execution_count": null,
   "id": "aaf7bbf4",
   "metadata": {},
   "outputs": [],
   "source": []
  },
  {
   "cell_type": "code",
   "execution_count": null,
   "id": "bd080bd7",
   "metadata": {},
   "outputs": [],
   "source": []
  },
  {
   "cell_type": "code",
   "execution_count": null,
   "id": "40e368af",
   "metadata": {},
   "outputs": [],
   "source": []
  },
  {
   "cell_type": "code",
   "execution_count": null,
   "id": "ac5430a9",
   "metadata": {},
   "outputs": [],
   "source": []
  },
  {
   "cell_type": "code",
   "execution_count": null,
   "id": "bd2b2742",
   "metadata": {},
   "outputs": [],
   "source": []
  },
  {
   "cell_type": "code",
   "execution_count": null,
   "id": "c46a373f",
   "metadata": {},
   "outputs": [],
   "source": []
  },
  {
   "cell_type": "code",
   "execution_count": null,
   "id": "df496efd",
   "metadata": {},
   "outputs": [],
   "source": []
  }
 ],
 "metadata": {
  "kernelspec": {
   "display_name": "Python 3",
   "language": "python",
   "name": "python3"
  },
  "language_info": {
   "codemirror_mode": {
    "name": "ipython",
    "version": 3
   },
   "file_extension": ".py",
   "mimetype": "text/x-python",
   "name": "python",
   "nbconvert_exporter": "python",
   "pygments_lexer": "ipython3",
   "version": "3.12.5"
  }
 },
 "nbformat": 4,
 "nbformat_minor": 5
}
