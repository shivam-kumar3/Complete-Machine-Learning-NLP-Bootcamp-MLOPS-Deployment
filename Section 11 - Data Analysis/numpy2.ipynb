{
 "cells": [
  {
   "cell_type": "code",
   "execution_count": 1,
   "id": "97dbac09",
   "metadata": {},
   "outputs": [],
   "source": [
    "import numpy as np"
   ]
  },
  {
   "cell_type": "code",
   "execution_count": 3,
   "id": "1d2ed867",
   "metadata": {},
   "outputs": [],
   "source": [
    "lst = np.array([1,2,3,4])"
   ]
  },
  {
   "cell_type": "code",
   "execution_count": 5,
   "id": "73c1e35c",
   "metadata": {},
   "outputs": [
    {
     "data": {
      "text/plain": [
       "array([2, 4, 6, 8])"
      ]
     },
     "execution_count": 5,
     "metadata": {},
     "output_type": "execute_result"
    }
   ],
   "source": [
    "lst * 2"
   ]
  },
  {
   "cell_type": "code",
   "execution_count": 7,
   "id": "f4cee1f3",
   "metadata": {},
   "outputs": [
    {
     "data": {
      "text/plain": [
       "array(['1', '2', '4', 'shivam'], dtype='<U21')"
      ]
     },
     "execution_count": 7,
     "metadata": {},
     "output_type": "execute_result"
    }
   ],
   "source": [
    "a = [1,2,4,'shivam']\n",
    "np.array(a)"
   ]
  },
  {
   "cell_type": "code",
   "execution_count": 8,
   "id": "cbe4ea24",
   "metadata": {},
   "outputs": [],
   "source": [
    "b = [[1,2,3,4],[5,6,7,8],[9,10,11,13]]"
   ]
  },
  {
   "cell_type": "code",
   "execution_count": 9,
   "id": "64957177",
   "metadata": {},
   "outputs": [
    {
     "data": {
      "text/plain": [
       "[[1, 2, 3, 4], [5, 6, 7, 8], [9, 10, 11, 13]]"
      ]
     },
     "execution_count": 9,
     "metadata": {},
     "output_type": "execute_result"
    }
   ],
   "source": [
    "b"
   ]
  },
  {
   "cell_type": "code",
   "execution_count": 16,
   "id": "cd15449d",
   "metadata": {},
   "outputs": [],
   "source": [
    "new = np.array([b])"
   ]
  },
  {
   "cell_type": "code",
   "execution_count": 20,
   "id": "7f116167",
   "metadata": {},
   "outputs": [
    {
     "data": {
      "text/plain": [
       "array([[[ 1,  2,  3,  4],\n",
       "        [ 5,  6,  7,  8],\n",
       "        [ 9, 10, 11, 13]]])"
      ]
     },
     "execution_count": 20,
     "metadata": {},
     "output_type": "execute_result"
    }
   ],
   "source": [
    "new"
   ]
  },
  {
   "cell_type": "code",
   "execution_count": 26,
   "id": "dd7e9ca9",
   "metadata": {},
   "outputs": [
    {
     "data": {
      "text/plain": [
       "np.int64(7)"
      ]
     },
     "execution_count": 26,
     "metadata": {},
     "output_type": "execute_result"
    }
   ],
   "source": [
    "new[0,1,2]"
   ]
  },
  {
   "cell_type": "code",
   "execution_count": 28,
   "id": "9f3a62d9",
   "metadata": {},
   "outputs": [
    {
     "data": {
      "text/plain": [
       "array([0.54987067, 0.48332729, 0.93289866, 0.15537039, 0.0038655 ,\n",
       "       0.569887  , 0.52767446, 0.02958185, 0.15867176, 0.14816434,\n",
       "       0.92956608, 0.8286281 , 0.42986863, 0.99451061, 0.66233317,\n",
       "       0.81189962, 0.8092849 , 0.79395065, 0.45866686, 0.2814388 ,\n",
       "       0.45900991, 0.37250666, 0.20515747, 0.67626667, 0.5109078 ,\n",
       "       0.2815697 , 0.95804651, 0.79319343, 0.51568539, 0.69504315,\n",
       "       0.25335838, 0.35904308, 0.82104266, 0.41815183, 0.48236207,\n",
       "       0.89817994, 0.23875613, 0.78785904, 0.99692577, 0.53896658,\n",
       "       0.91020252, 0.39422108, 0.13600907, 0.20189957, 0.86890209,\n",
       "       0.13942864, 0.48793148, 0.32854292, 0.41280779, 0.96604148,\n",
       "       0.91704302, 0.07005648, 0.19902145, 0.48367655, 0.54935162,\n",
       "       0.74239202, 0.22009578, 0.53799815, 0.06972297, 0.62334504,\n",
       "       0.04802306, 0.96699557, 0.77815865, 0.30805144, 0.02077001,\n",
       "       0.58853217, 0.64431809, 0.75191536, 0.99828696, 0.36851034,\n",
       "       0.12450623, 0.01556229, 0.87190072, 0.16949151, 0.86795873,\n",
       "       0.02920782, 0.91778023, 0.15347333, 0.36191987, 0.93485226,\n",
       "       0.22830128, 0.67511443, 0.90487357, 0.65117112, 0.56282724,\n",
       "       0.46569016, 0.24971364, 0.32441238, 0.7623946 , 0.34053775,\n",
       "       0.06665266, 0.58600464, 0.27601175, 0.45911353, 0.24752487,\n",
       "       0.90049424, 0.13419585, 0.44135416, 0.07872157, 0.78130762])"
      ]
     },
     "execution_count": 28,
     "metadata": {},
     "output_type": "execute_result"
    }
   ],
   "source": [
    "np.random.rand(100)"
   ]
  },
  {
   "cell_type": "code",
   "execution_count": 30,
   "id": "a0bb98ff",
   "metadata": {},
   "outputs": [],
   "source": [
    "num = np.arange(1,11)"
   ]
  },
  {
   "cell_type": "code",
   "execution_count": 32,
   "id": "f3bfcc3e",
   "metadata": {},
   "outputs": [
    {
     "data": {
      "text/plain": [
       "numpy.ndarray"
      ]
     },
     "execution_count": 32,
     "metadata": {},
     "output_type": "execute_result"
    }
   ],
   "source": [
    "type(num)"
   ]
  },
  {
   "cell_type": "code",
   "execution_count": 38,
   "id": "b6bc892f",
   "metadata": {},
   "outputs": [
    {
     "data": {
      "text/plain": [
       "array([[0., 0., 0., 0., 0., 0., 0., 0., 0.],\n",
       "       [0., 0., 0., 0., 0., 0., 0., 0., 0.]])"
      ]
     },
     "execution_count": 38,
     "metadata": {},
     "output_type": "execute_result"
    }
   ],
   "source": [
    "arr = np.zeros((2,9))\n",
    "arr"
   ]
  },
  {
   "cell_type": "code",
   "execution_count": 39,
   "id": "cc8c1d15",
   "metadata": {},
   "outputs": [
    {
     "data": {
      "text/plain": [
       "array([[1., 1., 1.],\n",
       "       [1., 1., 1.]])"
      ]
     },
     "execution_count": 39,
     "metadata": {},
     "output_type": "execute_result"
    }
   ],
   "source": [
    "np.ones((2,3))"
   ]
  },
  {
   "cell_type": "code",
   "execution_count": 42,
   "id": "912bd09e",
   "metadata": {},
   "outputs": [
    {
     "data": {
      "text/plain": [
       "array([ 1.        ,  1.51515152,  2.03030303,  2.54545455,  3.06060606,\n",
       "        3.57575758,  4.09090909,  4.60606061,  5.12121212,  5.63636364,\n",
       "        6.15151515,  6.66666667,  7.18181818,  7.6969697 ,  8.21212121,\n",
       "        8.72727273,  9.24242424,  9.75757576, 10.27272727, 10.78787879,\n",
       "       11.3030303 , 11.81818182, 12.33333333, 12.84848485, 13.36363636,\n",
       "       13.87878788, 14.39393939, 14.90909091, 15.42424242, 15.93939394,\n",
       "       16.45454545, 16.96969697, 17.48484848, 18.        , 18.51515152,\n",
       "       19.03030303, 19.54545455, 20.06060606, 20.57575758, 21.09090909,\n",
       "       21.60606061, 22.12121212, 22.63636364, 23.15151515, 23.66666667,\n",
       "       24.18181818, 24.6969697 , 25.21212121, 25.72727273, 26.24242424,\n",
       "       26.75757576, 27.27272727, 27.78787879, 28.3030303 , 28.81818182,\n",
       "       29.33333333, 29.84848485, 30.36363636, 30.87878788, 31.39393939,\n",
       "       31.90909091, 32.42424242, 32.93939394, 33.45454545, 33.96969697,\n",
       "       34.48484848, 35.        , 35.51515152, 36.03030303, 36.54545455,\n",
       "       37.06060606, 37.57575758, 38.09090909, 38.60606061, 39.12121212,\n",
       "       39.63636364, 40.15151515, 40.66666667, 41.18181818, 41.6969697 ,\n",
       "       42.21212121, 42.72727273, 43.24242424, 43.75757576, 44.27272727,\n",
       "       44.78787879, 45.3030303 , 45.81818182, 46.33333333, 46.84848485,\n",
       "       47.36363636, 47.87878788, 48.39393939, 48.90909091, 49.42424242,\n",
       "       49.93939394, 50.45454545, 50.96969697, 51.48484848, 52.        ])"
      ]
     },
     "execution_count": 42,
     "metadata": {},
     "output_type": "execute_result"
    }
   ],
   "source": [
    "np.linspace(1,52,100)"
   ]
  },
  {
   "cell_type": "code",
   "execution_count": 48,
   "id": "8fb4621b",
   "metadata": {},
   "outputs": [],
   "source": [
    "x = np.random.randint(0,2,100)"
   ]
  },
  {
   "cell_type": "code",
   "execution_count": 70,
   "id": "092ea06e",
   "metadata": {},
   "outputs": [],
   "source": [
    "f1 = np.random.rand(100)\n",
    "f2 = np.random.rand(100) * 10\n",
    "f3 = np.random.randint(0,100,100)\n",
    "np.random.seed(42)\n"
   ]
  },
  {
   "cell_type": "code",
   "execution_count": 71,
   "id": "aaf7bbf4",
   "metadata": {},
   "outputs": [
    {
     "data": {
      "text/plain": [
       "array([1, 1, 0, 0, 0, 1, 0, 1, 0, 0, 1, 1, 0, 1, 0, 0, 1, 1, 1, 1, 0, 1,\n",
       "       1, 1, 0, 0, 0, 0, 0, 1, 1, 1, 0, 1, 1, 1, 1, 0, 1, 0, 0, 1, 0, 0,\n",
       "       1, 1, 1, 0, 0, 1, 0, 1, 1, 1, 1, 0, 0, 0, 1, 0, 0, 0, 0, 0, 0, 1,\n",
       "       1, 0, 0, 0, 1, 0, 1, 1, 1, 1, 1, 1, 0, 0, 0, 0, 1, 0, 1, 1, 1, 1,\n",
       "       1, 1, 1, 0, 1, 1, 1, 0, 1, 1, 1, 0], dtype=int32)"
      ]
     },
     "execution_count": 71,
     "metadata": {},
     "output_type": "execute_result"
    }
   ],
   "source": [
    "x"
   ]
  },
  {
   "cell_type": "code",
   "execution_count": 72,
   "id": "bd080bd7",
   "metadata": {},
   "outputs": [],
   "source": [
    "import pandas as pd "
   ]
  },
  {
   "cell_type": "code",
   "execution_count": 73,
   "id": "40e368af",
   "metadata": {},
   "outputs": [],
   "source": [
    "df = pd.DataFrame({\"F1\":f1,\"F2\":f2,\"F3\":f3,\"Output\":x})"
   ]
  },
  {
   "cell_type": "code",
   "execution_count": 74,
   "id": "ac5430a9",
   "metadata": {},
   "outputs": [
    {
     "data": {
      "text/html": [
       "<div>\n",
       "<style scoped>\n",
       "    .dataframe tbody tr th:only-of-type {\n",
       "        vertical-align: middle;\n",
       "    }\n",
       "\n",
       "    .dataframe tbody tr th {\n",
       "        vertical-align: top;\n",
       "    }\n",
       "\n",
       "    .dataframe thead th {\n",
       "        text-align: right;\n",
       "    }\n",
       "</style>\n",
       "<table border=\"1\" class=\"dataframe\">\n",
       "  <thead>\n",
       "    <tr style=\"text-align: right;\">\n",
       "      <th></th>\n",
       "      <th>F1</th>\n",
       "      <th>F2</th>\n",
       "      <th>F3</th>\n",
       "      <th>Output</th>\n",
       "    </tr>\n",
       "  </thead>\n",
       "  <tbody>\n",
       "    <tr>\n",
       "      <th>0</th>\n",
       "      <td>0.638187</td>\n",
       "      <td>2.210490</td>\n",
       "      <td>17</td>\n",
       "      <td>1</td>\n",
       "    </tr>\n",
       "    <tr>\n",
       "      <th>1</th>\n",
       "      <td>0.449804</td>\n",
       "      <td>3.298653</td>\n",
       "      <td>42</td>\n",
       "      <td>1</td>\n",
       "    </tr>\n",
       "    <tr>\n",
       "      <th>2</th>\n",
       "      <td>0.244262</td>\n",
       "      <td>5.143969</td>\n",
       "      <td>83</td>\n",
       "      <td>0</td>\n",
       "    </tr>\n",
       "    <tr>\n",
       "      <th>3</th>\n",
       "      <td>0.776256</td>\n",
       "      <td>4.305437</td>\n",
       "      <td>27</td>\n",
       "      <td>0</td>\n",
       "    </tr>\n",
       "    <tr>\n",
       "      <th>4</th>\n",
       "      <td>0.219426</td>\n",
       "      <td>1.027482</td>\n",
       "      <td>23</td>\n",
       "      <td>0</td>\n",
       "    </tr>\n",
       "    <tr>\n",
       "      <th>...</th>\n",
       "      <td>...</td>\n",
       "      <td>...</td>\n",
       "      <td>...</td>\n",
       "      <td>...</td>\n",
       "    </tr>\n",
       "    <tr>\n",
       "      <th>95</th>\n",
       "      <td>0.279435</td>\n",
       "      <td>4.051888</td>\n",
       "      <td>19</td>\n",
       "      <td>0</td>\n",
       "    </tr>\n",
       "    <tr>\n",
       "      <th>96</th>\n",
       "      <td>0.500432</td>\n",
       "      <td>7.744140</td>\n",
       "      <td>69</td>\n",
       "      <td>1</td>\n",
       "    </tr>\n",
       "    <tr>\n",
       "      <th>97</th>\n",
       "      <td>0.808418</td>\n",
       "      <td>3.675119</td>\n",
       "      <td>88</td>\n",
       "      <td>1</td>\n",
       "    </tr>\n",
       "    <tr>\n",
       "      <th>98</th>\n",
       "      <td>0.488497</td>\n",
       "      <td>2.601887</td>\n",
       "      <td>90</td>\n",
       "      <td>1</td>\n",
       "    </tr>\n",
       "    <tr>\n",
       "      <th>99</th>\n",
       "      <td>0.206842</td>\n",
       "      <td>4.133693</td>\n",
       "      <td>12</td>\n",
       "      <td>0</td>\n",
       "    </tr>\n",
       "  </tbody>\n",
       "</table>\n",
       "<p>100 rows × 4 columns</p>\n",
       "</div>"
      ],
      "text/plain": [
       "          F1        F2  F3  Output\n",
       "0   0.638187  2.210490  17       1\n",
       "1   0.449804  3.298653  42       1\n",
       "2   0.244262  5.143969  83       0\n",
       "3   0.776256  4.305437  27       0\n",
       "4   0.219426  1.027482  23       0\n",
       "..       ...       ...  ..     ...\n",
       "95  0.279435  4.051888  19       0\n",
       "96  0.500432  7.744140  69       1\n",
       "97  0.808418  3.675119  88       1\n",
       "98  0.488497  2.601887  90       1\n",
       "99  0.206842  4.133693  12       0\n",
       "\n",
       "[100 rows x 4 columns]"
      ]
     },
     "execution_count": 74,
     "metadata": {},
     "output_type": "execute_result"
    }
   ],
   "source": [
    "df"
   ]
  },
  {
   "cell_type": "code",
   "execution_count": null,
   "id": "bd2b2742",
   "metadata": {},
   "outputs": [],
   "source": []
  },
  {
   "cell_type": "code",
   "execution_count": null,
   "id": "c46a373f",
   "metadata": {},
   "outputs": [],
   "source": []
  },
  {
   "cell_type": "code",
   "execution_count": null,
   "id": "df496efd",
   "metadata": {},
   "outputs": [],
   "source": []
  }
 ],
 "metadata": {
  "kernelspec": {
   "display_name": "Python 3",
   "language": "python",
   "name": "python3"
  },
  "language_info": {
   "codemirror_mode": {
    "name": "ipython",
    "version": 3
   },
   "file_extension": ".py",
   "mimetype": "text/x-python",
   "name": "python",
   "nbconvert_exporter": "python",
   "pygments_lexer": "ipython3",
   "version": "3.12.5"
  }
 },
 "nbformat": 4,
 "nbformat_minor": 5
}
