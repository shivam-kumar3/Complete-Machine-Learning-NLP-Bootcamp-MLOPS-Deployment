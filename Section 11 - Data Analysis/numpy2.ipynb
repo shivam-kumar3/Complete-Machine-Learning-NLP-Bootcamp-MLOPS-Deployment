{
 "cells": [
  {
   "cell_type": "code",
   "execution_count": 1,
   "id": "97dbac09",
   "metadata": {},
   "outputs": [],
   "source": [
    "import numpy as np"
   ]
  },
  {
   "cell_type": "code",
   "execution_count": 2,
   "id": "1d2ed867",
   "metadata": {},
   "outputs": [],
   "source": [
    "lst = np.array([1,2,3,4])"
   ]
  },
  {
   "cell_type": "code",
   "execution_count": 3,
   "id": "73c1e35c",
   "metadata": {},
   "outputs": [
    {
     "data": {
      "text/plain": [
       "array([2, 4, 6, 8])"
      ]
     },
     "execution_count": 3,
     "metadata": {},
     "output_type": "execute_result"
    }
   ],
   "source": [
    "lst * 2"
   ]
  },
  {
   "cell_type": "code",
   "execution_count": 4,
   "id": "f4cee1f3",
   "metadata": {},
   "outputs": [
    {
     "data": {
      "text/plain": [
       "array(['1', '2', '4', 'shivam'], dtype='<U21')"
      ]
     },
     "execution_count": 4,
     "metadata": {},
     "output_type": "execute_result"
    }
   ],
   "source": [
    "a = [1,2,4,'shivam']\n",
    "np.array(a)"
   ]
  },
  {
   "cell_type": "code",
   "execution_count": 5,
   "id": "cbe4ea24",
   "metadata": {},
   "outputs": [],
   "source": [
    "b = [[1,2,3,4],[5,6,7,8],[9,10,11,13]]"
   ]
  },
  {
   "cell_type": "code",
   "execution_count": 6,
   "id": "64957177",
   "metadata": {},
   "outputs": [
    {
     "data": {
      "text/plain": [
       "[[1, 2, 3, 4], [5, 6, 7, 8], [9, 10, 11, 13]]"
      ]
     },
     "execution_count": 6,
     "metadata": {},
     "output_type": "execute_result"
    }
   ],
   "source": [
    "b"
   ]
  },
  {
   "cell_type": "code",
   "execution_count": 7,
   "id": "cd15449d",
   "metadata": {},
   "outputs": [],
   "source": [
    "new = np.array([b])"
   ]
  },
  {
   "cell_type": "code",
   "execution_count": 8,
   "id": "7f116167",
   "metadata": {},
   "outputs": [
    {
     "data": {
      "text/plain": [
       "array([[[ 1,  2,  3,  4],\n",
       "        [ 5,  6,  7,  8],\n",
       "        [ 9, 10, 11, 13]]])"
      ]
     },
     "execution_count": 8,
     "metadata": {},
     "output_type": "execute_result"
    }
   ],
   "source": [
    "new"
   ]
  },
  {
   "cell_type": "code",
   "execution_count": 9,
   "id": "dd7e9ca9",
   "metadata": {},
   "outputs": [
    {
     "data": {
      "text/plain": [
       "np.int64(7)"
      ]
     },
     "execution_count": 9,
     "metadata": {},
     "output_type": "execute_result"
    }
   ],
   "source": [
    "new[0,1,2]"
   ]
  },
  {
   "cell_type": "code",
   "execution_count": 10,
   "id": "9f3a62d9",
   "metadata": {},
   "outputs": [
    {
     "data": {
      "text/plain": [
       "array([0.35676834, 0.01522226, 0.25581703, 0.55105306, 0.85080412,\n",
       "       0.06825914, 0.14858934, 0.35627137, 0.17241618, 0.36434598,\n",
       "       0.34758228, 0.55524187, 0.15068341, 0.74289149, 0.76065437,\n",
       "       0.80155604, 0.93158696, 0.78228699, 0.89421916, 0.31447027,\n",
       "       0.11687575, 0.09967277, 0.8408442 , 0.33359891, 0.53511585,\n",
       "       0.20185342, 0.82824419, 0.06730978, 0.47919052, 0.69009321,\n",
       "       0.86900539, 0.45371621, 0.30385982, 0.72593081, 0.67084364,\n",
       "       0.02732185, 0.03774195, 0.77662685, 0.0756026 , 0.75646242,\n",
       "       0.32016455, 0.13966446, 0.94605696, 0.78641977, 0.8859391 ,\n",
       "       0.49878001, 0.45314334, 0.82847989, 0.15777655, 0.70357657,\n",
       "       0.04640872, 0.24539868, 0.89429227, 0.40741728, 0.36823491,\n",
       "       0.6343723 , 0.98671117, 0.51779042, 0.84486269, 0.25129321,\n",
       "       0.36796214, 0.18907605, 0.3372582 , 0.09847096, 0.08621805,\n",
       "       0.82838949, 0.17359828, 0.25823756, 0.85389648, 0.85501376,\n",
       "       0.23827662, 0.97161537, 0.81124195, 0.80285554, 0.43959499,\n",
       "       0.46630357, 0.24274435, 0.43006086, 0.86914141, 0.48070389,\n",
       "       0.56532645, 0.89316873, 0.46676906, 0.72140762, 0.64276578,\n",
       "       0.4697728 , 0.15594654, 0.00885544, 0.42550931, 0.61809442,\n",
       "       0.52436963, 0.61237102, 0.74483053, 0.13257345, 0.56697882,\n",
       "       0.6729316 , 0.52089952, 0.04543413, 0.45882727, 0.48931718])"
      ]
     },
     "execution_count": 10,
     "metadata": {},
     "output_type": "execute_result"
    }
   ],
   "source": [
    "np.random.rand(100)"
   ]
  },
  {
   "cell_type": "code",
   "execution_count": 11,
   "id": "a0bb98ff",
   "metadata": {},
   "outputs": [],
   "source": [
    "num = np.arange(1,11)"
   ]
  },
  {
   "cell_type": "code",
   "execution_count": 12,
   "id": "f3bfcc3e",
   "metadata": {},
   "outputs": [
    {
     "data": {
      "text/plain": [
       "numpy.ndarray"
      ]
     },
     "execution_count": 12,
     "metadata": {},
     "output_type": "execute_result"
    }
   ],
   "source": [
    "type(num)"
   ]
  },
  {
   "cell_type": "code",
   "execution_count": 13,
   "id": "b6bc892f",
   "metadata": {},
   "outputs": [
    {
     "data": {
      "text/plain": [
       "array([[0., 0., 0., 0., 0., 0., 0., 0., 0.],\n",
       "       [0., 0., 0., 0., 0., 0., 0., 0., 0.]])"
      ]
     },
     "execution_count": 13,
     "metadata": {},
     "output_type": "execute_result"
    }
   ],
   "source": [
    "arr = np.zeros((2,9))\n",
    "arr"
   ]
  },
  {
   "cell_type": "code",
   "execution_count": 14,
   "id": "cc8c1d15",
   "metadata": {},
   "outputs": [
    {
     "data": {
      "text/plain": [
       "array([[1., 1., 1.],\n",
       "       [1., 1., 1.]])"
      ]
     },
     "execution_count": 14,
     "metadata": {},
     "output_type": "execute_result"
    }
   ],
   "source": [
    "np.ones((2,3))"
   ]
  },
  {
   "cell_type": "code",
   "execution_count": 22,
   "id": "912bd09e",
   "metadata": {},
   "outputs": [
    {
     "data": {
      "text/plain": [
       "array([ 1.        ,  1.09090909,  1.18181818,  1.27272727,  1.36363636,\n",
       "        1.45454545,  1.54545455,  1.63636364,  1.72727273,  1.81818182,\n",
       "        1.90909091,  2.        ,  2.09090909,  2.18181818,  2.27272727,\n",
       "        2.36363636,  2.45454545,  2.54545455,  2.63636364,  2.72727273,\n",
       "        2.81818182,  2.90909091,  3.        ,  3.09090909,  3.18181818,\n",
       "        3.27272727,  3.36363636,  3.45454545,  3.54545455,  3.63636364,\n",
       "        3.72727273,  3.81818182,  3.90909091,  4.        ,  4.09090909,\n",
       "        4.18181818,  4.27272727,  4.36363636,  4.45454545,  4.54545455,\n",
       "        4.63636364,  4.72727273,  4.81818182,  4.90909091,  5.        ,\n",
       "        5.09090909,  5.18181818,  5.27272727,  5.36363636,  5.45454545,\n",
       "        5.54545455,  5.63636364,  5.72727273,  5.81818182,  5.90909091,\n",
       "        6.        ,  6.09090909,  6.18181818,  6.27272727,  6.36363636,\n",
       "        6.45454545,  6.54545455,  6.63636364,  6.72727273,  6.81818182,\n",
       "        6.90909091,  7.        ,  7.09090909,  7.18181818,  7.27272727,\n",
       "        7.36363636,  7.45454545,  7.54545455,  7.63636364,  7.72727273,\n",
       "        7.81818182,  7.90909091,  8.        ,  8.09090909,  8.18181818,\n",
       "        8.27272727,  8.36363636,  8.45454545,  8.54545455,  8.63636364,\n",
       "        8.72727273,  8.81818182,  8.90909091,  9.        ,  9.09090909,\n",
       "        9.18181818,  9.27272727,  9.36363636,  9.45454545,  9.54545455,\n",
       "        9.63636364,  9.72727273,  9.81818182,  9.90909091, 10.        ])"
      ]
     },
     "execution_count": 22,
     "metadata": {},
     "output_type": "execute_result"
    }
   ],
   "source": [
    "np.linspace(1,10,100)"
   ]
  },
  {
   "cell_type": "code",
   "execution_count": 24,
   "id": "8fb4621b",
   "metadata": {},
   "outputs": [
    {
     "data": {
      "text/plain": [
       "array([0, 1, 1, 1, 1, 1, 1, 1, 1, 0, 1, 0, 1, 1, 0, 1, 0, 1, 1, 0, 1, 0,\n",
       "       1, 0, 0, 1, 1, 0, 1, 1, 1, 0, 0, 0, 0, 0, 0, 0, 0, 0, 1, 0, 1, 1,\n",
       "       1, 0, 0, 0, 0, 1, 0, 0, 0, 0, 0, 1, 0, 1, 0, 1, 0, 0, 1, 1, 1, 0,\n",
       "       1, 0, 0, 1, 1, 0, 0, 1, 1, 1, 0, 0, 0, 0, 0, 0, 1, 0, 0, 0, 1, 0,\n",
       "       0, 1, 0, 0, 0, 0, 0, 1, 1, 1, 0, 0], dtype=int32)"
      ]
     },
     "execution_count": 24,
     "metadata": {},
     "output_type": "execute_result"
    }
   ],
   "source": [
    "x = np.random.randint(0,2,100)\n",
    "x"
   ]
  },
  {
   "cell_type": "code",
   "execution_count": 17,
   "id": "092ea06e",
   "metadata": {},
   "outputs": [],
   "source": [
    "f1 = np.random.rand(100)\n",
    "f2 = np.random.rand(100) * 10\n",
    "f3 = np.random.randint(0,100,100)\n",
    "np.random.seed(42)\n"
   ]
  },
  {
   "cell_type": "code",
   "execution_count": 19,
   "id": "bd080bd7",
   "metadata": {},
   "outputs": [],
   "source": [
    "import pandas as pd "
   ]
  },
  {
   "cell_type": "code",
   "execution_count": 20,
   "id": "40e368af",
   "metadata": {},
   "outputs": [],
   "source": [
    "df = pd.DataFrame({\"F1\":f1,\"F2\":f2,\"F3\":f3,\"Output\":x})"
   ]
  },
  {
   "cell_type": "code",
   "execution_count": 21,
   "id": "ac5430a9",
   "metadata": {},
   "outputs": [
    {
     "data": {
      "text/html": [
       "<div>\n",
       "<style scoped>\n",
       "    .dataframe tbody tr th:only-of-type {\n",
       "        vertical-align: middle;\n",
       "    }\n",
       "\n",
       "    .dataframe tbody tr th {\n",
       "        vertical-align: top;\n",
       "    }\n",
       "\n",
       "    .dataframe thead th {\n",
       "        text-align: right;\n",
       "    }\n",
       "</style>\n",
       "<table border=\"1\" class=\"dataframe\">\n",
       "  <thead>\n",
       "    <tr style=\"text-align: right;\">\n",
       "      <th></th>\n",
       "      <th>F1</th>\n",
       "      <th>F2</th>\n",
       "      <th>F3</th>\n",
       "      <th>Output</th>\n",
       "    </tr>\n",
       "  </thead>\n",
       "  <tbody>\n",
       "    <tr>\n",
       "      <th>0</th>\n",
       "      <td>0.166253</td>\n",
       "      <td>4.283163</td>\n",
       "      <td>27</td>\n",
       "      <td>0</td>\n",
       "    </tr>\n",
       "    <tr>\n",
       "      <th>1</th>\n",
       "      <td>0.260875</td>\n",
       "      <td>6.974412</td>\n",
       "      <td>34</td>\n",
       "      <td>1</td>\n",
       "    </tr>\n",
       "    <tr>\n",
       "      <th>2</th>\n",
       "      <td>0.193405</td>\n",
       "      <td>5.480789</td>\n",
       "      <td>7</td>\n",
       "      <td>0</td>\n",
       "    </tr>\n",
       "    <tr>\n",
       "      <th>3</th>\n",
       "      <td>0.484283</td>\n",
       "      <td>8.684591</td>\n",
       "      <td>29</td>\n",
       "      <td>0</td>\n",
       "    </tr>\n",
       "    <tr>\n",
       "      <th>4</th>\n",
       "      <td>0.277189</td>\n",
       "      <td>3.091992</td>\n",
       "      <td>72</td>\n",
       "      <td>0</td>\n",
       "    </tr>\n",
       "    <tr>\n",
       "      <th>...</th>\n",
       "      <td>...</td>\n",
       "      <td>...</td>\n",
       "      <td>...</td>\n",
       "      <td>...</td>\n",
       "    </tr>\n",
       "    <tr>\n",
       "      <th>95</th>\n",
       "      <td>0.496715</td>\n",
       "      <td>4.446065</td>\n",
       "      <td>81</td>\n",
       "      <td>1</td>\n",
       "    </tr>\n",
       "    <tr>\n",
       "      <th>96</th>\n",
       "      <td>0.624835</td>\n",
       "      <td>4.698673</td>\n",
       "      <td>15</td>\n",
       "      <td>0</td>\n",
       "    </tr>\n",
       "    <tr>\n",
       "      <th>97</th>\n",
       "      <td>0.560501</td>\n",
       "      <td>6.123892</td>\n",
       "      <td>57</td>\n",
       "      <td>0</td>\n",
       "    </tr>\n",
       "    <tr>\n",
       "      <th>98</th>\n",
       "      <td>0.318866</td>\n",
       "      <td>8.672618</td>\n",
       "      <td>21</td>\n",
       "      <td>1</td>\n",
       "    </tr>\n",
       "    <tr>\n",
       "      <th>99</th>\n",
       "      <td>0.865214</td>\n",
       "      <td>3.772433</td>\n",
       "      <td>41</td>\n",
       "      <td>1</td>\n",
       "    </tr>\n",
       "  </tbody>\n",
       "</table>\n",
       "<p>100 rows × 4 columns</p>\n",
       "</div>"
      ],
      "text/plain": [
       "          F1        F2  F3  Output\n",
       "0   0.166253  4.283163  27       0\n",
       "1   0.260875  6.974412  34       1\n",
       "2   0.193405  5.480789   7       0\n",
       "3   0.484283  8.684591  29       0\n",
       "4   0.277189  3.091992  72       0\n",
       "..       ...       ...  ..     ...\n",
       "95  0.496715  4.446065  81       1\n",
       "96  0.624835  4.698673  15       0\n",
       "97  0.560501  6.123892  57       0\n",
       "98  0.318866  8.672618  21       1\n",
       "99  0.865214  3.772433  41       1\n",
       "\n",
       "[100 rows x 4 columns]"
      ]
     },
     "execution_count": 21,
     "metadata": {},
     "output_type": "execute_result"
    }
   ],
   "source": [
    "df"
   ]
  },
  {
   "cell_type": "code",
   "execution_count": 39,
   "id": "bd2b2742",
   "metadata": {},
   "outputs": [
    {
     "data": {
      "text/plain": [
       "array([0.45825289, 0.54561679, 0.94146481, 0.38610264, 0.96119056,\n",
       "       0.90535064, 0.19579113, 0.0693613 , 0.100778  , 0.01822183,\n",
       "       0.09444296, 0.68300677, 0.07118865, 0.31897563, 0.84487531,\n",
       "       0.02327194, 0.81446848, 0.28185477, 0.11816483, 0.69673717])"
      ]
     },
     "execution_count": 39,
     "metadata": {},
     "output_type": "execute_result"
    }
   ],
   "source": [
    "np.random.rand(20) #generate the number between 0 to 1"
   ]
  },
  {
   "cell_type": "code",
   "execution_count": 40,
   "id": "c46a373f",
   "metadata": {},
   "outputs": [
    {
     "data": {
      "text/plain": [
       "array([ 0.89959988,  0.30729952,  0.81286212,  0.62962884, -0.82899501,\n",
       "       -0.56018104,  0.74729361,  0.61037027, -0.02090159,  0.11732738,\n",
       "        1.2776649 , -0.59157139,  0.54709738, -0.20219265, -0.2176812 ,\n",
       "        1.09877685,  0.82541635,  0.81350964,  1.30547881])"
      ]
     },
     "execution_count": 40,
     "metadata": {},
     "output_type": "execute_result"
    }
   ],
   "source": [
    "np.random.randn(19) # generate the number bw -3 to 3"
   ]
  },
  {
   "cell_type": "code",
   "execution_count": 44,
   "id": "df496efd",
   "metadata": {},
   "outputs": [
    {
     "data": {
      "text/plain": [
       "array([18, 19, 21, 26, 15, 16, 23, 22, 17, 19, 18, 27, 11, 14, 14, 15, 28,\n",
       "       17, 25, 22, 10, 26, 16, 22, 13, 13, 15, 28, 21, 16], dtype=int32)"
      ]
     },
     "execution_count": 44,
     "metadata": {},
     "output_type": "execute_result"
    }
   ],
   "source": [
    "np.random.randint(10,29,30) #generate 30 numbers bw 10 to 29 "
   ]
  },
  {
   "cell_type": "code",
   "execution_count": 46,
   "id": "ca3488e0",
   "metadata": {},
   "outputs": [],
   "source": [
    "# array attributes \n",
    "\n",
    "# Attributes are the variables inside a class \n",
    "# Methods are the functions inside the class"
   ]
  },
  {
   "cell_type": "code",
   "execution_count": 48,
   "id": "13b51bce",
   "metadata": {},
   "outputs": [],
   "source": [
    "arr = np.array([[1,2,3],[4,5,6],[7,8,9]])"
   ]
  },
  {
   "cell_type": "code",
   "execution_count": 49,
   "id": "224d1b23",
   "metadata": {},
   "outputs": [
    {
     "data": {
      "text/plain": [
       "array([[1, 2, 3],\n",
       "       [4, 5, 6],\n",
       "       [7, 8, 9]])"
      ]
     },
     "execution_count": 49,
     "metadata": {},
     "output_type": "execute_result"
    }
   ],
   "source": [
    "arr"
   ]
  },
  {
   "cell_type": "code",
   "execution_count": 51,
   "id": "c053b113",
   "metadata": {},
   "outputs": [
    {
     "data": {
      "text/plain": [
       "(3, 3)"
      ]
     },
     "execution_count": 51,
     "metadata": {},
     "output_type": "execute_result"
    }
   ],
   "source": [
    "arr.shape"
   ]
  },
  {
   "cell_type": "code",
   "execution_count": 53,
   "id": "bb48a857",
   "metadata": {},
   "outputs": [
    {
     "data": {
      "text/plain": [
       "np.int64(1)"
      ]
     },
     "execution_count": 53,
     "metadata": {},
     "output_type": "execute_result"
    }
   ],
   "source": [
    "arr.min()"
   ]
  },
  {
   "cell_type": "code",
   "execution_count": 54,
   "id": "b6753c8f",
   "metadata": {},
   "outputs": [
    {
     "data": {
      "text/plain": [
       "np.int64(9)"
      ]
     },
     "execution_count": 54,
     "metadata": {},
     "output_type": "execute_result"
    }
   ],
   "source": [
    "arr.max()"
   ]
  },
  {
   "cell_type": "code",
   "execution_count": 55,
   "id": "0d6294e0",
   "metadata": {},
   "outputs": [
    {
     "data": {
      "text/plain": [
       "np.int64(45)"
      ]
     },
     "execution_count": 55,
     "metadata": {},
     "output_type": "execute_result"
    }
   ],
   "source": [
    "arr.sum()"
   ]
  },
  {
   "cell_type": "code",
   "execution_count": 66,
   "id": "dec2df70",
   "metadata": {},
   "outputs": [
    {
     "name": "stdout",
     "output_type": "stream",
     "text": [
      "[12 15 18]\n",
      "[ 6 15 24]\n"
     ]
    }
   ],
   "source": [
    "print(arr.sum(0)) # this will sum column wise\n",
    "print(arr.sum(1)) #this will sum row wise"
   ]
  },
  {
   "cell_type": "code",
   "execution_count": 65,
   "id": "db0c42b9",
   "metadata": {},
   "outputs": [
    {
     "data": {
      "text/plain": [
       "array([ 6, 15, 24])"
      ]
     },
     "execution_count": 65,
     "metadata": {},
     "output_type": "execute_result"
    }
   ],
   "source": [
    "np.sum(arr,axis=1)"
   ]
  },
  {
   "cell_type": "code",
   "execution_count": 68,
   "id": "95284a21",
   "metadata": {},
   "outputs": [
    {
     "data": {
      "text/plain": [
       "5"
      ]
     },
     "execution_count": 68,
     "metadata": {},
     "output_type": "execute_result"
    }
   ],
   "source": [
    "int(arr.mean())"
   ]
  },
  {
   "cell_type": "code",
   "execution_count": 69,
   "id": "197ad6f7",
   "metadata": {},
   "outputs": [
    {
     "data": {
      "text/plain": [
       "np.float64(2.581988897471611)"
      ]
     },
     "execution_count": 69,
     "metadata": {},
     "output_type": "execute_result"
    }
   ],
   "source": [
    "arr.std()"
   ]
  },
  {
   "cell_type": "code",
   "execution_count": 72,
   "id": "919d033d",
   "metadata": {},
   "outputs": [
    {
     "data": {
      "text/plain": [
       "np.int64(8)"
      ]
     },
     "execution_count": 72,
     "metadata": {},
     "output_type": "execute_result"
    }
   ],
   "source": [
    "arr.argmax() # this will tell you the index value of the max element"
   ]
  },
  {
   "cell_type": "code",
   "execution_count": 74,
   "id": "626dfaf9",
   "metadata": {},
   "outputs": [
    {
     "data": {
      "text/plain": [
       "np.int64(0)"
      ]
     },
     "execution_count": 74,
     "metadata": {},
     "output_type": "execute_result"
    }
   ],
   "source": [
    "arr.argmin() #this will tell you the index value of the min element"
   ]
  },
  {
   "cell_type": "markdown",
   "id": "53c2045a",
   "metadata": {},
   "source": [
    "### Reshaping and resizing"
   ]
  },
  {
   "cell_type": "code",
   "execution_count": 76,
   "id": "5ff3c9ca",
   "metadata": {},
   "outputs": [],
   "source": [
    "new = np.arange(1,31)"
   ]
  },
  {
   "cell_type": "code",
   "execution_count": 77,
   "id": "21ddb428",
   "metadata": {},
   "outputs": [
    {
     "data": {
      "text/plain": [
       "array([ 1,  2,  3,  4,  5,  6,  7,  8,  9, 10, 11, 12, 13, 14, 15, 16, 17,\n",
       "       18, 19, 20, 21, 22, 23, 24, 25, 26, 27, 28, 29, 30])"
      ]
     },
     "execution_count": 77,
     "metadata": {},
     "output_type": "execute_result"
    }
   ],
   "source": [
    "new"
   ]
  },
  {
   "cell_type": "code",
   "execution_count": 78,
   "id": "3f56dfb9",
   "metadata": {},
   "outputs": [
    {
     "data": {
      "text/plain": [
       "array([[ 1,  2,  3,  4,  5],\n",
       "       [ 6,  7,  8,  9, 10],\n",
       "       [11, 12, 13, 14, 15],\n",
       "       [16, 17, 18, 19, 20],\n",
       "       [21, 22, 23, 24, 25],\n",
       "       [26, 27, 28, 29, 30]])"
      ]
     },
     "execution_count": 78,
     "metadata": {},
     "output_type": "execute_result"
    }
   ],
   "source": [
    "new.reshape(6,5)"
   ]
  },
  {
   "cell_type": "code",
   "execution_count": 81,
   "id": "e391a75e",
   "metadata": {},
   "outputs": [],
   "source": [
    "new = new.reshape(5,6)"
   ]
  },
  {
   "cell_type": "code",
   "execution_count": 82,
   "id": "75ba1d77",
   "metadata": {},
   "outputs": [
    {
     "data": {
      "text/plain": [
       "array([[ 1,  2,  3,  4,  5,  6],\n",
       "       [ 7,  8,  9, 10, 11, 12],\n",
       "       [13, 14, 15, 16, 17, 18],\n",
       "       [19, 20, 21, 22, 23, 24],\n",
       "       [25, 26, 27, 28, 29, 30]])"
      ]
     },
     "execution_count": 82,
     "metadata": {},
     "output_type": "execute_result"
    }
   ],
   "source": [
    "new"
   ]
  },
  {
   "cell_type": "markdown",
   "id": "a496dab8",
   "metadata": {},
   "source": [
    "### Indexing and slicing "
   ]
  },
  {
   "cell_type": "code",
   "execution_count": 83,
   "id": "1002b009",
   "metadata": {},
   "outputs": [],
   "source": [
    "# Indexing and slicing of vectors "
   ]
  },
  {
   "cell_type": "code",
   "execution_count": 97,
   "id": "2009357a",
   "metadata": {},
   "outputs": [],
   "source": [
    "v = np.array([[1,2,4],[4,5,6],[7,8,9]])"
   ]
  },
  {
   "cell_type": "code",
   "execution_count": 100,
   "id": "159b31ed",
   "metadata": {},
   "outputs": [
    {
     "data": {
      "text/plain": [
       "array([[1, 2, 4],\n",
       "       [4, 5, 6],\n",
       "       [7, 8, 9]])"
      ]
     },
     "execution_count": 100,
     "metadata": {},
     "output_type": "execute_result"
    }
   ],
   "source": [
    "v"
   ]
  },
  {
   "cell_type": "code",
   "execution_count": 109,
   "id": "111b86c1",
   "metadata": {},
   "outputs": [
    {
     "data": {
      "text/plain": [
       "array([4, 5])"
      ]
     },
     "execution_count": 109,
     "metadata": {},
     "output_type": "execute_result"
    }
   ],
   "source": [
    "v[1,0:2]"
   ]
  },
  {
   "cell_type": "code",
   "execution_count": null,
   "id": "7e977499",
   "metadata": {},
   "outputs": [],
   "source": []
  },
  {
   "cell_type": "code",
   "execution_count": 110,
   "id": "8cf811e9",
   "metadata": {},
   "outputs": [],
   "source": [
    "z = np.array([\n",
    "    [[1,2,4],[4,5,6],[7,8,9]], \n",
    "    [[81,52,14],[14,55,46],[77,98,19]]])\n",
    "\n"
   ]
  },
  {
   "cell_type": "code",
   "execution_count": 111,
   "id": "d2f42b04",
   "metadata": {},
   "outputs": [
    {
     "data": {
      "text/plain": [
       "array([[[ 1,  2,  4],\n",
       "        [ 4,  5,  6],\n",
       "        [ 7,  8,  9]],\n",
       "\n",
       "       [[81, 52, 14],\n",
       "        [14, 55, 46],\n",
       "        [77, 98, 19]]])"
      ]
     },
     "execution_count": 111,
     "metadata": {},
     "output_type": "execute_result"
    }
   ],
   "source": [
    "z"
   ]
  },
  {
   "cell_type": "code",
   "execution_count": 113,
   "id": "1c5f7693",
   "metadata": {},
   "outputs": [
    {
     "data": {
      "text/plain": [
       "array([98, 19])"
      ]
     },
     "execution_count": 113,
     "metadata": {},
     "output_type": "execute_result"
    }
   ],
   "source": [
    "z[1,2,1:]"
   ]
  },
  {
   "cell_type": "code",
   "execution_count": 114,
   "id": "dfeb3bfb",
   "metadata": {},
   "outputs": [
    {
     "data": {
      "text/plain": [
       "(2, 3, 3)"
      ]
     },
     "execution_count": 114,
     "metadata": {},
     "output_type": "execute_result"
    }
   ],
   "source": [
    "z.shape"
   ]
  },
  {
   "cell_type": "code",
   "execution_count": 115,
   "id": "57cb5a1e",
   "metadata": {},
   "outputs": [
    {
     "data": {
      "text/plain": [
       "array([[1, 2, 4],\n",
       "       [4, 5, 6],\n",
       "       [7, 8, 9]])"
      ]
     },
     "execution_count": 115,
     "metadata": {},
     "output_type": "execute_result"
    }
   ],
   "source": [
    "z[0]"
   ]
  },
  {
   "cell_type": "code",
   "execution_count": null,
   "id": "151fa594",
   "metadata": {},
   "outputs": [
    {
     "data": {
      "text/plain": [
       "array([ 4, 14])"
      ]
     },
     "execution_count": 116,
     "metadata": {},
     "output_type": "execute_result"
    }
   ],
   "source": [
    "z[:, 0, 2]"
   ]
  },
  {
   "cell_type": "code",
   "execution_count": 117,
   "id": "7ad82116",
   "metadata": {},
   "outputs": [
    {
     "data": {
      "text/plain": [
       "array([[81, 52, 14],\n",
       "       [14, 55, 46],\n",
       "       [77, 98, 19]])"
      ]
     },
     "execution_count": 117,
     "metadata": {},
     "output_type": "execute_result"
    }
   ],
   "source": [
    "z[1]"
   ]
  },
  {
   "cell_type": "code",
   "execution_count": 118,
   "id": "e05fab52",
   "metadata": {},
   "outputs": [
    {
     "data": {
      "text/plain": [
       "np.int64(55)"
      ]
     },
     "execution_count": 118,
     "metadata": {},
     "output_type": "execute_result"
    }
   ],
   "source": [
    "z[1,1,1]"
   ]
  },
  {
   "cell_type": "code",
   "execution_count": 120,
   "id": "c40f3372",
   "metadata": {},
   "outputs": [
    {
     "data": {
      "text/plain": [
       "2"
      ]
     },
     "execution_count": 120,
     "metadata": {},
     "output_type": "execute_result"
    }
   ],
   "source": [
    "z[1, :, :].ndim"
   ]
  },
  {
   "cell_type": "code",
   "execution_count": 131,
   "id": "13af2181",
   "metadata": {},
   "outputs": [
    {
     "data": {
      "text/plain": [
       "array([2, 5, 8])"
      ]
     },
     "execution_count": 131,
     "metadata": {},
     "output_type": "execute_result"
    }
   ],
   "source": [
    "z[0, :, 1]"
   ]
  },
  {
   "cell_type": "code",
   "execution_count": 132,
   "id": "ccc93154",
   "metadata": {},
   "outputs": [
    {
     "data": {
      "text/plain": [
       "array([[ 7,  8,  9],\n",
       "       [77, 98, 19]])"
      ]
     },
     "execution_count": 132,
     "metadata": {},
     "output_type": "execute_result"
    }
   ],
   "source": [
    "# How to extract the last column from both matrices?\n",
    "\n",
    "z[:,2,:]"
   ]
  },
  {
   "cell_type": "code",
   "execution_count": 143,
   "id": "15813a72",
   "metadata": {},
   "outputs": [
    {
     "data": {
      "text/plain": [
       "array([[ 4,  6,  9],\n",
       "       [14, 46, 19]])"
      ]
     },
     "execution_count": 143,
     "metadata": {},
     "output_type": "execute_result"
    }
   ],
   "source": [
    "# How to get all elements from the first row of each matrix?\n",
    "\n",
    "z[:,:,2]"
   ]
  },
  {
   "cell_type": "code",
   "execution_count": 134,
   "id": "540c8178",
   "metadata": {},
   "outputs": [
    {
     "data": {
      "text/plain": [
       "array([[[ 1,  2,  4],\n",
       "        [ 4,  5,  6],\n",
       "        [ 7,  8,  9]],\n",
       "\n",
       "       [[81, 52, 14],\n",
       "        [14, 55, 46],\n",
       "        [77, 98, 19]]])"
      ]
     },
     "execution_count": 134,
     "metadata": {},
     "output_type": "execute_result"
    }
   ],
   "source": [
    "z"
   ]
  },
  {
   "cell_type": "code",
   "execution_count": 138,
   "id": "4cda8bda",
   "metadata": {},
   "outputs": [
    {
     "data": {
      "text/plain": [
       "np.int64(98)"
      ]
     },
     "execution_count": 138,
     "metadata": {},
     "output_type": "execute_result"
    }
   ],
   "source": [
    "z[1, 2, 1]"
   ]
  },
  {
   "cell_type": "code",
   "execution_count": 144,
   "id": "f7186977",
   "metadata": {},
   "outputs": [
    {
     "data": {
      "text/plain": [
       "array([[14, 52, 81],\n",
       "       [46, 55, 14],\n",
       "       [19, 98, 77]])"
      ]
     },
     "execution_count": 144,
     "metadata": {},
     "output_type": "execute_result"
    }
   ],
   "source": [
    "z[1, :, ::-1]"
   ]
  },
  {
   "cell_type": "code",
   "execution_count": null,
   "id": "e2572e46",
   "metadata": {},
   "outputs": [],
   "source": [
    "# How to get all diagonal elements (i.e., 1, 5, 9) from the first matrix?\n",
    "\n"
   ]
  },
  {
   "cell_type": "code",
   "execution_count": 145,
   "id": "a1bb94c2",
   "metadata": {},
   "outputs": [
    {
     "data": {
      "text/plain": [
       "array([[[ 2,  4],\n",
       "        [ 5,  6],\n",
       "        [ 8,  9]],\n",
       "\n",
       "       [[52, 14],\n",
       "        [55, 46],\n",
       "        [98, 19]]])"
      ]
     },
     "execution_count": 145,
     "metadata": {},
     "output_type": "execute_result"
    }
   ],
   "source": [
    "z[:, :, 1:3]"
   ]
  },
  {
   "cell_type": "code",
   "execution_count": 147,
   "id": "136af5cb",
   "metadata": {},
   "outputs": [
    {
     "data": {
      "text/plain": [
       "array([[[ 1,  2,  4],\n",
       "        [ 4,  5,  6],\n",
       "        [ 7,  8,  9]],\n",
       "\n",
       "       [[81, 52, 14],\n",
       "        [14, 55, 46],\n",
       "        [77, 98, 19]]])"
      ]
     },
     "execution_count": 147,
     "metadata": {},
     "output_type": "execute_result"
    }
   ],
   "source": [
    "z"
   ]
  },
  {
   "cell_type": "code",
   "execution_count": 149,
   "id": "39638acb",
   "metadata": {},
   "outputs": [],
   "source": [
    "# How do you replace the middle element of both matrices with 999?\n",
    "\n",
    "z[:,1,1] = 999"
   ]
  },
  {
   "cell_type": "code",
   "execution_count": 156,
   "id": "c2084193",
   "metadata": {},
   "outputs": [
    {
     "data": {
      "text/plain": [
       "array([[[  1,   2,   4],\n",
       "        [  4, 999,   6],\n",
       "        [  7,   8,   9]],\n",
       "\n",
       "       [[ 81,  52,  14],\n",
       "        [ 14, 999,  46],\n",
       "        [ 77,  98,  19]]])"
      ]
     },
     "execution_count": 156,
     "metadata": {},
     "output_type": "execute_result"
    }
   ],
   "source": [
    "z"
   ]
  },
  {
   "cell_type": "code",
   "execution_count": 157,
   "id": "36bd8744",
   "metadata": {},
   "outputs": [
    {
     "data": {
      "text/plain": [
       "array([[  4, 999,   6],\n",
       "       [ 14, 999,  46]])"
      ]
     },
     "execution_count": 157,
     "metadata": {},
     "output_type": "execute_result"
    }
   ],
   "source": [
    "z[:, 1, :]"
   ]
  },
  {
   "cell_type": "code",
   "execution_count": 158,
   "id": "d86ff358",
   "metadata": {},
   "outputs": [
    {
     "data": {
      "text/plain": [
       "array([[  2, 999,   8],\n",
       "       [ 52, 999,  98]])"
      ]
     },
     "execution_count": 158,
     "metadata": {},
     "output_type": "execute_result"
    }
   ],
   "source": [
    "# Extract all elements in the second column from both matrices.\n",
    "\n",
    "z[:,:,1]\n",
    "\n"
   ]
  },
  {
   "cell_type": "code",
   "execution_count": 155,
   "id": "118b6ead",
   "metadata": {},
   "outputs": [
    {
     "data": {
      "text/plain": [
       "array([  1,   2,   4,   4, 999,   6,   7,   8,   9,  81,  52,  14,  14,\n",
       "       999,  46,  77,  98,  19])"
      ]
     },
     "execution_count": 155,
     "metadata": {},
     "output_type": "execute_result"
    }
   ],
   "source": [
    "# How do you flatten the entire array z into a 1D array?\n",
    "\n",
    "z.ravel()"
   ]
  },
  {
   "cell_type": "code",
   "execution_count": 159,
   "id": "1de66f92",
   "metadata": {},
   "outputs": [],
   "source": [
    "# How to get a transposed version of the second matrix"
   ]
  },
  {
   "cell_type": "code",
   "execution_count": 160,
   "id": "d5ddf0b8",
   "metadata": {},
   "outputs": [
    {
     "data": {
      "text/plain": [
       "np.int64(1400)"
      ]
     },
     "execution_count": 160,
     "metadata": {},
     "output_type": "execute_result"
    }
   ],
   "source": [
    "# Get the sum of all elements in the first matrix.\n",
    "\n",
    "z[1,:,:].sum()"
   ]
  },
  {
   "cell_type": "code",
   "execution_count": 161,
   "id": "a2bd050f",
   "metadata": {},
   "outputs": [
    {
     "data": {
      "text/plain": [
       "array([[[ 81,  52,  14],\n",
       "        [ 14, 999,  46],\n",
       "        [ 77,  98,  19]],\n",
       "\n",
       "       [[  1,   2,   4],\n",
       "        [  4, 999,   6],\n",
       "        [  7,   8,   9]]])"
      ]
     },
     "execution_count": 161,
     "metadata": {},
     "output_type": "execute_result"
    }
   ],
   "source": [
    "z[::-1]"
   ]
  },
  {
   "cell_type": "code",
   "execution_count": 163,
   "id": "339a4ab6",
   "metadata": {},
   "outputs": [
    {
     "data": {
      "text/plain": [
       "array([ 81, 999,  19])"
      ]
     },
     "execution_count": 163,
     "metadata": {},
     "output_type": "execute_result"
    }
   ],
   "source": [
    "np.diag(z[1])"
   ]
  },
  {
   "cell_type": "code",
   "execution_count": 164,
   "id": "3eef5d61",
   "metadata": {},
   "outputs": [
    {
     "data": {
      "text/plain": [
       "array([[ 81,  14,  77],\n",
       "       [ 52, 999,  98],\n",
       "       [ 14,  46,  19]])"
      ]
     },
     "execution_count": 164,
     "metadata": {},
     "output_type": "execute_result"
    }
   ],
   "source": [
    "z[1].T"
   ]
  },
  {
   "cell_type": "code",
   "execution_count": 167,
   "id": "43f6b972",
   "metadata": {},
   "outputs": [
    {
     "data": {
      "text/plain": [
       "array([11, 12, 13, 14, 15, 16, 17, 18, 19, 20])"
      ]
     },
     "execution_count": 167,
     "metadata": {},
     "output_type": "execute_result"
    }
   ],
   "source": [
    "# boolean indexing \n",
    "arr = np.arange(11,21)\n",
    "arr"
   ]
  },
  {
   "cell_type": "code",
   "execution_count": null,
   "id": "ba0bddfe",
   "metadata": {},
   "outputs": [],
   "source": [
    "bool_index = arr % 2 == 0"
   ]
  },
  {
   "cell_type": "code",
   "execution_count": 169,
   "id": "14ad8976",
   "metadata": {},
   "outputs": [
    {
     "data": {
      "text/plain": [
       "array([False,  True, False,  True, False,  True, False,  True, False,\n",
       "        True])"
      ]
     },
     "execution_count": 169,
     "metadata": {},
     "output_type": "execute_result"
    }
   ],
   "source": [
    "bool_index"
   ]
  },
  {
   "cell_type": "code",
   "execution_count": 170,
   "id": "32f43247",
   "metadata": {},
   "outputs": [],
   "source": [
    "arr = arr[bool_index]"
   ]
  },
  {
   "cell_type": "code",
   "execution_count": 171,
   "id": "f54ef01a",
   "metadata": {},
   "outputs": [
    {
     "data": {
      "text/plain": [
       "array([12, 14, 16, 18, 20])"
      ]
     },
     "execution_count": 171,
     "metadata": {},
     "output_type": "execute_result"
    }
   ],
   "source": [
    "arr"
   ]
  },
  {
   "cell_type": "markdown",
   "id": "d6b5a69e",
   "metadata": {},
   "source": [
    "## Array Operations\n",
    "- Arthmetic operations\n",
    "- Broadcasting\n",
    "- Deep & Shallow copy \n",
    "- Matrix operations\n",
    "- Advance array manipulation\n",
    "- Stacking array\n",
    "- Splitting array"
   ]
  },
  {
   "cell_type": "code",
   "execution_count": 181,
   "id": "87c2ca8b",
   "metadata": {},
   "outputs": [],
   "source": [
    "#  Arthmetic operations\n",
    "a1 = np.array([1,2,3,4,5])\n",
    "a2 = np.array([6,7,8,9,10])"
   ]
  },
  {
   "cell_type": "code",
   "execution_count": 182,
   "id": "4678c90d",
   "metadata": {},
   "outputs": [
    {
     "data": {
      "text/plain": [
       "array([ 7,  9, 11, 13, 15])"
      ]
     },
     "execution_count": 182,
     "metadata": {},
     "output_type": "execute_result"
    }
   ],
   "source": [
    "added = a1+a2\n",
    "added"
   ]
  },
  {
   "cell_type": "code",
   "execution_count": 183,
   "id": "7bd76489",
   "metadata": {},
   "outputs": [
    {
     "data": {
      "text/plain": [
       "array([1, 2, 3, 4, 5])"
      ]
     },
     "execution_count": 183,
     "metadata": {},
     "output_type": "execute_result"
    }
   ],
   "source": [
    "a1"
   ]
  },
  {
   "cell_type": "code",
   "execution_count": 184,
   "id": "ba1228c9",
   "metadata": {},
   "outputs": [
    {
     "data": {
      "text/plain": [
       "array([ 6, 14, 24, 36, 50])"
      ]
     },
     "execution_count": 184,
     "metadata": {},
     "output_type": "execute_result"
    }
   ],
   "source": [
    "a1 * a2"
   ]
  },
  {
   "cell_type": "code",
   "execution_count": 185,
   "id": "744b68ec",
   "metadata": {},
   "outputs": [
    {
     "data": {
      "text/plain": [
       "array([0.16666667, 0.28571429, 0.375     , 0.44444444, 0.5       ])"
      ]
     },
     "execution_count": 185,
     "metadata": {},
     "output_type": "execute_result"
    }
   ],
   "source": [
    "a1 / a2"
   ]
  },
  {
   "cell_type": "code",
   "execution_count": 186,
   "id": "cbb74bbf",
   "metadata": {},
   "outputs": [
    {
     "data": {
      "text/plain": [
       "array([      1,     128,    6561,  262144, 9765625])"
      ]
     },
     "execution_count": 186,
     "metadata": {},
     "output_type": "execute_result"
    }
   ],
   "source": [
    "a1 ** a2"
   ]
  },
  {
   "cell_type": "code",
   "execution_count": 187,
   "id": "0c10faa9",
   "metadata": {},
   "outputs": [],
   "source": [
    "# Broadcasting"
   ]
  },
  {
   "cell_type": "code",
   "execution_count": 189,
   "id": "6b249c54",
   "metadata": {},
   "outputs": [],
   "source": [
    "l = [10,20,30,40]\n",
    "arr = np.array(l)"
   ]
  },
  {
   "cell_type": "code",
   "execution_count": 190,
   "id": "88d9cf99",
   "metadata": {},
   "outputs": [
    {
     "data": {
      "text/plain": [
       "array([10, 20, 30, 40])"
      ]
     },
     "execution_count": 190,
     "metadata": {},
     "output_type": "execute_result"
    }
   ],
   "source": [
    "arr"
   ]
  },
  {
   "cell_type": "code",
   "execution_count": null,
   "id": "a0b6a2a5",
   "metadata": {},
   "outputs": [
    {
     "data": {
      "text/plain": [
       "array([20, 30, 40, 50])"
      ]
     },
     "execution_count": 191,
     "metadata": {},
     "output_type": "execute_result"
    }
   ],
   "source": [
    "arr + 10"
   ]
  },
  {
   "cell_type": "code",
   "execution_count": 193,
   "id": "bc77d803",
   "metadata": {},
   "outputs": [],
   "source": [
    "arr = np.append(arr,[6,7,8])"
   ]
  },
  {
   "cell_type": "code",
   "execution_count": 194,
   "id": "df4a7cc5",
   "metadata": {},
   "outputs": [
    {
     "data": {
      "text/plain": [
       "array([10, 20, 30, 40,  6,  7,  8])"
      ]
     },
     "execution_count": 194,
     "metadata": {},
     "output_type": "execute_result"
    }
   ],
   "source": [
    "arr"
   ]
  },
  {
   "cell_type": "code",
   "execution_count": null,
   "id": "269518ce",
   "metadata": {},
   "outputs": [],
   "source": []
  }
 ],
 "metadata": {
  "kernelspec": {
   "display_name": "Python 3",
   "language": "python",
   "name": "python3"
  },
  "language_info": {
   "codemirror_mode": {
    "name": "ipython",
    "version": 3
   },
   "file_extension": ".py",
   "mimetype": "text/x-python",
   "name": "python",
   "nbconvert_exporter": "python",
   "pygments_lexer": "ipython3",
   "version": "3.12.5"
  }
 },
 "nbformat": 4,
 "nbformat_minor": 5
}
