{
 "cells": [
  {
   "cell_type": "markdown",
   "metadata": {},
   "source": [
    "## Introduction to Streamlit\n",
    "\n",
    "Streamlit is an open source app framework for Machine learning and data science projects.\n",
    "It allows you to create beautiful web application for your machine learning and data science projects with simple python scripts."
   ]
  }
 ],
 "metadata": {
  "language_info": {
   "name": "python"
  }
 },
 "nbformat": 4,
 "nbformat_minor": 2
}
