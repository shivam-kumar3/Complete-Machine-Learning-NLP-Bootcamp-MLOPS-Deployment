{
 "cells": [
  {
   "cell_type": "code",
   "execution_count": 77,
   "metadata": {},
   "outputs": [],
   "source": [
    "import pandas as pd \n",
    "import numpy as np\n",
    "import matplotlib.pyplot as plt\n",
    "%matplotlib inline\n"
   ]
  },
  {
   "cell_type": "code",
   "execution_count": 107,
   "metadata": {},
   "outputs": [],
   "source": [
    "x = 6 * np.random.rand(100,1) - 3\n",
    "\n",
    "# quadratic equation\n",
    "# ax2+bx+c=0\n",
    "# y = 0.5x^2+1.5x+2 + outliers\n",
    "\n",
    "y = 0.5 * x**2 + 1.5*x + 2 + np.random.randn(100,1)"
   ]
  },
  {
   "cell_type": "code",
   "execution_count": 108,
   "metadata": {},
   "outputs": [
    {
     "data": {
      "text/plain": [
       "<matplotlib.collections.PathCollection at 0x261666ef620>"
      ]
     },
     "execution_count": 108,
     "metadata": {},
     "output_type": "execute_result"
    },
    {
     "data": {
      "image/png": "[encoded data removed]",
      "text/plain": [
       "<Figure size 640x480 with 1 Axes>"
      ]
     },
     "metadata": {},
     "output_type": "display_data"
    }
   ],
   "source": [
    "plt.scatter(x,y,color ='green')"
   ]
  },
  {
   "cell_type": "code",
   "execution_count": 109,
   "metadata": {},
   "outputs": [],
   "source": [
    "from sklearn.model_selection import train_test_split\n",
    "x_train,x_test,y_train,y_test = train_test_split(x,y,test_size = 0.2, random_state =42 )"
   ]
  },
  {
   "cell_type": "code",
   "execution_count": 110,
   "metadata": {},
   "outputs": [
    {
     "data": {
      "text/html": [
       "<style>#sk-container-id-4 {\n",
       "  /* Definition of color scheme common for light and dark mode */\n",
       "  --sklearn-color-text: black;\n",
       "  --sklearn-color-line: gray;\n",
       "  /* Definition of color scheme for unfitted estimators */\n",
       "  --sklearn-color-unfitted-level-0: #fff5e6;\n",
       "  --sklearn-color-unfitted-level-1: #f6e4d2;\n",
       "  --sklearn-color-unfitted-level-2: #ffe0b3;\n",
       "  --sklearn-color-unfitted-level-3: chocolate;\n",
       "  /* Definition of color scheme for fitted estimators */\n",
       "  --sklearn-color-fitted-level-0: #f0f8ff;\n",
       "  --sklearn-color-fitted-level-1: #d4ebff;\n",
       "  --sklearn-color-fitted-level-2: #b3dbfd;\n",
       "  --sklearn-color-fitted-level-3: cornflowerblue;\n",
       "\n",
       "  /* Specific color for light theme */\n",
       "  --sklearn-color-text-on-default-background: var(--sg-text-color, var(--theme-code-foreground, var(--jp-content-font-color1, black)));\n",
       "  --sklearn-color-background: var(--sg-background-color, var(--theme-background, var(--jp-layout-color0, white)));\n",
       "  --sklearn-color-border-box: var(--sg-text-color, var(--theme-code-foreground, var(--jp-content-font-color1, black)));\n",
       "  --sklearn-color-icon: #696969;\n",
       "\n",
       "  @media (prefers-color-scheme: dark) {\n",
       "    /* Redefinition of color scheme for dark theme */\n",
       "    --sklearn-color-text-on-default-background: var(--sg-text-color, var(--theme-code-foreground, var(--jp-content-font-color1, white)));\n",
       "    --sklearn-color-background: var(--sg-background-color, var(--theme-background, var(--jp-layout-color0, #111)));\n",
       "    --sklearn-color-border-box: var(--sg-text-color, var(--theme-code-foreground, var(--jp-content-font-color1, white)));\n",
       "    --sklearn-color-icon: #878787;\n",
       "  }\n",
       "}\n",
       "\n",
       "#sk-container-id-4 {\n",
       "  color: var(--sklearn-color-text);\n",
       "}\n",
       "\n",
       "#sk-container-id-4 pre {\n",
       "  padding: 0;\n",
       "}\n",
       "\n",
       "#sk-container-id-4 input.sk-hidden--visually {\n",
       "  border: 0;\n",
       "  clip: rect(1px 1px 1px 1px);\n",
       "  clip: rect(1px, 1px, 1px, 1px);\n",
       "  height: 1px;\n",
       "  margin: -1px;\n",
       "  overflow: hidden;\n",
       "  padding: 0;\n",
       "  position: absolute;\n",
       "  width: 1px;\n",
       "}\n",
       "\n",
       "#sk-container-id-4 div.sk-dashed-wrapped {\n",
       "  border: 1px dashed var(--sklearn-color-line);\n",
       "  margin: 0 0.4em 0.5em 0.4em;\n",
       "  box-sizing: border-box;\n",
       "  padding-bottom: 0.4em;\n",
       "  background-color: var(--sklearn-color-background);\n",
       "}\n",
       "\n",
       "#sk-container-id-4 div.sk-container {\n",
       "  /* jupyter's `normalize.less` sets `[hidden] { display: none; }`\n",
       "     but bootstrap.min.css set `[hidden] { display: none !important; }`\n",
       "     so we also need the `!important` here to be able to override the\n",
       "     default hidden behavior on the sphinx rendered scikit-learn.org.\n",
       "     See: https://github.com/scikit-learn/scikit-learn/issues/21755 */\n",
       "  display: inline-block !important;\n",
       "  position: relative;\n",
       "}\n",
       "\n",
       "#sk-container-id-4 div.sk-text-repr-fallback {\n",
       "  display: none;\n",
       "}\n",
       "\n",
       "div.sk-parallel-item,\n",
       "div.sk-serial,\n",
       "div.sk-item {\n",
       "  /* draw centered vertical line to link estimators */\n",
       "  background-image: linear-gradient(var(--sklearn-color-text-on-default-background), var(--sklearn-color-text-on-default-background));\n",
       "  background-size: 2px 100%;\n",
       "  background-repeat: no-repeat;\n",
       "  background-position: center center;\n",
       "}\n",
       "\n",
       "/* Parallel-specific style estimator block */\n",
       "\n",
       "#sk-container-id-4 div.sk-parallel-item::after {\n",
       "  content: \"\";\n",
       "  width: 100%;\n",
       "  border-bottom: 2px solid var(--sklearn-color-text-on-default-background);\n",
       "  flex-grow: 1;\n",
       "}\n",
       "\n",
       "#sk-container-id-4 div.sk-parallel {\n",
       "  display: flex;\n",
       "  align-items: stretch;\n",
       "  justify-content: center;\n",
       "  background-color: var(--sklearn-color-background);\n",
       "  position: relative;\n",
       "}\n",
       "\n",
       "#sk-container-id-4 div.sk-parallel-item {\n",
       "  display: flex;\n",
       "  flex-direction: column;\n",
       "}\n",
       "\n",
       "#sk-container-id-4 div.sk-parallel-item:first-child::after {\n",
       "  align-self: flex-end;\n",
       "  width: 50%;\n",
       "}\n",
       "\n",
       "#sk-container-id-4 div.sk-parallel-item:last-child::after {\n",
       "  align-self: flex-start;\n",
       "  width: 50%;\n",
       "}\n",
       "\n",
       "#sk-container-id-4 div.sk-parallel-item:only-child::after {\n",
       "  width: 0;\n",
       "}\n",
       "\n",
       "/* Serial-specific style estimator block */\n",
       "\n",
       "#sk-container-id-4 div.sk-serial {\n",
       "  display: flex;\n",
       "  flex-direction: column;\n",
       "  align-items: center;\n",
       "  background-color: var(--sklearn-color-background);\n",
       "  padding-right: 1em;\n",
       "  padding-left: 1em;\n",
       "}\n",
       "\n",
       "\n",
       "/* Toggleable style: style used for estimator/Pipeline/ColumnTransformer box that is\n",
       "clickable and can be expanded/collapsed.\n",
       "- Pipeline and ColumnTransformer use this feature and define the default style\n",
       "- Estimators will overwrite some part of the style using the `sk-estimator` class\n",
       "*/\n",
       "\n",
       "/* Pipeline and ColumnTransformer style (default) */\n",
       "\n",
       "#sk-container-id-4 div.sk-toggleable {\n",
       "  /* Default theme specific background. It is overwritten whether we have a\n",
       "  specific estimator or a Pipeline/ColumnTransformer */\n",
       "  background-color: var(--sklearn-color-background);\n",
       "}\n",
       "\n",
       "/* Toggleable label */\n",
       "#sk-container-id-4 label.sk-toggleable__label {\n",
       "  cursor: pointer;\n",
       "  display: block;\n",
       "  width: 100%;\n",
       "  margin-bottom: 0;\n",
       "  padding: 0.5em;\n",
       "  box-sizing: border-box;\n",
       "  text-align: center;\n",
       "}\n",
       "\n",
       "#sk-container-id-4 label.sk-toggleable__label-arrow:before {\n",
       "  /* Arrow on the left of the label */\n",
       "  content: \"▸\";\n",
       "  float: left;\n",
       "  margin-right: 0.25em;\n",
       "  color: var(--sklearn-color-icon);\n",
       "}\n",
       "\n",
       "#sk-container-id-4 label.sk-toggleable__label-arrow:hover:before {\n",
       "  color: var(--sklearn-color-text);\n",
       "}\n",
       "\n",
       "/* Toggleable content - dropdown */\n",
       "\n",
       "#sk-container-id-4 div.sk-toggleable__content {\n",
       "  max-height: 0;\n",
       "  max-width: 0;\n",
       "  overflow: hidden;\n",
       "  text-align: left;\n",
       "  /* unfitted */\n",
       "  background-color: var(--sklearn-color-unfitted-level-0);\n",
       "}\n",
       "\n",
       "#sk-container-id-4 div.sk-toggleable__content.fitted {\n",
       "  /* fitted */\n",
       "  background-color: var(--sklearn-color-fitted-level-0);\n",
       "}\n",
       "\n",
       "#sk-container-id-4 div.sk-toggleable__content pre {\n",
       "  margin: 0.2em;\n",
       "  border-radius: 0.25em;\n",
       "  color: var(--sklearn-color-text);\n",
       "  /* unfitted */\n",
       "  background-color: var(--sklearn-color-unfitted-level-0);\n",
       "}\n",
       "\n",
       "#sk-container-id-4 div.sk-toggleable__content.fitted pre {\n",
       "  /* unfitted */\n",
       "  background-color: var(--sklearn-color-fitted-level-0);\n",
       "}\n",
       "\n",
       "#sk-container-id-4 input.sk-toggleable__control:checked~div.sk-toggleable__content {\n",
       "  /* Expand drop-down */\n",
       "  max-height: 200px;\n",
       "  max-width: 100%;\n",
       "  overflow: auto;\n",
       "}\n",
       "\n",
       "#sk-container-id-4 input.sk-toggleable__control:checked~label.sk-toggleable__label-arrow:before {\n",
       "  content: \"▾\";\n",
       "}\n",
       "\n",
       "/* Pipeline/ColumnTransformer-specific style */\n",
       "\n",
       "#sk-container-id-4 div.sk-label input.sk-toggleable__control:checked~label.sk-toggleable__label {\n",
       "  color: var(--sklearn-color-text);\n",
       "  background-color: var(--sklearn-color-unfitted-level-2);\n",
       "}\n",
       "\n",
       "#sk-container-id-4 div.sk-label.fitted input.sk-toggleable__control:checked~label.sk-toggleable__label {\n",
       "  background-color: var(--sklearn-color-fitted-level-2);\n",
       "}\n",
       "\n",
       "/* Estimator-specific style */\n",
       "\n",
       "/* Colorize estimator box */\n",
       "#sk-container-id-4 div.sk-estimator input.sk-toggleable__control:checked~label.sk-toggleable__label {\n",
       "  /* unfitted */\n",
       "  background-color: var(--sklearn-color-unfitted-level-2);\n",
       "}\n",
       "\n",
       "#sk-container-id-4 div.sk-estimator.fitted input.sk-toggleable__control:checked~label.sk-toggleable__label {\n",
       "  /* fitted */\n",
       "  background-color: var(--sklearn-color-fitted-level-2);\n",
       "}\n",
       "\n",
       "#sk-container-id-4 div.sk-label label.sk-toggleable__label,\n",
       "#sk-container-id-4 div.sk-label label {\n",
       "  /* The background is the default theme color */\n",
       "  color: var(--sklearn-color-text-on-default-background);\n",
       "}\n",
       "\n",
       "/* On hover, darken the color of the background */\n",
       "#sk-container-id-4 div.sk-label:hover label.sk-toggleable__label {\n",
       "  color: var(--sklearn-color-text);\n",
       "  background-color: var(--sklearn-color-unfitted-level-2);\n",
       "}\n",
       "\n",
       "/* Label box, darken color on hover, fitted */\n",
       "#sk-container-id-4 div.sk-label.fitted:hover label.sk-toggleable__label.fitted {\n",
       "  color: var(--sklearn-color-text);\n",
       "  background-color: var(--sklearn-color-fitted-level-2);\n",
       "}\n",
       "\n",
       "/* Estimator label */\n",
       "\n",
       "#sk-container-id-4 div.sk-label label {\n",
       "  font-family: monospace;\n",
       "  font-weight: bold;\n",
       "  display: inline-block;\n",
       "  line-height: 1.2em;\n",
       "}\n",
       "\n",
       "#sk-container-id-4 div.sk-label-container {\n",
       "  text-align: center;\n",
       "}\n",
       "\n",
       "/* Estimator-specific */\n",
       "#sk-container-id-4 div.sk-estimator {\n",
       "  font-family: monospace;\n",
       "  border: 1px dotted var(--sklearn-color-border-box);\n",
       "  border-radius: 0.25em;\n",
       "  box-sizing: border-box;\n",
       "  margin-bottom: 0.5em;\n",
       "  /* unfitted */\n",
       "  background-color: var(--sklearn-color-unfitted-level-0);\n",
       "}\n",
       "\n",
       "#sk-container-id-4 div.sk-estimator.fitted {\n",
       "  /* fitted */\n",
       "  background-color: var(--sklearn-color-fitted-level-0);\n",
       "}\n",
       "\n",
       "/* on hover */\n",
       "#sk-container-id-4 div.sk-estimator:hover {\n",
       "  /* unfitted */\n",
       "  background-color: var(--sklearn-color-unfitted-level-2);\n",
       "}\n",
       "\n",
       "#sk-container-id-4 div.sk-estimator.fitted:hover {\n",
       "  /* fitted */\n",
       "  background-color: var(--sklearn-color-fitted-level-2);\n",
       "}\n",
       "\n",
       "/* Specification for estimator info (e.g. \"i\" and \"?\") */\n",
       "\n",
       "/* Common style for \"i\" and \"?\" */\n",
       "\n",
       ".sk-estimator-doc-link,\n",
       "a:link.sk-estimator-doc-link,\n",
       "a:visited.sk-estimator-doc-link {\n",
       "  float: right;\n",
       "  font-size: smaller;\n",
       "  line-height: 1em;\n",
       "  font-family: monospace;\n",
       "  background-color: var(--sklearn-color-background);\n",
       "  border-radius: 1em;\n",
       "  height: 1em;\n",
       "  width: 1em;\n",
       "  text-decoration: none !important;\n",
       "  margin-left: 1ex;\n",
       "  /* unfitted */\n",
       "  border: var(--sklearn-color-unfitted-level-1) 1pt solid;\n",
       "  color: var(--sklearn-color-unfitted-level-1);\n",
       "}\n",
       "\n",
       ".sk-estimator-doc-link.fitted,\n",
       "a:link.sk-estimator-doc-link.fitted,\n",
       "a:visited.sk-estimator-doc-link.fitted {\n",
       "  /* fitted */\n",
       "  border: var(--sklearn-color-fitted-level-1) 1pt solid;\n",
       "  color: var(--sklearn-color-fitted-level-1);\n",
       "}\n",
       "\n",
       "/* On hover */\n",
       "div.sk-estimator:hover .sk-estimator-doc-link:hover,\n",
       ".sk-estimator-doc-link:hover,\n",
       "div.sk-label-container:hover .sk-estimator-doc-link:hover,\n",
       ".sk-estimator-doc-link:hover {\n",
       "  /* unfitted */\n",
       "  background-color: var(--sklearn-color-unfitted-level-3);\n",
       "  color: var(--sklearn-color-background);\n",
       "  text-decoration: none;\n",
       "}\n",
       "\n",
       "div.sk-estimator.fitted:hover .sk-estimator-doc-link.fitted:hover,\n",
       ".sk-estimator-doc-link.fitted:hover,\n",
       "div.sk-label-container:hover .sk-estimator-doc-link.fitted:hover,\n",
       ".sk-estimator-doc-link.fitted:hover {\n",
       "  /* fitted */\n",
       "  background-color: var(--sklearn-color-fitted-level-3);\n",
       "  color: var(--sklearn-color-background);\n",
       "  text-decoration: none;\n",
       "}\n",
       "\n",
       "/* Span, style for the box shown on hovering the info icon */\n",
       ".sk-estimator-doc-link span {\n",
       "  display: none;\n",
       "  z-index: 9999;\n",
       "  position: relative;\n",
       "  font-weight: normal;\n",
       "  right: .2ex;\n",
       "  padding: .5ex;\n",
       "  margin: .5ex;\n",
       "  width: min-content;\n",
       "  min-width: 20ex;\n",
       "  max-width: 50ex;\n",
       "  color: var(--sklearn-color-text);\n",
       "  box-shadow: 2pt 2pt 4pt #999;\n",
       "  /* unfitted */\n",
       "  background: var(--sklearn-color-unfitted-level-0);\n",
       "  border: .5pt solid var(--sklearn-color-unfitted-level-3);\n",
       "}\n",
       "\n",
       ".sk-estimator-doc-link.fitted span {\n",
       "  /* fitted */\n",
       "  background: var(--sklearn-color-fitted-level-0);\n",
       "  border: var(--sklearn-color-fitted-level-3);\n",
       "}\n",
       "\n",
       ".sk-estimator-doc-link:hover span {\n",
       "  display: block;\n",
       "}\n",
       "\n",
       "/* \"?\"-specific style due to the `<a>` HTML tag */\n",
       "\n",
       "#sk-container-id-4 a.estimator_doc_link {\n",
       "  float: right;\n",
       "  font-size: 1rem;\n",
       "  line-height: 1em;\n",
       "  font-family: monospace;\n",
       "  background-color: var(--sklearn-color-background);\n",
       "  border-radius: 1rem;\n",
       "  height: 1rem;\n",
       "  width: 1rem;\n",
       "  text-decoration: none;\n",
       "  /* unfitted */\n",
       "  color: var(--sklearn-color-unfitted-level-1);\n",
       "  border: var(--sklearn-color-unfitted-level-1) 1pt solid;\n",
       "}\n",
       "\n",
       "#sk-container-id-4 a.estimator_doc_link.fitted {\n",
       "  /* fitted */\n",
       "  border: var(--sklearn-color-fitted-level-1) 1pt solid;\n",
       "  color: var(--sklearn-color-fitted-level-1);\n",
       "}\n",
       "\n",
       "/* On hover */\n",
       "#sk-container-id-4 a.estimator_doc_link:hover {\n",
       "  /* unfitted */\n",
       "  background-color: var(--sklearn-color-unfitted-level-3);\n",
       "  color: var(--sklearn-color-background);\n",
       "  text-decoration: none;\n",
       "}\n",
       "\n",
       "#sk-container-id-4 a.estimator_doc_link.fitted:hover {\n",
       "  /* fitted */\n",
       "  background-color: var(--sklearn-color-fitted-level-3);\n",
       "}\n",
       "</style><div id=\"sk-container-id-4\" class=\"sk-top-container\"><div class=\"sk-text-repr-fallback\"><pre>LinearRegression()</pre><b>In a Jupyter environment, please rerun this cell to show the HTML representation or trust the notebook. <br />On GitHub, the HTML representation is unable to render, please try loading this page with nbviewer.org.</b></div><div class=\"sk-container\" hidden><div class=\"sk-item\"><div class=\"sk-estimator fitted sk-toggleable\"><input class=\"sk-toggleable__control sk-hidden--visually\" id=\"sk-estimator-id-4\" type=\"checkbox\" checked><label for=\"sk-estimator-id-4\" class=\"sk-toggleable__label fitted sk-toggleable__label-arrow fitted\">&nbsp;&nbsp;LinearRegression<a class=\"sk-estimator-doc-link fitted\" rel=\"noreferrer\" target=\"_blank\" href=\"https://scikit-learn.org/1.5/modules/generated/sklearn.linear_model.LinearRegression.html\">?<span>Documentation for LinearRegression</span></a><span class=\"sk-estimator-doc-link fitted\">i<span>Fitted</span></span></label><div class=\"sk-toggleable__content fitted\"><pre>LinearRegression()</pre></div> </div></div></div></div>"
      ],
      "text/plain": [
       "LinearRegression()"
      ]
     },
     "execution_count": 110,
     "metadata": {},
     "output_type": "execute_result"
    }
   ],
   "source": [
    "# Lets implement simple linear regression\n",
    "\n",
    "from sklearn.linear_model import LinearRegression\n",
    "\n",
    "regression_1 = LinearRegression()\n",
    "\n",
    "regression_1.fit(x_train,y_train)"
   ]
  },
  {
   "cell_type": "code",
   "execution_count": 111,
   "metadata": {},
   "outputs": [
    {
     "name": "stdout",
     "output_type": "stream",
     "text": [
      "0.7386302155029022\n"
     ]
    }
   ],
   "source": [
    "from sklearn.metrics import r2_score\n",
    "score = r2_score(y_test,regression_1.predict(x_test))\n",
    "print(score)"
   ]
  },
  {
   "cell_type": "code",
   "execution_count": 112,
   "metadata": {},
   "outputs": [
    {
     "data": {
      "text/plain": [
       "<matplotlib.collections.PathCollection at 0x26161b7fce0>"
      ]
     },
     "execution_count": 112,
     "metadata": {},
     "output_type": "execute_result"
    },
    {
     "data": {
      "image/png": "[encoded data removed]",
      "text/plain": [
       "<Figure size 640x480 with 1 Axes>"
      ]
     },
     "metadata": {},
     "output_type": "display_data"
    }
   ],
   "source": [
    "# lets visualize this model \n",
    "\n",
    "plt.plot(x_train,regression_1.predict(x_train))\n",
    "plt.scatter(x_train,y_train)"
   ]
  },
  {
   "cell_type": "code",
   "execution_count": 113,
   "metadata": {},
   "outputs": [],
   "source": [
    "from sklearn.preprocessing import PolynomialFeatures"
   ]
  },
  {
   "cell_type": "code",
   "execution_count": 114,
   "metadata": {},
   "outputs": [],
   "source": [
    "poly = PolynomialFeatures(degree=2, include_bias= True)\n",
    "\n",
    "x_train_poly = poly.fit_transform(x_train)\n",
    "x_test_poly = poly.transform(x_test)\n",
    "\n"
   ]
  },
  {
   "cell_type": "code",
   "execution_count": 115,
   "metadata": {},
   "outputs": [
    {
     "data": {
      "text/plain": [
       "array([[ 1.        ,  1.37747458,  1.89743622],\n",
       "       [ 1.        , -1.7009143 ,  2.89310945],\n",
       "       [ 1.        , -2.84221408,  8.07818086],\n",
       "       [ 1.        , -0.61512423,  0.37837781],\n",
       "       [ 1.        ,  2.68305276,  7.19877211],\n",
       "       [ 1.        , -1.00303939,  1.00608801],\n",
       "       [ 1.        ,  2.3436401 ,  5.4926489 ],\n",
       "       [ 1.        , -2.24424518,  5.03663642],\n",
       "       [ 1.        , -1.31410881,  1.72688197],\n",
       "       [ 1.        ,  0.84423377,  0.71273066],\n",
       "       [ 1.        , -1.16940994,  1.36751961],\n",
       "       [ 1.        , -2.18922002,  4.7926843 ],\n",
       "       [ 1.        , -2.76549466,  7.64796071],\n",
       "       [ 1.        , -2.65033685,  7.02428541],\n",
       "       [ 1.        ,  2.0732112 ,  4.29820467],\n",
       "       [ 1.        , -2.10479851,  4.43017675],\n",
       "       [ 1.        ,  2.89645508,  8.38945205],\n",
       "       [ 1.        ,  0.76118838,  0.57940775],\n",
       "       [ 1.        , -0.85673923,  0.73400211],\n",
       "       [ 1.        ,  0.20588036,  0.04238672],\n",
       "       [ 1.        ,  0.30067531,  0.09040564],\n",
       "       [ 1.        ,  1.83657758,  3.37301721],\n",
       "       [ 1.        , -2.1087853 ,  4.44697543],\n",
       "       [ 1.        , -2.72708767,  7.43700715],\n",
       "       [ 1.        , -2.81652526,  7.93281456],\n",
       "       [ 1.        , -2.12492541,  4.51530801],\n",
       "       [ 1.        , -2.31948833,  5.38002613],\n",
       "       [ 1.        , -2.96389197,  8.78465561],\n",
       "       [ 1.        ,  1.17824825,  1.38826893],\n",
       "       [ 1.        , -1.33245618,  1.77543948],\n",
       "       [ 1.        ,  1.51701724,  2.30134131],\n",
       "       [ 1.        , -1.43191252,  2.05037347],\n",
       "       [ 1.        , -0.51070376,  0.26081833],\n",
       "       [ 1.        ,  2.49782913,  6.23915038],\n",
       "       [ 1.        ,  2.91940379,  8.52291846],\n",
       "       [ 1.        , -0.66566773,  0.44311352],\n",
       "       [ 1.        ,  2.21531946,  4.90764031],\n",
       "       [ 1.        , -1.51525065,  2.29598454],\n",
       "       [ 1.        , -2.2101977 ,  4.88497385],\n",
       "       [ 1.        ,  1.76693017,  3.12204224],\n",
       "       [ 1.        ,  1.26615079,  1.60313783],\n",
       "       [ 1.        , -0.38712251,  0.14986384],\n",
       "       [ 1.        ,  2.66904162,  7.12378316],\n",
       "       [ 1.        , -1.27831997,  1.63410194],\n",
       "       [ 1.        , -0.16260676,  0.02644096],\n",
       "       [ 1.        ,  2.66878832,  7.12243111],\n",
       "       [ 1.        , -0.20736802,  0.04300149],\n",
       "       [ 1.        , -1.89069299,  3.57471999],\n",
       "       [ 1.        ,  0.24995822,  0.06247911],\n",
       "       [ 1.        , -1.5530534 ,  2.41197485],\n",
       "       [ 1.        , -1.63517954,  2.67381212],\n",
       "       [ 1.        ,  0.3190762 ,  0.10180962],\n",
       "       [ 1.        , -1.10037946,  1.21083495],\n",
       "       [ 1.        ,  2.87863352,  8.28653092],\n",
       "       [ 1.        , -1.96439245,  3.85883768],\n",
       "       [ 1.        ,  1.57329996,  2.47527276],\n",
       "       [ 1.        , -1.77888211,  3.16442155],\n",
       "       [ 1.        ,  0.10424923,  0.0108679 ],\n",
       "       [ 1.        ,  2.62030342,  6.86598999],\n",
       "       [ 1.        ,  1.95654504,  3.8280685 ],\n",
       "       [ 1.        ,  0.94070801,  0.88493156],\n",
       "       [ 1.        ,  2.65724231,  7.06093667],\n",
       "       [ 1.        ,  0.52933057,  0.28019086],\n",
       "       [ 1.        ,  1.07366279,  1.15275178],\n",
       "       [ 1.        , -1.11799577,  1.24991454],\n",
       "       [ 1.        ,  1.2355257 ,  1.52652377],\n",
       "       [ 1.        , -2.16102224,  4.67001714],\n",
       "       [ 1.        ,  0.47589065,  0.22647191],\n",
       "       [ 1.        , -2.45207677,  6.01268048],\n",
       "       [ 1.        , -1.96459751,  3.85964337],\n",
       "       [ 1.        ,  1.13020255,  1.27735781],\n",
       "       [ 1.        , -2.62018936,  6.8653923 ],\n",
       "       [ 1.        , -0.88870734,  0.78980074],\n",
       "       [ 1.        ,  2.44295537,  5.96803094],\n",
       "       [ 1.        ,  1.96093341,  3.84525982],\n",
       "       [ 1.        ,  2.20585545,  4.86579827],\n",
       "       [ 1.        ,  1.75406365,  3.07673927],\n",
       "       [ 1.        ,  1.08174007,  1.17016159],\n",
       "       [ 1.        , -2.33846003,  5.46839531],\n",
       "       [ 1.        , -2.62179043,  6.87378508]])"
      ]
     },
     "execution_count": 115,
     "metadata": {},
     "output_type": "execute_result"
    }
   ],
   "source": [
    "x_train_poly"
   ]
  },
  {
   "cell_type": "code",
   "execution_count": 116,
   "metadata": {},
   "outputs": [
    {
     "data": {
      "text/plain": [
       "array([[ 1.        ,  1.32233528,  1.74857059],\n",
       "       [ 1.        , -0.33129933,  0.10975925],\n",
       "       [ 1.        ,  2.55884581,  6.54769189],\n",
       "       [ 1.        , -0.80495046,  0.64794524],\n",
       "       [ 1.        , -2.98714208,  8.92301784],\n",
       "       [ 1.        , -2.30515881,  5.31375712],\n",
       "       [ 1.        , -0.27666646,  0.07654433],\n",
       "       [ 1.        ,  2.76942686,  7.66972513],\n",
       "       [ 1.        ,  1.83598597,  3.37084449],\n",
       "       [ 1.        ,  0.3632855 ,  0.13197635],\n",
       "       [ 1.        ,  1.10445227,  1.21981481],\n",
       "       [ 1.        , -1.68527317,  2.84014566],\n",
       "       [ 1.        ,  0.49631843,  0.24633198],\n",
       "       [ 1.        , -2.1141531 ,  4.46964332],\n",
       "       [ 1.        ,  2.83121036,  8.01575213],\n",
       "       [ 1.        , -1.52893518,  2.3376428 ],\n",
       "       [ 1.        ,  2.79280422,  7.79975541],\n",
       "       [ 1.        ,  1.49149618,  2.22456087],\n",
       "       [ 1.        ,  0.90041347,  0.81074441],\n",
       "       [ 1.        , -0.68277444,  0.46618093]])"
      ]
     },
     "execution_count": 116,
     "metadata": {},
     "output_type": "execute_result"
    }
   ],
   "source": [
    "x_test_poly"
   ]
  },
  {
   "cell_type": "code",
   "execution_count": 117,
   "metadata": {},
   "outputs": [
    {
     "name": "stdout",
     "output_type": "stream",
     "text": [
      "Your model accuracy is 93.59359496195204\n"
     ]
    }
   ],
   "source": [
    "regression = LinearRegression()\n",
    "regression.fit(x_train_poly,y_train)\n",
    "y_pred = regression.predict(x_test_poly)\n",
    "\n",
    "score = r2_score(y_test,y_pred)\n",
    "\n",
    "print(f'Your model accuracy is {(score)*100}')"
   ]
  },
  {
   "cell_type": "code",
   "execution_count": 118,
   "metadata": {},
   "outputs": [
    {
     "data": {
      "text/plain": [
       "array([[0.        , 1.40223402, 0.45481285]])"
      ]
     },
     "execution_count": 118,
     "metadata": {},
     "output_type": "execute_result"
    }
   ],
   "source": [
    "regression.coef_"
   ]
  },
  {
   "cell_type": "code",
   "execution_count": 119,
   "metadata": {},
   "outputs": [
    {
     "data": {
      "text/plain": [
       "array([2.14138778])"
      ]
     },
     "execution_count": 119,
     "metadata": {},
     "output_type": "execute_result"
    }
   ],
   "source": [
    "regression.intercept_"
   ]
  },
  {
   "cell_type": "code",
   "execution_count": 120,
   "metadata": {},
   "outputs": [
    {
     "data": {
      "text/plain": [
       "<matplotlib.collections.PathCollection at 0x26166748ef0>"
      ]
     },
     "execution_count": 120,
     "metadata": {},
     "output_type": "execute_result"
    },
    {
     "data": {
      "image/png": "[encoded data removed]",
      "text/plain": [
       "<Figure size 640x480 with 1 Axes>"
      ]
     },
     "metadata": {},
     "output_type": "display_data"
    }
   ],
   "source": [
    "plt.scatter(x_train,regression.predict(x_train_poly))\n",
    "plt.scatter(x_train,y_train)"
   ]
  },
  {
   "cell_type": "code",
   "execution_count": 121,
   "metadata": {},
   "outputs": [],
   "source": [
    "poly = PolynomialFeatures(degree=2, include_bias= True)\n",
    "\n",
    "x_train_poly2 = poly.fit_transform(x_train)\n",
    "x_test_poly2 = poly.transform(x_test)\n",
    "\n"
   ]
  },
  {
   "cell_type": "code",
   "execution_count": 122,
   "metadata": {},
   "outputs": [
    {
     "name": "stdout",
     "output_type": "stream",
     "text": [
      "Your model accuracy is 93.59359496195204\n"
     ]
    }
   ],
   "source": [
    "regression = LinearRegression()\n",
    "regression.fit(x_train_poly2,y_train)\n",
    "y_pred = regression.predict(x_test_poly2)\n",
    "\n",
    "score = r2_score(y_test,y_pred)\n",
    "\n",
    "print(f'Your model accuracy is {(score)*100}')"
   ]
  },
  {
   "cell_type": "code",
   "execution_count": 123,
   "metadata": {},
   "outputs": [],
   "source": [
    "# prediction of new dataset\n",
    "\n",
    "x_new = np.linspace(-3,2,200).reshape(200,1)\n",
    "x_new_poly = poly.transform(x_new)"
   ]
  },
  {
   "cell_type": "code",
   "execution_count": 124,
   "metadata": {},
   "outputs": [
    {
     "data": {
      "text/plain": [
       "array([[-3.        ],\n",
       "       [-2.97487437],\n",
       "       [-2.94974874],\n",
       "       [-2.92462312],\n",
       "       [-2.89949749],\n",
       "       [-2.87437186],\n",
       "       [-2.84924623],\n",
       "       [-2.8241206 ],\n",
       "       [-2.79899497],\n",
       "       [-2.77386935],\n",
       "       [-2.74874372],\n",
       "       [-2.72361809],\n",
       "       [-2.69849246],\n",
       "       [-2.67336683],\n",
       "       [-2.64824121],\n",
       "       [-2.62311558],\n",
       "       [-2.59798995],\n",
       "       [-2.57286432],\n",
       "       [-2.54773869],\n",
       "       [-2.52261307],\n",
       "       [-2.49748744],\n",
       "       [-2.47236181],\n",
       "       [-2.44723618],\n",
       "       [-2.42211055],\n",
       "       [-2.39698492],\n",
       "       [-2.3718593 ],\n",
       "       [-2.34673367],\n",
       "       [-2.32160804],\n",
       "       [-2.29648241],\n",
       "       [-2.27135678],\n",
       "       [-2.24623116],\n",
       "       [-2.22110553],\n",
       "       [-2.1959799 ],\n",
       "       [-2.17085427],\n",
       "       [-2.14572864],\n",
       "       [-2.12060302],\n",
       "       [-2.09547739],\n",
       "       [-2.07035176],\n",
       "       [-2.04522613],\n",
       "       [-2.0201005 ],\n",
       "       [-1.99497487],\n",
       "       [-1.96984925],\n",
       "       [-1.94472362],\n",
       "       [-1.91959799],\n",
       "       [-1.89447236],\n",
       "       [-1.86934673],\n",
       "       [-1.84422111],\n",
       "       [-1.81909548],\n",
       "       [-1.79396985],\n",
       "       [-1.76884422],\n",
       "       [-1.74371859],\n",
       "       [-1.71859296],\n",
       "       [-1.69346734],\n",
       "       [-1.66834171],\n",
       "       [-1.64321608],\n",
       "       [-1.61809045],\n",
       "       [-1.59296482],\n",
       "       [-1.5678392 ],\n",
       "       [-1.54271357],\n",
       "       [-1.51758794],\n",
       "       [-1.49246231],\n",
       "       [-1.46733668],\n",
       "       [-1.44221106],\n",
       "       [-1.41708543],\n",
       "       [-1.3919598 ],\n",
       "       [-1.36683417],\n",
       "       [-1.34170854],\n",
       "       [-1.31658291],\n",
       "       [-1.29145729],\n",
       "       [-1.26633166],\n",
       "       [-1.24120603],\n",
       "       [-1.2160804 ],\n",
       "       [-1.19095477],\n",
       "       [-1.16582915],\n",
       "       [-1.14070352],\n",
       "       [-1.11557789],\n",
       "       [-1.09045226],\n",
       "       [-1.06532663],\n",
       "       [-1.04020101],\n",
       "       [-1.01507538],\n",
       "       [-0.98994975],\n",
       "       [-0.96482412],\n",
       "       [-0.93969849],\n",
       "       [-0.91457286],\n",
       "       [-0.88944724],\n",
       "       [-0.86432161],\n",
       "       [-0.83919598],\n",
       "       [-0.81407035],\n",
       "       [-0.78894472],\n",
       "       [-0.7638191 ],\n",
       "       [-0.73869347],\n",
       "       [-0.71356784],\n",
       "       [-0.68844221],\n",
       "       [-0.66331658],\n",
       "       [-0.63819095],\n",
       "       [-0.61306533],\n",
       "       [-0.5879397 ],\n",
       "       [-0.56281407],\n",
       "       [-0.53768844],\n",
       "       [-0.51256281],\n",
       "       [-0.48743719],\n",
       "       [-0.46231156],\n",
       "       [-0.43718593],\n",
       "       [-0.4120603 ],\n",
       "       [-0.38693467],\n",
       "       [-0.36180905],\n",
       "       [-0.33668342],\n",
       "       [-0.31155779],\n",
       "       [-0.28643216],\n",
       "       [-0.26130653],\n",
       "       [-0.2361809 ],\n",
       "       [-0.21105528],\n",
       "       [-0.18592965],\n",
       "       [-0.16080402],\n",
       "       [-0.13567839],\n",
       "       [-0.11055276],\n",
       "       [-0.08542714],\n",
       "       [-0.06030151],\n",
       "       [-0.03517588],\n",
       "       [-0.01005025],\n",
       "       [ 0.01507538],\n",
       "       [ 0.04020101],\n",
       "       [ 0.06532663],\n",
       "       [ 0.09045226],\n",
       "       [ 0.11557789],\n",
       "       [ 0.14070352],\n",
       "       [ 0.16582915],\n",
       "       [ 0.19095477],\n",
       "       [ 0.2160804 ],\n",
       "       [ 0.24120603],\n",
       "       [ 0.26633166],\n",
       "       [ 0.29145729],\n",
       "       [ 0.31658291],\n",
       "       [ 0.34170854],\n",
       "       [ 0.36683417],\n",
       "       [ 0.3919598 ],\n",
       "       [ 0.41708543],\n",
       "       [ 0.44221106],\n",
       "       [ 0.46733668],\n",
       "       [ 0.49246231],\n",
       "       [ 0.51758794],\n",
       "       [ 0.54271357],\n",
       "       [ 0.5678392 ],\n",
       "       [ 0.59296482],\n",
       "       [ 0.61809045],\n",
       "       [ 0.64321608],\n",
       "       [ 0.66834171],\n",
       "       [ 0.69346734],\n",
       "       [ 0.71859296],\n",
       "       [ 0.74371859],\n",
       "       [ 0.76884422],\n",
       "       [ 0.79396985],\n",
       "       [ 0.81909548],\n",
       "       [ 0.84422111],\n",
       "       [ 0.86934673],\n",
       "       [ 0.89447236],\n",
       "       [ 0.91959799],\n",
       "       [ 0.94472362],\n",
       "       [ 0.96984925],\n",
       "       [ 0.99497487],\n",
       "       [ 1.0201005 ],\n",
       "       [ 1.04522613],\n",
       "       [ 1.07035176],\n",
       "       [ 1.09547739],\n",
       "       [ 1.12060302],\n",
       "       [ 1.14572864],\n",
       "       [ 1.17085427],\n",
       "       [ 1.1959799 ],\n",
       "       [ 1.22110553],\n",
       "       [ 1.24623116],\n",
       "       [ 1.27135678],\n",
       "       [ 1.29648241],\n",
       "       [ 1.32160804],\n",
       "       [ 1.34673367],\n",
       "       [ 1.3718593 ],\n",
       "       [ 1.39698492],\n",
       "       [ 1.42211055],\n",
       "       [ 1.44723618],\n",
       "       [ 1.47236181],\n",
       "       [ 1.49748744],\n",
       "       [ 1.52261307],\n",
       "       [ 1.54773869],\n",
       "       [ 1.57286432],\n",
       "       [ 1.59798995],\n",
       "       [ 1.62311558],\n",
       "       [ 1.64824121],\n",
       "       [ 1.67336683],\n",
       "       [ 1.69849246],\n",
       "       [ 1.72361809],\n",
       "       [ 1.74874372],\n",
       "       [ 1.77386935],\n",
       "       [ 1.79899497],\n",
       "       [ 1.8241206 ],\n",
       "       [ 1.84924623],\n",
       "       [ 1.87437186],\n",
       "       [ 1.89949749],\n",
       "       [ 1.92462312],\n",
       "       [ 1.94974874],\n",
       "       [ 1.97487437],\n",
       "       [ 2.        ]])"
      ]
     },
     "execution_count": 124,
     "metadata": {},
     "output_type": "execute_result"
    }
   ],
   "source": [
    "x_new"
   ]
  },
  {
   "cell_type": "code",
   "execution_count": 136,
   "metadata": {},
   "outputs": [
    {
     "data": {
      "text/plain": [
       "[<matplotlib.lines.Line2D at 0x26167d67260>]"
      ]
     },
     "execution_count": 136,
     "metadata": {},
     "output_type": "execute_result"
    },
    {
     "data": {
      "image/png": "[encoded data removed]",
      "text/plain": [
       "<Figure size 640x480 with 1 Axes>"
      ]
     },
     "metadata": {},
     "output_type": "display_data"
    }
   ],
   "source": [
    "y_new = regression.predict(x_new_poly)\n",
    "\n",
    "plt.plot(x_new,y_new ,'r-',label = 'Prediction')\n",
    "plt.plot(x_train,y_train,'b*',label = 'Training Points')\n",
    "plt.plot(x_test,y_test,'r*',label = 'Testing Point')"
   ]
  },
  {
   "cell_type": "code",
   "execution_count": 129,
   "metadata": {},
   "outputs": [
    {
     "data": {
      "text/plain": [
       "[<matplotlib.lines.Line2D at 0x261679a7230>]"
      ]
     },
     "execution_count": 129,
     "metadata": {},
     "output_type": "execute_result"
    },
    {
     "data": {
      "image/png": "[encoded data removed]",
      "text/plain": [
       "<Figure size 640x480 with 1 Axes>"
      ]
     },
     "metadata": {},
     "output_type": "display_data"
    }
   ],
   "source": []
  },
  {
   "cell_type": "code",
   "execution_count": null,
   "metadata": {},
   "outputs": [],
   "source": []
  }
 ],
 "metadata": {
  "kernelspec": {
   "display_name": "Python 3",
   "language": "python",
   "name": "python3"
  },
  "language_info": {
   "codemirror_mode": {
    "name": "ipython",
    "version": 3
   },
   "file_extension": ".py",
   "mimetype": "text/x-python",
   "name": "python",
   "nbconvert_exporter": "python",
   "pygments_lexer": "ipython3",
   "version": "3.12.5"
  }
 },
 "nbformat": 4,
 "nbformat_minor": 2
}
