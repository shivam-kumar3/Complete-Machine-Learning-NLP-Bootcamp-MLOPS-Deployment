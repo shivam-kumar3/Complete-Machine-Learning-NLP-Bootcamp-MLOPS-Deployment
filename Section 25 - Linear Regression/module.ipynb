{
 "cells": [
  {
   "cell_type": "markdown",
   "metadata": {},
   "source": [
    "1. Simple Linear Regression\n",
    "2. Understading simple linear regression equations\n",
    "3. cost function\n",
    "\n",
    "![alt text][def]\n",
    "\n",
    "\n",
    "[def]: image.png"
   ]
  },
  {
   "cell_type": "markdown",
   "metadata": {},
   "source": []
  }
 ],
 "metadata": {
  "language_info": {
   "name": "python"
  }
 },
 "nbformat": 4,
 "nbformat_minor": 2
}
