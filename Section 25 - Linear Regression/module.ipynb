// 1. Simple Linear Regression
// 2. Understading simple linear regression equations
// 3. cost function
