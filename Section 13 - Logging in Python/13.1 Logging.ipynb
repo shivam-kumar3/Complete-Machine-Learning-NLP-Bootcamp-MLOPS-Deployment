{
 "cells": [
  {
   "cell_type": "markdown",
   "metadata": {},
   "source": [
    "### Logging in Python\n",
    "\n",
    "Logging is a crucial aspect of any application, providing a way to track events, errors and operational information. Python built in loggin module offers a flexible framework for emitting log messages from python program.\n",
    "In this lesson, we will cover the basics of logging, including how to configure logging, log levels and best practices for using logging in python application\n",
    "\n"
   ]
  },
  {
   "cell_type": "code",
   "execution_count": 2,
   "metadata": {},
   "outputs": [
    {
     "name": "stderr",
     "output_type": "stream",
     "text": [
      "DEBUG:root:This is debug message\n",
      "INFO:root:This is an info message\n",
      "WARNING:root:this is warning message\n",
      "ERROR:root:This is an error message\n",
      "CRITICAL:root:This is a critical message\n"
     ]
    }
   ],
   "source": [
    "import logging\n",
    "\n",
    "#STEP 1 -  configure the basic logging setting\n",
    "logging.basicConfig(level=logging.DEBUG)\n",
    "\n",
    "# log message\n",
    "logging.debug(\"This is debug message\")\n",
    "logging.info(\"This is an info message\")\n",
    "logging.warning(\"this is warning message\")\n",
    "logging.error(\"This is an error message\")\n",
    "logging.critical(\"This is a critical message\")"
   ]
  },
  {
   "cell_type": "markdown",
   "metadata": {},
   "source": [
    "## Log Levels\n",
    "Python Logging modules has several log levels indicating the severity of events.\n",
    "Default Levels are:\n",
    "\n",
    "* DEBUG - Detailed information, typically of interest only when diagnosing problem.\n",
    "* INFO - Confirmation thatt things are working as expected.\n",
    "* WARNING - an indication that something unexpected happened or indicative of some problems in the near future. (e.g - 'Disk space low'). This software is still working as expected\n",
    "* ERROR - Due to more serious problem, the software has not been able to perform some function.\n",
    "* CRITICAL - A very serious eroor, indicating that the program itself may be unable to continue running"
   ]
  },
  {
   "cell_type": "code",
   "execution_count": 2,
   "metadata": {},
   "outputs": [],
   "source": [
    "#  Configuring logging\n",
    "import logging \n",
    "logging.basicConfig(\n",
    "    filename = 'app.log',\n",
    "    filemode = 'w',\n",
    "    level = logging.DEBUG,\n",
    "    format='%(asctime)s - %(levelname)s - %(message)s',\n",
    "    datefmt= '%Y-%m-%d %H:%M:%S'\n",
    ")\n",
    "\n",
    "# log message\n",
    "logging.debug(\"This is debug message\")\n",
    "logging.info(\"This is an info message\")\n",
    "logging.warning(\"this is warning message\")\n",
    "logging.error(\"This is an error message\")\n",
    "logging.critical(\"This is a critical message\")"
   ]
  },
  {
   "cell_type": "code",
   "execution_count": null,
   "metadata": {},
   "outputs": [],
   "source": []
  }
 ],
 "metadata": {
  "kernelspec": {
   "display_name": "Python 3",
   "language": "python",
   "name": "python3"
  },
  "language_info": {
   "codemirror_mode": {
    "name": "ipython",
    "version": 3
   },
   "file_extension": ".py",
   "mimetype": "text/x-python",
   "name": "python",
   "nbconvert_exporter": "python",
   "pygments_lexer": "ipython3",
   "version": "3.12.5"
  }
 },
 "nbformat": 4,
 "nbformat_minor": 2
}
